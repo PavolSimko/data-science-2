{
 "cells": [
  {
   "cell_type": "markdown",
<<<<<<< HEAD
   "id": "7ae64724",
=======
   "id": "58d6c570",
>>>>>>> f12a2863b8415f4ca7e3e7901f5795be8b550dca
   "metadata": {},
   "source": [
    "# Download data"
   ]
  },
  {
   "cell_type": "markdown",
<<<<<<< HEAD
   "id": "35070b6f",
=======
   "id": "939bef0d",
>>>>>>> f12a2863b8415f4ca7e3e7901f5795be8b550dca
   "metadata": {},
   "source": [
    "Download the data from <a href=\"https://www2.karlin.mff.cuni.cz/~kozmikk/files/weatherAUS.zip\" target=\"_blank\"> weather data</a> and unpack it to the Data folder."
   ]
  },
  {
   "cell_type": "markdown",
<<<<<<< HEAD
   "id": "df135abb",
=======
   "id": "cd3fbeee",
>>>>>>> f12a2863b8415f4ca7e3e7901f5795be8b550dca
   "metadata": {},
   "source": [
    "# Decision Trees & Random forests"
   ]
  },
  {
   "cell_type": "markdown",
<<<<<<< HEAD
   "id": "d12ac835",
=======
   "id": "b3635881",
>>>>>>> f12a2863b8415f4ca7e3e7901f5795be8b550dca
   "metadata": {},
   "source": [
    "**Outline**\n",
    "\n",
    "In this tutorial we learn how to train CART, CHAID decision trees and random forests on real data and how to evaluate them. We also create simple random forest.\n",
    "\n",
    "We proceed as follows:\n",
    "\n",
    "- import data and handle missing values\n",
    "- split data to train and test samples using stratification\n",
    "- separately for CART and CHAID models we perform\n",
    "    - train decision tree and assess the performance\n",
    "    - inspect importance of predictors (available for CART only)\n",
    "    - evaluate the model performance in time\n",
    "- based on CART tree we manually construct random forest\n",
    "- we create and assess random forest model separately using two different encodings of categorical predictors\n",
    "    - one-hot encoding\n",
    "    - mean-target encoding\n",
    "    \n",
    "Additional resources:\n",
    "\n",
    "- https://towardsdatascience.com/cart-classification-and-regression-trees-for-clean-but-powerful-models-cc89e60b7a85\n",
    "- https://towardsdatascience.com/random-forest-in-python-24d0893d51c0\n",
    "- https://github.com/WillKoehrsen/Data-Analysis\n",
    "\n",
    "    \n",
    "Implementation limitations: CART only supports continuous predictors, whereas CHAID supports only categorical (either nominal or ordinal)"
   ]
  },
  {
   "cell_type": "markdown",
<<<<<<< HEAD
   "id": "e8598155",
=======
   "id": "92d3c33f",
>>>>>>> f12a2863b8415f4ca7e3e7901f5795be8b550dca
   "metadata": {},
   "source": [
    "## Imports"
   ]
  },
  {
   "cell_type": "code",
<<<<<<< HEAD
   "execution_count": 3,
   "id": "8d002383",
=======
   "execution_count": 1,
   "id": "a57791cd",
>>>>>>> f12a2863b8415f4ca7e3e7901f5795be8b550dca
   "metadata": {},
   "outputs": [],
   "source": [
    "import pandas as pd\n",
    "import numpy as np\n",
    "import matplotlib.pyplot as plt\n",
    "\n",
    "from random import sample\n",
    "\n",
    "from sklearn.model_selection import train_test_split\n",
    "from sklearn.metrics import classification_report\n",
    "from sklearn.metrics import roc_auc_score\n",
    "from sklearn import tree\n",
    "from sklearn.ensemble import RandomForestRegressor\n",
    "\n",
    "#import CHAID #bude sa potom riesit, este to nie je naistalovane\n",
    "\n",
    "pd.set_option('mode.chained_assignment',None)"
   ]
  },
  {
   "cell_type": "markdown",
<<<<<<< HEAD
   "id": "03bf3152",
=======
   "id": "5e8edb4b",
>>>>>>> f12a2863b8415f4ca7e3e7901f5795be8b550dca
   "metadata": {},
   "source": [
    "## Load data\n",
    "\n",
    "Weather data from Australia. The task is to predict if tomorrow is going to rain based on today's weather characteristics.\n",
    "\n",
    "Source: https://www.kaggle.com/jsphyg/weather-dataset-rattle-package\n",
    "\n",
    "**Target description**\n",
    "\n",
    "- RainTomorrow: 1 if precipitation (mm) in the 24 hours to 9am exceeds 1mm, otherwise 0 for the next day\n",
    "\n",
    "**Predictors description**\n",
    "\n",
    "- MinTemp: The minimum temperature in degrees celsius\n",
    "- MaxTemp: The maximum temperature in degrees celsius\n",
    "- Sunshine: The number of hours of bright sunshine in the day.\n",
    "- WindGustSpeed: The speed (km/h) of the strongest wind gust in the 24 hours to midnight\n",
    "- Humidity9am: Humidity (percent) at 9am\n",
    "- Humidity3pm: Humidity (percent) at 3pm\n",
    "- Pressure9am: Atmospheric pressure (hpa) reduced to mean sea level at 9am\n",
    "- Pressure3pm: Atmospheric pressure (hpa) reduced to mean sea level at 3pm\n",
    "- RainToday: 1 if precipitation (mm) in the 24 hours to 9am exceeds 1mm, otherwise 0\n",
    "\n",
    "\n"
   ]
  },
  {
   "cell_type": "markdown",
<<<<<<< HEAD
   "id": "a7f1419f",
=======
   "id": "c8212ff3",
>>>>>>> f12a2863b8415f4ca7e3e7901f5795be8b550dca
   "metadata": {},
   "source": [
    "We import data and keep only several columns for simplicity and certain time period for simplicity."
   ]
  },
  {
   "cell_type": "code",
   "execution_count": 2,
<<<<<<< HEAD
   "id": "005f5252",
=======
   "id": "e8810d97",
>>>>>>> f12a2863b8415f4ca7e3e7901f5795be8b550dca
   "metadata": {},
   "outputs": [
    {
     "name": "stdout",
     "output_type": "stream",
     "text": [
      "Number of rows:      26557\n",
      "Number of columns:   11\n"
     ]
    }
   ],
   "source": [
    "# Import dataset\n",
    "data_all = pd.read_csv('.\\..\\Data\\weatherAUS.csv', encoding='utf-8')\n",
    "\n",
    "# Keep only specified columns and rows\n",
    "columns = [\"Date\", \"MinTemp\", \"MaxTemp\", \"Sunshine\", \"WindGustSpeed\", \"Humidity9am\", \"Humidity3pm\", \"Pressure9am\", \"Pressure3pm\", \"RainToday\", \"RainTomorrow\"]\n",
    "data = data_all.loc[data_all['Date']>='2016-01-01', columns]\n",
    "\n",
    "# Convert date to datetime format\n",
    "data['Date'] = pd.to_datetime(data['Date'])\n",
    "\n",
    "print(f'Number of rows:      {data.shape[0]}')\n",
    "print(f'Number of columns:   {data.shape[1]}')"
   ]
  },
  {
   "cell_type": "code",
<<<<<<< HEAD
   "execution_count": 4,
   "id": "5d8759bf",
=======
   "execution_count": 3,
   "id": "70758ec4",
>>>>>>> f12a2863b8415f4ca7e3e7901f5795be8b550dca
   "metadata": {},
   "outputs": [
    {
     "data": {
      "text/html": [
       "<div>\n",
       "<style scoped>\n",
       "    .dataframe tbody tr th:only-of-type {\n",
       "        vertical-align: middle;\n",
       "    }\n",
       "\n",
       "    .dataframe tbody tr th {\n",
       "        vertical-align: top;\n",
       "    }\n",
       "\n",
       "    .dataframe thead th {\n",
       "        text-align: right;\n",
       "    }\n",
       "</style>\n",
       "<table border=\"1\" class=\"dataframe\">\n",
       "  <thead>\n",
       "    <tr style=\"text-align: right;\">\n",
       "      <th></th>\n",
       "      <th>Date</th>\n",
       "      <th>MinTemp</th>\n",
       "      <th>MaxTemp</th>\n",
       "      <th>Sunshine</th>\n",
       "      <th>WindGustSpeed</th>\n",
       "      <th>Humidity9am</th>\n",
       "      <th>Humidity3pm</th>\n",
       "      <th>Pressure9am</th>\n",
       "      <th>Pressure3pm</th>\n",
       "      <th>RainToday</th>\n",
       "      <th>RainTomorrow</th>\n",
       "    </tr>\n",
       "  </thead>\n",
       "  <tbody>\n",
       "    <tr>\n",
       "      <th>2498</th>\n",
       "      <td>2016-01-01</td>\n",
       "      <td>20.4</td>\n",
       "      <td>37.6</td>\n",
       "      <td>NaN</td>\n",
       "      <td>54.0</td>\n",
       "      <td>46.0</td>\n",
       "      <td>17.0</td>\n",
       "      <td>1013.4</td>\n",
       "      <td>1009.2</td>\n",
       "      <td>No</td>\n",
       "      <td>No</td>\n",
       "    </tr>\n",
       "    <tr>\n",
       "      <th>2499</th>\n",
       "      <td>2016-01-02</td>\n",
       "      <td>20.9</td>\n",
       "      <td>33.6</td>\n",
       "      <td>NaN</td>\n",
       "      <td>50.0</td>\n",
       "      <td>54.0</td>\n",
       "      <td>30.0</td>\n",
       "      <td>1011.1</td>\n",
       "      <td>1008.4</td>\n",
       "      <td>No</td>\n",
       "      <td>Yes</td>\n",
       "    </tr>\n",
       "    <tr>\n",
       "      <th>2500</th>\n",
       "      <td>2016-01-03</td>\n",
       "      <td>18.4</td>\n",
       "      <td>23.1</td>\n",
       "      <td>NaN</td>\n",
       "      <td>48.0</td>\n",
       "      <td>62.0</td>\n",
       "      <td>67.0</td>\n",
       "      <td>1014.0</td>\n",
       "      <td>1014.8</td>\n",
       "      <td>Yes</td>\n",
       "      <td>Yes</td>\n",
       "    </tr>\n",
       "    <tr>\n",
       "      <th>2501</th>\n",
       "      <td>2016-01-04</td>\n",
       "      <td>17.3</td>\n",
       "      <td>23.7</td>\n",
       "      <td>NaN</td>\n",
       "      <td>39.0</td>\n",
       "      <td>74.0</td>\n",
       "      <td>65.0</td>\n",
       "      <td>1017.9</td>\n",
       "      <td>1016.5</td>\n",
       "      <td>Yes</td>\n",
       "      <td>Yes</td>\n",
       "    </tr>\n",
       "    <tr>\n",
       "      <th>2502</th>\n",
       "      <td>2016-01-05</td>\n",
       "      <td>15.5</td>\n",
       "      <td>22.9</td>\n",
       "      <td>NaN</td>\n",
       "      <td>31.0</td>\n",
       "      <td>92.0</td>\n",
       "      <td>63.0</td>\n",
       "      <td>1016.3</td>\n",
       "      <td>1013.9</td>\n",
       "      <td>Yes</td>\n",
       "      <td>No</td>\n",
       "    </tr>\n",
       "  </tbody>\n",
       "</table>\n",
       "</div>"
      ],
      "text/plain": [
       "           Date  MinTemp  MaxTemp  Sunshine  WindGustSpeed  Humidity9am  \\\n",
       "2498 2016-01-01     20.4     37.6       NaN           54.0         46.0   \n",
       "2499 2016-01-02     20.9     33.6       NaN           50.0         54.0   \n",
       "2500 2016-01-03     18.4     23.1       NaN           48.0         62.0   \n",
       "2501 2016-01-04     17.3     23.7       NaN           39.0         74.0   \n",
       "2502 2016-01-05     15.5     22.9       NaN           31.0         92.0   \n",
       "\n",
       "      Humidity3pm  Pressure9am  Pressure3pm RainToday RainTomorrow  \n",
       "2498         17.0       1013.4       1009.2        No           No  \n",
       "2499         30.0       1011.1       1008.4        No          Yes  \n",
       "2500         67.0       1014.0       1014.8       Yes          Yes  \n",
       "2501         65.0       1017.9       1016.5       Yes          Yes  \n",
       "2502         63.0       1016.3       1013.9       Yes           No  "
      ]
     },
<<<<<<< HEAD
     "execution_count": 4,
=======
     "execution_count": 3,
>>>>>>> f12a2863b8415f4ca7e3e7901f5795be8b550dca
     "metadata": {},
     "output_type": "execute_result"
    }
   ],
   "source": [
    "data.head()"
   ]
  },
  {
   "cell_type": "markdown",
<<<<<<< HEAD
   "id": "ceccac4b",
=======
   "id": "96c0516f",
>>>>>>> f12a2863b8415f4ca7e3e7901f5795be8b550dca
   "metadata": {},
   "source": [
    "# CART\n",
    "\n",
    "Implementation: https://scikit-learn.org/stable/modules/generated/sklearn.tree.DecisionTreeClassifier.html#sklearn.tree.DecisionTreeClassifier\n",
    "\n",
    "We use implementation from sci-kit learn package. The implementation has several characteristics:\n",
    "\n",
    "- Missing values are not supported\n",
    "- Assumes the predictors to be numeric variables (either continuous or ordinal categories). \n",
    "- Both categorical and continuous targets are possible (we chose either DecisionTreeClassification or DecisionTreeRegression class according to our task)\n",
    "\n",
    "Short description:\n",
    "\n",
    "In each node we iterate over randomly chosen set of predictors and compute gain for each predictors measured using defined measure and assuming different possible splits over this predictor. Using the best predictor we perform split into two subtrees. See details of the implementation for further parameters that influence stopping of the algorithm."
   ]
  },
  {
   "cell_type": "markdown",
<<<<<<< HEAD
   "id": "2d9c1c6a",
=======
   "id": "fb5d4214",
>>>>>>> f12a2863b8415f4ca7e3e7901f5795be8b550dca
   "metadata": {},
   "source": [
    "## Data Manipulation"
   ]
  },
  {
   "cell_type": "markdown",
<<<<<<< HEAD
   "id": "0915ce76",
=======
   "id": "067a276c",
>>>>>>> f12a2863b8415f4ca7e3e7901f5795be8b550dca
   "metadata": {},
   "source": [
    "We copy our data to 'data_cart' dataframe.\n",
    "\n",
    "First, we handle missing values, then encode all predictors as numerical."
   ]
  },
  {
   "cell_type": "code",
<<<<<<< HEAD
   "execution_count": 5,
   "id": "36242c1a",
=======
   "execution_count": 4,
   "id": "846e1716",
>>>>>>> f12a2863b8415f4ca7e3e7901f5795be8b550dca
   "metadata": {},
   "outputs": [],
   "source": [
    "data_cart = data.copy()"
   ]
  },
  {
   "cell_type": "markdown",
<<<<<<< HEAD
   "id": "82a5e25d",
=======
   "id": "a989cc78",
>>>>>>> f12a2863b8415f4ca7e3e7901f5795be8b550dca
   "metadata": {},
   "source": [
    "### Missing values"
   ]
  },
  {
   "cell_type": "code",
<<<<<<< HEAD
   "execution_count": 15,
   "id": "efb629f2",
=======
   "execution_count": 5,
   "id": "c848b0ac",
>>>>>>> f12a2863b8415f4ca7e3e7901f5795be8b550dca
   "metadata": {
    "scrolled": true
   },
   "outputs": [
    {
     "data": {
      "text/plain": [
       "Date                  0\n",
       "MinTemp               0\n",
       "MaxTemp               0\n",
       "Sunshine              0\n",
       "WindGustSpeed         0\n",
       "Humidity9am           0\n",
       "Humidity3pm           0\n",
       "Pressure9am           0\n",
       "Pressure3pm           0\n",
       "RainToday           264\n",
       "RainTomorrow          0\n",
       "RainTodayFlag         0\n",
       "RainTomorrowFlag      0\n",
       "dtype: int64"
      ]
     },
<<<<<<< HEAD
     "execution_count": 15,
=======
     "execution_count": 5,
>>>>>>> f12a2863b8415f4ca7e3e7901f5795be8b550dca
     "metadata": {},
     "output_type": "execute_result"
    }
   ],
   "source": [
    "# Number of missing values in each column\n",
    "data_cart.isna().sum()"
   ]
  },
  {
   "cell_type": "code",
<<<<<<< HEAD
   "execution_count": 16,
   "id": "b8c4b35c",
=======
   "execution_count": 6,
   "id": "f0606eba",
>>>>>>> f12a2863b8415f4ca7e3e7901f5795be8b550dca
   "metadata": {},
   "outputs": [
    {
     "name": "stderr",
     "output_type": "stream",
     "text": [
<<<<<<< HEAD
      "C:\\Users\\Acer\\AppData\\Local\\Temp/ipykernel_21272/2665001664.py:4: FutureWarning: DataFrame.mean and DataFrame.median with numeric_only=None will include datetime64 and datetime64tz columns in a future version.\n",
      "  data_cart = data_cart.fillna(data_cart.mean())\n",
      "C:\\Users\\Acer\\AppData\\Local\\Temp/ipykernel_21272/2665001664.py:4: FutureWarning: Dropping of nuisance columns in DataFrame reductions (with 'numeric_only=None') is deprecated; in a future version this will raise TypeError.  Select only valid columns before calling the reduction.\n",
      "  data_cart = data_cart.fillna(data_cart.mean())\n"
=======
      "C:\\Users\\karel\\AppData\\Local\\Temp/ipykernel_14816/3016584762.py:4: FutureWarning: DataFrame.mean and DataFrame.median with numeric_only=None will include datetime64 and datetime64tz columns in a future version.\n",
      "  data_cart=data_cart.fillna(data_cart.mean()) #(TODO)\n",
      "C:\\Users\\karel\\AppData\\Local\\Temp/ipykernel_14816/3016584762.py:4: FutureWarning: Dropping of nuisance columns in DataFrame reductions (with 'numeric_only=None') is deprecated; in a future version this will raise TypeError.  Select only valid columns before calling the reduction.\n",
      "  data_cart=data_cart.fillna(data_cart.mean()) #(TODO)\n"
>>>>>>> f12a2863b8415f4ca7e3e7901f5795be8b550dca
     ]
    }
   ],
   "source": [
    "# TODO: Handle missing values for both predictors and target\n",
    "\n",
<<<<<<< HEAD
    "data_cart = data_cart.dropna(subset=['RainTomorrow'])\n",
    "data_cart = data_cart.fillna(data_cart.mean())\n",
    "data_cart['RainToday'] = data_cart['RainToday'].fillna(0.5)"
=======
    "data_cart=data_cart[pd.isnull(data_cart['RainTomorrow'])==False] #(TODO)\n",
    "data_cart=data_cart.fillna(data_cart.mean()) #(TODO)"
>>>>>>> f12a2863b8415f4ca7e3e7901f5795be8b550dca
   ]
  },
  {
   "cell_type": "markdown",
<<<<<<< HEAD
   "id": "6d62b9e2",
=======
   "id": "c1ff4cb9",
>>>>>>> f12a2863b8415f4ca7e3e7901f5795be8b550dca
   "metadata": {},
   "source": [
    "### Predictor type"
   ]
  },
  {
   "cell_type": "code",
<<<<<<< HEAD
   "execution_count": 17,
   "id": "b600bf40",
=======
   "execution_count": 7,
   "id": "ddff2448",
>>>>>>> f12a2863b8415f4ca7e3e7901f5795be8b550dca
   "metadata": {},
   "outputs": [
    {
     "data": {
      "text/plain": [
       "Date                datetime64[ns]\n",
       "MinTemp                    float64\n",
       "MaxTemp                    float64\n",
       "Sunshine                   float64\n",
       "WindGustSpeed              float64\n",
       "Humidity9am                float64\n",
       "Humidity3pm                float64\n",
       "Pressure9am                float64\n",
       "Pressure3pm                float64\n",
       "RainToday                   object\n",
       "RainTomorrow                object\n",
       "RainTodayFlag                int64\n",
       "RainTomorrowFlag             int64\n",
       "dtype: object"
      ]
     },
<<<<<<< HEAD
     "execution_count": 17,
=======
     "execution_count": 7,
>>>>>>> f12a2863b8415f4ca7e3e7901f5795be8b550dca
     "metadata": {},
     "output_type": "execute_result"
    }
   ],
   "source": [
    "# We check the format of the data\n",
    "data_cart.dtypes"
   ]
  },
  {
   "cell_type": "code",
<<<<<<< HEAD
   "execution_count": 12,
   "id": "ddea1898",
=======
   "execution_count": 8,
   "id": "fa83a695",
>>>>>>> f12a2863b8415f4ca7e3e7901f5795be8b550dca
   "metadata": {},
   "outputs": [],
   "source": [
    "# Re-encode. Column 'Date' will not be used for prediction, therefore, no need to encode it. Only 'RainToday' and 'RainTomorrow' should be re-encoded.\n",
    "\n",
    "# TODO: Convert values of 'RainToday' and 'RainTomorrow' into 0-1 encoding. You can use .apply function to use row-by-row notation.\n",
<<<<<<< HEAD
    "data_cart['RainTodayFlag'] = data_cart['RainToday'].apply(lambda x: 0 if x == 'No' else 1)\n",
    "data_cart['RainTomorrowFlag'] = data_cart['RainTomorrow'].apply(lambda x: 0 if x == 'No' else 1)"
=======
    "data_cart['RainTodayFlag']=data_cart['RainToday'].apply(lambda x: 1 if x=='Yes' else 0) #(TODO)\n",
    "data_cart['RainTomorrowFlag']=data_cart['RainTomorrow'].apply(lambda x: 1 if x=='Yes' else 0) #(TODO)"
>>>>>>> f12a2863b8415f4ca7e3e7901f5795be8b550dca
   ]
  },
  {
   "cell_type": "code",
<<<<<<< HEAD
   "execution_count": 18,
   "id": "d102d959",
=======
   "execution_count": 9,
   "id": "490d29b7",
>>>>>>> f12a2863b8415f4ca7e3e7901f5795be8b550dca
   "metadata": {},
   "outputs": [],
   "source": [
    "# We denote 'target' the name of the column with target values. 'predictors' stands for the list of all predictors\n",
    "\n",
    "target = 'RainTomorrowFlag'\n",
    "\n",
    "predictors = columns.copy()\n",
    "predictors.remove('Date')\n",
    "predictors.remove('RainToday')\n",
    "predictors.remove('RainTomorrow')\n",
    "predictors += [\"RainTodayFlag\"]"
   ]
  },
  {
   "cell_type": "code",
<<<<<<< HEAD
   "execution_count": 19,
   "id": "ea3bc3a2",
=======
   "execution_count": 10,
   "id": "b3c256a1",
>>>>>>> f12a2863b8415f4ca7e3e7901f5795be8b550dca
   "metadata": {},
   "outputs": [
    {
     "data": {
      "text/plain": [
       "['MinTemp',\n",
       " 'MaxTemp',\n",
       " 'Sunshine',\n",
       " 'WindGustSpeed',\n",
       " 'Humidity9am',\n",
       " 'Humidity3pm',\n",
       " 'Pressure9am',\n",
       " 'Pressure3pm',\n",
       " 'RainTodayFlag']"
      ]
     },
<<<<<<< HEAD
     "execution_count": 19,
=======
     "execution_count": 10,
>>>>>>> f12a2863b8415f4ca7e3e7901f5795be8b550dca
     "metadata": {},
     "output_type": "execute_result"
    }
   ],
   "source": [
    "predictors"
   ]
  },
  {
   "cell_type": "markdown",
<<<<<<< HEAD
   "id": "c885d170",
=======
   "id": "45c447cf",
>>>>>>> f12a2863b8415f4ca7e3e7901f5795be8b550dca
   "metadata": {},
   "source": [
    "## Split & train"
   ]
  },
  {
   "cell_type": "markdown",
<<<<<<< HEAD
   "id": "912b3d2d",
=======
   "id": "df382fbb",
>>>>>>> f12a2863b8415f4ca7e3e7901f5795be8b550dca
   "metadata": {},
   "source": [
    "We split the data into train and test datasets. We use stratification by 'Month' for further model evaluation."
   ]
  },
  {
   "cell_type": "code",
<<<<<<< HEAD
   "execution_count": 20,
   "id": "79d94df2",
=======
   "execution_count": 11,
   "id": "70a196fa",
>>>>>>> f12a2863b8415f4ca7e3e7901f5795be8b550dca
   "metadata": {},
   "outputs": [
    {
     "data": {
      "text/plain": [
       "5     3007\n",
       "3     2945\n",
       "1     2943\n",
       "4     2885\n",
       "2     2714\n",
       "6     2660\n",
       "8     1515\n",
       "7     1511\n",
       "10    1499\n",
       "9     1444\n",
       "11    1434\n",
       "12    1417\n",
       "Name: Month, dtype: int64"
      ]
     },
<<<<<<< HEAD
     "execution_count": 20,
=======
     "execution_count": 11,
>>>>>>> f12a2863b8415f4ca7e3e7901f5795be8b550dca
     "metadata": {},
     "output_type": "execute_result"
    }
   ],
   "source": [
    "# We have only one year of observations, therefore only numbers 1-12 can be used to encode month.\n",
    "data_cart['Month'] = data_cart['Date'].dt.month\n",
    "data_cart['Month'].value_counts()"
   ]
  },
  {
   "cell_type": "code",
<<<<<<< HEAD
   "execution_count": 21,
   "id": "7b405069",
=======
   "execution_count": 12,
   "id": "ee1ac988",
>>>>>>> f12a2863b8415f4ca7e3e7901f5795be8b550dca
   "metadata": {},
   "outputs": [],
   "source": [
    "# TODO: Split the data into 'data_cart_train' and 'data_cart_test' datasets. Use stratification by 'Month'.\n",
    "# Use function 'train_test_split' from 'sklearn.model_selection' package and choose parameters carefully.\n",
    "\n",
<<<<<<< HEAD
    "data_cart_train, data_cart_test = train_test_split(data_cart, test_size=0.2, random_state=17, stratify=data_cart['Month'])"
=======
    "data_cart_train, data_cart_test = train_test_split(\n",
    "    data_cart, test_size=0.2, random_state=17, stratify=data_cart['Month']\n",
    ")"
>>>>>>> f12a2863b8415f4ca7e3e7901f5795be8b550dca
   ]
  },
  {
   "cell_type": "code",
<<<<<<< HEAD
   "execution_count": 24,
   "id": "107bbe51",
=======
   "execution_count": 13,
   "id": "d633db81",
>>>>>>> f12a2863b8415f4ca7e3e7901f5795be8b550dca
   "metadata": {},
   "outputs": [
    {
     "name": "stdout",
     "output_type": "stream",
     "text": [
      "*************** Tree Summary ***************\n",
      "Classes:  [0 1]\n",
      "Tree Depth:  3\n",
      "No. of leaves:  8\n",
      "No. of features:  9\n",
      "--------------------------------------------------------\n",
      "\n",
      "*************** Evaluation on Test Data ***************\n",
      "Accuracy Score:  0.8242540904716074\n",
      "              precision    recall  f1-score   support\n",
      "\n",
      "           0       0.84      0.95      0.89      3999\n",
      "           1       0.71      0.40      0.51      1196\n",
      "\n",
      "    accuracy                           0.82      5195\n",
      "   macro avg       0.78      0.68      0.70      5195\n",
      "weighted avg       0.81      0.82      0.81      5195\n",
      "\n",
      "--------------------------------------------------------\n",
      "\n",
      "*************** Evaluation on Training Data ***************\n",
      "Accuracy Score:  0.8228499927811733\n",
      "              precision    recall  f1-score   support\n",
      "\n",
      "           0       0.84      0.95      0.89     16029\n",
      "           1       0.71      0.38      0.50      4750\n",
      "\n",
      "    accuracy                           0.82     20779\n",
      "   macro avg       0.77      0.67      0.69     20779\n",
      "weighted avg       0.81      0.82      0.80     20779\n",
      "\n",
      "--------------------------------------------------------\n"
     ]
    },
    {
     "name": "stderr",
     "output_type": "stream",
     "text": [
      "C:\\ProgramData\\Anaconda3\\lib\\site-packages\\sklearn\\utils\\deprecation.py:103: FutureWarning: The attribute `n_features_` is deprecated in 1.0 and will be removed in 1.2. Use `n_features_in_` instead.\n",
      "  warnings.warn(msg, category=FutureWarning)\n"
     ]
    }
   ],
   "source": [
    "# Now we can fit the model.\n",
    "\n",
    "# TODO: Check the documentation for parameters' interpretation: https://scikit-learn.org/stable/modules/generated/sklearn.tree.DecisionTreeClassifier.html#sklearn.tree.DecisionTreeClassifier\n",
    "# Build the model and choose the parameters carefully.\n",
    "\n",
<<<<<<< HEAD
    "criterion = 'gini'\n",
    "splitter = 'best'\n",
    "mdepth = 3\n",
    "min_samples_split = 20\n",
    "min_samples_leaf = 5\n",
=======
    "criterion = 'gini' #(TODO)\n",
    "splitter = 'best' #(TODO)\n",
    "mdepth = 4 #(TODO)\n",
    "min_samples_split = 5 #(TODO)\n",
    "min_samples_leaf = 0.001 #(TODO)\n",
    "minleaf = 100 #(TODO)\n",
>>>>>>> f12a2863b8415f4ca7e3e7901f5795be8b550dca
    "random_state = 17\n",
    "\n",
    "# Now we contruct the model.\n",
    "model = tree.DecisionTreeClassifier(\n",
    "    criterion=criterion,\n",
    "    splitter=splitter, \n",
    "    max_depth=mdepth,\n",
    "    min_samples_split=min_samples_split,\n",
    "    min_samples_leaf=min_samples_leaf,\n",
    "    random_state=random_state, \n",
    ")\n",
    "\n",
    "# And fit training data.\n",
    "\n",
    "clf = model.fit(data_cart_train[predictors], data_cart_train[target])\n",
    "\n",
    "# Predict class labels on training data\n",
    "pred_labels_tr = model.predict(data_cart_train[predictors])\n",
    "# Predict class labels on a test data\n",
    "pred_labels_te = model.predict(data_cart_test[predictors])\n",
    "\n",
    "# Tree summary and model evaluation metrics\n",
    "print('*************** Tree Summary ***************')\n",
    "print('Classes: ', clf.classes_)\n",
    "print('Tree Depth: ', clf.tree_.max_depth)\n",
    "print('No. of leaves: ', clf.tree_.n_leaves)\n",
    "print('No. of features: ', clf.n_features_)\n",
    "print('--------------------------------------------------------')\n",
    "print(\"\")\n",
    "\n",
    "print('*************** Evaluation on Test Data ***************')\n",
    "score_te = model.score(data_cart_test[predictors], data_cart_test[target])\n",
    "print('Accuracy Score: ', score_te)\n",
    "# Look at classification report to evaluate the model\n",
    "print(classification_report(data_cart_test[target], pred_labels_te))\n",
    "print('--------------------------------------------------------')\n",
    "print(\"\")\n",
    "\n",
    "print('*************** Evaluation on Training Data ***************')\n",
    "score_tr = model.score(data_cart_train[predictors], data_cart_train[target])\n",
    "print('Accuracy Score: ', score_tr)\n",
    "# Look at classification report to evaluate the model\n",
    "print(classification_report(data_cart_train[target], pred_labels_tr))\n",
    "print('--------------------------------------------------------')"
   ]
  },
  {
   "cell_type": "code",
<<<<<<< HEAD
   "execution_count": 25,
   "id": "9417d00c",
   "metadata": {},
   "outputs": [
    {
     "data": {
      "image/png": "iVBORw0KGgoAAAANSUhEUgAABYEAAAVdCAYAAAChM4bhAAAAOXRFWHRTb2Z0d2FyZQBNYXRwbG90bGliIHZlcnNpb24zLjUuMCwgaHR0cHM6Ly9tYXRwbG90bGliLm9yZy8/fFQqAAAACXBIWXMAAAsTAAALEwEAmpwYAAEAAElEQVR4nOzdeZyW8/7H8fenqWamZkqLmkoqIpH9nKjQMqWFolCiFIWkrJEjR5HlOA7nSKHQTtJiS+u0OCU/ojjWNoUyZS9pnZnP748Zt0bbTLNc91zzej4e38dxX/f3uu73HTrf3q75XubuAgAAAAAAAACEU4mgAwAAAAAAAAAACg4lMAAAAAAAAACEGCUwAAAAAAAAAIQYJTAAAAAAAAAAhBglMAAAAAAAAACEGCUwAAAAAAAAAIQYJTAAAAAAAAAAhBglMAAAAAAAAACEGCUwAAAAAAAAAIQYJTAAAAAAAAAAhBglMAAAAAAAAACEGCUwAAAAAAAAAIQYJTAAAAAAAAAAhBglMAAAAAAAAACEGCUwAAAAAAAAAIQYJTAAAAAAAAAAhBglMAAAAAAAAACEGCUwAAAAAAAAAIQYJTAAAAAAAAAAhBglMAAAAAAAAACEGCUwAAAAAAAAAIQYJTAAAAAAAAAAhBglMAAAAAAAAACEGCUwAAAAAAAAAIQYJTAAAAAAAAAAhBglMAAAAAAAAACEGCUwAAAAAAAAAIQYJTAAAAAAAAAAhBglMAAAAAAAAACEGCUwAAAAAAAAAIQYJTAAAAAAAAAAhBglMAAAAAAAAACEGCUwAAAAAAAAAIQYJTAAAAAAAAAAhBglMAAAAAAAAACEGCUwAAAAAAAAAIQYJTAAAAAAAAAAhBglMAAAAAAAAACEGCUwAAAAAAAAAIQYJTAAAAAAAAAAhBglMAAAAAAAAACEGCUwAAAAAAAAAIQYJTAAAAAAAAAAhBglMAAAAAAAAACEGCUwAAAAAAAAAIQYJTAAAAAAAAAAhBglMAAAAAAAAACEGCUwAAAAAAAAAIQYJTAAAAAAAAAAhBglMAAAAAAAAACEGCUwAAAAAAAAAIQYJTAAAAAAAAAAhBglMAAAAAAAAACEGCUwAAAAAAAAAIQYJTAAAAAAAAAAhBglMAAAAAAAAACEGCUwAAAAAAAAAIQYJTAAAAAAAAAAhBglMAAAAAAAAACEGCUwAAAAAAAAAIQYJTAAAAAAAAAAhBglMAAAAAAAAACEGCUwAAAAAAAAAIQYJTAAAAAAAAAAhBglMAAAAAAAAACEGCUwAAAAAAAAAIQYJTAAAAAAAAAAhBglMAAAAAAAAACEGCUwAAAAAAAAAIQYJTAAAAAAAAAAhBglMAAAAAAAAACEGCUwAAAAAAAAAIQYJTAAAAAAAAAAhBglMAAAAAAAAACEGCUwAAAAAAAAAIQYJTAAAAAAAAAAhBglMAAAAAAAAACEGCUwAAAAAAAAAIQYJTAAAAAAAAAAhBglMAAAAAAAAACEGCUwAAAAAAAAAIQYJTAAAAAAAAAAhBglMAAAAAAAAACEGCUwAAAAAAAAAIQYJTAAAAAAAAAAhBglMAAAAAAAAACEGCUwAAAAAAAAAIQYJTAAAAAAAAAAhBglMAAAAAAAAACEGCUwAAAAAAAAAIQYJTAAAAAAAAAAhBglMAAAAAAAAACEGCUwAAAAAAAAAIQYJTAAAAAAAAAAhBglMAAAAAAAAACEGCUwAAAAAAAAAIQYJTAAAAAAAAAAhBglMAAAAAAAAACEGCUwAAAAAAAAAIQYJTAAAAAAAAAAhBglMAAAAAAAAACEGCUwAAAAAAAAAIQYJTAAAAAAAAAAhBglMAAAAAAAAACEGCUwAAAAAAAAAIQYJTAAAAAAAAAAhBglMAAAAAAAAACEGCUwAAAAAAAAAIQYJTAAAAAAAAAAhBglMAAAAAAAAACEGCUwAAAAAAAAAIQYJTAAAAAAAAAAhBglMAAAAAAAAACEGCUwAAAAAAAAAIQYJTAAAAAAAAAAhBglMAAAAAAAAACEGCUwAAAAAAAAAIQYJTAAAAAAAAAAhBglMAAAAAAAAACEGCUwAAAAAAAAAIQYJTAAAAAAAAAAhBglMAAAAAAAAACEGCUwAAAAAAAAAIQYJTAAAAAAAAAAhBglMAAAAAAAAACEGCUwAAAAAAAAAIQYJTAAAAAAAAAAhBglMAAAAAAAAACEGCUwAAAAAAAAAIQYJTAAAAAAAAAAhBglMAAAAAAAAACEGCUwAAAAAAAAAIQYJTAAAAAAAAAAhBglMAAAAAAAAACEGCUwAAAAAAAAAIQYJTAAAAAAAAAAhBglMAAAAAAAAACEGCUwAAAAAAAAAIQYJTAAAAAAAAAAhFjJoAMAAABg/+Lj4zft3LmzatA5gNyIi4vbvGPHjqSgcwAAAOAP5u5BZwAAAMB+mJmzVkNRY2Zydws6BwAAAP7AdhAAAAAAAAAAEGKUwAAAAAAAAAAQYpTAAAAAAAAAABBilMAAAAAAAAAAEGKUwAAAAChQtWvXlpnJzPTJJ5/k6tzKlStHzt2wYUMBJQQAAADCjRIYAAAAuebuSk5O1nnnnaeMjIxs711wwQU666yzlJaWFjk2cOBApaam6oQTTogc+73c3XsMGTIk27U+++wzTZs2rUC/y+EYMmTIfvObmZYtWxaZt23bNl133XWqVKmSypYtq3bt2unLL7886LXHjh273+uuX7++gL8VAAAAwooSGAAAALlmZho7dqw+/vhjPfroo5HjI0aM0KJFizRx4kSVLFkycjwhIUFJSUnZjknS8OHDlZqaGhkDBgzI9n6VKlVUsWLFPOfdsWOHvv/++zxf53cDBgzIljs1NVWXXnqp6tatq7/85S+ReT169ND8+fM1depULVmyRBkZGTr//PO1c+fOg14/JiZmn+vXrFkz3/IDAACgeCl56CkAAADAvmrWrKmnnnpKPXv2VOvWrRUbG6s77rhD//73v3Xcccfl6Brly5dXUlJSgeTLyMjQwoULNXHiRE2bNk1PPvmkevTokS/XTkhIUEJCQuT1li1bNHPmzMgdwpK0evVqTZ8+XXPmzFHz5s0lSZMmTVJSUpImT558yCwF9esCAACA4oc7gQEAAHDYunbtqk6dOqlbt2668sorlZycrOuvvz7H5w8cOFCVK1fWmWeeqcceeyzbFhKH66OPPtIdd9yho48+Wh07dlR6erqmTJmibt26Reb06dMnUuQeaLzwwgs5/szx48crLS1NPXv2jBxbsmSJSpUqpeTk5MixChUqqGHDhlq8ePFBr5eenq46deqoevXqat26tZYuXZrzXwAAAADgT7gTGAAAAHkyYsQI1ahRQ6VLl9bs2bNzfN7QoUPVokULlS1bVm+//bbuvvtuffXVVxo2bFiuM2zcuFETJ07UxIkTtWrVKrVp00aPPfaYOnTooPj4+H3m33///ftsPfFnVatWzfHnjxo1Sp06ddKRRx4ZOZaamqrKlSsrJiYm29ykpCSlpqYe8Fr16tXT+PHjdcopp2jbtm169tlndd5552np0qVq2LBhjjMBAAAAv6MEBgAAQJ5MmDBBZqZt27Zp+fLlatOmTY7Ou+eeeyJ/feqppyouLk69e/fWAw88oHLlyuUqw6BBgzRu3Di1atVKs2fPVo0aNQ46v0qVKqpSpUquPuNA3n77bX3yySd68sknc3zO71tG7E+jRo3UqFGjyOsmTZpo3bp1euSRR6LyIXkAAACIfmwHAQAAgMP22Wef6a677tITTzyhm266Sb169dLPP/98WNc666yz5O5avXp1rs8dPHiwBg8erC+//FL169fXVVddpdmzZx9we4n83A7imWeeUb169dSsWbNsx6tVq6YffvhB6enp2Y5v2rQp1/v9NmzYUKtWrcrVOQAAAMDvKIEBAABwWHbv3q0rr7xSrVq10rXXXquHH35Y5cuXV9++fQ/reitWrJCUWZ7mVp06dTRkyBCtWbNGc+bMUUJCgrp166bq1aurX79+++ype//99+vDDz886OjQocMhP/enn37S1KlT97sPcpMmTbRnzx7Nnz8/cuznn3/We++9p3POOSdX32/FihWH9esCAAAASGwHAQAAgMN077336ttvv9WcOXMkSXFxcZo4caLOPvtsTZ48WV26dDnguW+88YZSU1PVqFEjlS1bVkuWLNHtt9+uzp07q3r16nnK9ft2Ck888YRmzpypiRMnKjk5WaNGjVL37t0l5d92EOPGjZMk9ejRY5/3jj/+eF100UW64YYb9Pzzz6t8+fL629/+pho1amT7tUlOTlbDhg318MMPS5Luu+8+nXXWWTruuOMiewIvWLBAb7zxRp7zAgAAoHiiBAYAAECuLVmyRP/617/0yiuvZCtTzzjjDN17773q27evzj333AMWuqVKldIzzzyjAQMGKC0tTXXq1NFtt92mW2+9Nd8ylipVShdddJEuuugibdmyRb/99lu+Xft3o0aN0qWXXqqKFSvu9/0JEybo1ltvVceOHbVr1y41bdpUc+fOzfawurVr16pmzZqR11u2bFGfPn20adMmJSYm6uSTT1ZKSopatGiR7/kBAABQPJi7B50BAAAA+2FmHoa1Wu3atdW7d+9sD4LLjUWLFql58+b65ptvdNRRR+VzOuQ3M5O7H/jJdwAAACh0lMAAAABRKkwlcGpqqkqVKqVly5apfv36uTp38+bN2rlzJyVwEUEJDAAAEH0ogQEAAKJUWErgr776Snv27JEkHX300SpdunSOz123bp3S09MlZT78LSYmpkAyIv9QAgMAAEQfSmAAAIAoFZYSGMULJTAAAED0KRF0AAAAAAAAAABAwaEEBgAAQKHp2bOnWrZsmatzxo4dq5IlSxZQIgAAACD8KIEBAABQaJ544glNmTIlV+d06dJFGzduLKBEf9i0aZM6d+6scuXKqXz58uratau+//77g57z4osv6swzz1SFChVUpkwZnXjiifrPf/6Tbc7YsWNlZvuM9evXR+Z89NFHatasmapWrarY2FjVqlVLN998s7Zu3VoA3xQAAADFDbdUAAAAoNCUL18+1+fEx8crPj6+ANL8ISMjQ+3bt5ckzZs3T+6uvn37qmPHjlq8eLHM9r/F7ZFHHqm///3vqlevnuLi4vTf//5Xffv2VUxMjPr37x+ZFxMTow0bNuxz7u9iY2PVs2dPnX766apQoYJWrlypG2+8URs2bNC0adMK4BsDAACgOOHBcAAAAFGqqD0Y7rffftONN96oadOmKTY2Vr1799b333+vtWvXatGiRZIyt4PYsGGDUlJSsr2+7LLL9NBDD+nnn39W8+bN9dxzz0VK0rFjx6p3795KS0srsOzz5s3T+eefry+++EL16tWTJH366adq0KCBFi1apKZNm+b4Wh07dpQkvfLKK5IOP/8TTzyhIUOG6Oeff87VeUHjwXAAAADRh+0gAAAAkC9uv/12zZkzR5MnT9bixYv1yy+/aOrUqYc8b9myZVq0aJHefPNNzZw5U8uXL9edd96Zq8/u06ePEhISDjpeeOGFA56/ZMkS1alTJ1IAS9JJJ52ko446SosXL85RBnfXe++9p7ffflvNmzfP9l56errq1Kmj6tWrq3Xr1lq6dOlBr/XNN99oypQp+1wHAAAAOBxsBwEAAIA827Ztm0aPHq1nnnlG7dq1kySNGDFCc+bMOeS5sbGxGjt2rGJjYyVJ119/vUaOHJmrz7///vs1YMCAg86pWrXqAd9LTU1VUlLSPseTkpKUmpp60Otu2bJFNWrU0O7du5Wenq7Bgwfrpptuirxfr149jR8/Xqeccoq2bdumZ599Vuedd56WLl2qhg0bZrtW48aNtWLFCu3cuVPt27c/aHENAAAA5BQlMAAAAPJs7dq12rNnj84+++zIsZiYGP3lL3855MPV6tevHymAJalGjRravHlzrj6/SpUqqlKlSu5C59CB9gP+XWJioj788ENt375dS5cu1d/+9jfVqFFDvXr1kiQ1atRIjRo1isxv0qSJ1q1bp0ceeWSf/X4nT56sbdu26fPPP9egQYPUp08fjRs3Lv+/FAAAAIoVtoMAAABAnuVl7+JSpUple21mysjIyNU18rodRLVq1bRp06Z9jm/atGm/dwjvrUSJEqpbt65OOeUU9enTR3feeacGDRp00HMaNmyoVatW7XO8Zs2aql+/vjp16qTRo0dr/Pjx+uKLLw56LQAAAOBQuBMYAAAAeVa3bl2VKlVK7777rk488URJUkZGhj744AMdffTRBf75ed0OokmTJrr//vu1cuXKbA+G27Bhg84555xcZcnIyNDOnTsPOmfFihWqVq3aIa8j6ZDXAgAAAA6FEhgAAAB5lpCQoGuuuUb33HOPkpKSVKdOHQ0bNkw//vijatWqVeCfn9ftIFq2bKkzzjhD3bt315NPPil3V9++fXX22WeradOmkXknnHCC+vXrp379+kmSBg8erHPPPVfHHHOM9uzZo//+97965JFHdPXVV0fOue+++3TWWWfpuOOOi+wJvGDBAr3xxhuROc8995yOOOIInXTSSYqLi9Mnn3yigQMH6rTTTtMpp5xy2N8LAAAAkCiBAQAAkE8ee+wx7dixQ5dddpni4uJ07bXXql27dvrll1+CjnZIJUqU0IwZM9S/f3+1bNlSZqa2bdvqySefzLYn8MqVK/XDDz9EXm/dulV9+vTRxo0bFRcXp2OOOUYPP/yw+vTpE5mzZcsW9enTR5s2bVJiYqJOPvlkpaSkqEWLFpE5MTExevDBB7V27VqlpaWpZs2a6tixo+644w6VKMEObgAAAMgby8v+bQAAACg4ZuZFea3m7jrxxBPVqlUrDRs2LOg4KCRmJnc/+NP0AAAAUKi4ExgAAAD54uOPP9aKFSvUqFEj7dixQ8OHD9fq1asP+kA2AAAAAAWPEhgAAAD5wsw0YsQI9evXT2amk046SXPnztUZZ5wRdDQAAACgWGM7CAAAgChV1LeDQPHEdhAAAADRh6dMAAAAAAAAAECIUQIDAAAgKg0ZMkR169YNOgYAAABQ5FECAwAAAIfp448/1lVXXaU6deooPj5edevW1b333qtdu3Zlm5eWlqaBAwcqKSlJ8fHxOvfcc7V8+fLI++vXr5eZ7XfceOONkXkHmnPBBRdE5vz222+66667dMwxxyguLk4nn3yypk2bVvC/GAAAAIhaPBgOAAAAOEzLly9XYmKinn/+edWuXVsfffSRrr/+ev30008aPnx4ZN7AgQM1btw4jRkzRnXq1NE///lPtWzZUp9//rmqVq2qmjVrKjU1Ndu1lyxZossuu0yXX3555Nif56xfv16NGjXKNuf666/XO++8o1GjRqlOnTqaOXOmLr/8cs2aNUstW7YsoF8JAAAARDPuBAYAACjGlixZoiZNmigxMVGJiYk69dRTlZKSIklyd1177bU69thjFR8frzp16uiuu+7Szp07I+f/vmXDyy+/rLp166pMmTK6+OKLtXXrVk2fPl316tVTYmKiLr30Um3ZsiVyXs+ePdWyZUs9/vjjqlGjhsqUKaPLLrtMP/3000Hzzp49W2effbbi4+NVs2ZN9evXT7/++muOvk9B6NGjh0aMGKEWLVromGOOUceOHTVgwABNnTo1MufXX3/VU089pYceekjt27dXgwYNNGbMGJUuXVrPPPOMJCkmJkZJSUnZxiuvvKITTzxR5557buRaf57zxhtvqGLFirrsssskSTt37tTkyZP14IMPqmXLljr22GPVv39/tWvXTg888ECB/ToAAAAgulECAwAAFFPp6enq0KGDzjrrLC1fvlzLly/XkCFDFB8fLymzBK5atapefPFFff7553riiSc0duxYPfjgg9muk5qaqnHjxmn69OmaNWuW3n77bV166aUaNWqUJk+erFmzZum///2vHnrooWznvffee1q0aJFmz56tmTNn6sMPP1SvXr0OmDclJUWXXHKJevbsqY8//liTJ0/WO++8EznnUN9nfx566CElJCQcdPw596Fs3bpVRxxxROT1+++/r507d6pNmzaRYzExMWrVqpUWL16832v88MMPmjZtmq6//voDfs6ePXs0evRo9ejRQ3FxcZFjaWlpkde/i4+P1zvvvKM9e/bk6rsAAAAgHNgOAgAAoJjaunWrfv75Z3Xo0EHHHXecJEX+V5JKlCiR7e7R2rVra82aNXr66ac1dOjQyPFdu3Zp3Lhxqly5siSpc+fOeuaZZ5SamqoqVapIkrp27ar58+dn+/yMjAxNmDBB5cuXlySNGDFCrVu31po1a/b7QLihQ4fq5ptvVp8+fSRJdevW1fDhw9W4cWN9//33Klmy5EG/z/706dNHnTt3PuicihUrHvT9va1atUrDhg3LVpT/voVDUlJStrlJSUnZ9gXe29ixY1WiRAl17979gJ/12muvadOmTbruuusixxITE3XOOefooYce0mmnnaajjz5ac+bM0Wuvvabdu3frxx9/3CcHAAAAwo8SGAAAoJiqUKGCevfurdatW6tFixZq2rSpOnXqpOOPPz4yZ/To0Ro5cqTWr1+v3377TWlpacrIyMh2nRo1akQKYOmPLQt+L4B/P/bdd99lO+/EE0+MFMCS1KRJE0nSZ599tt8S+P3339e7776rYcOGRY65uyRp9erVaty48SG/z59VrFgxVyXvwXz11Vdq3bq1Lr74YvXr1y9H55jZPsfcXaNGjVLnzp1VoUKFA547cuRINW3aVCeccEK24xMnTlSvXr10zDHHqESJEqpXr5569+6t4cOHq0QJfhAQAACgOGIVCAAAUIw9++yz+uCDD9SqVSu99dZbatCggZ599llJ0tSpU9WnTx916dJFM2fO1IoVK3Tvvffus6VAqVKlsr02s/0e+3N5fCD7K0alzDuHBw4cqA8//DAyPvroI61evVqnn376Ib/P/uTXdhBr167Veeedp3POOUdjxozJ9h2qVasmSdq0aVO2czZt2rTfu3IXLFig1atXR+543p81a9Zo/vz5+51Tq1YtpaSkaNu2bfr666/16aefKj4+XuXKlctW1gMAAKD44E5gAACAYq5BgwZq0KCBbrvtNvXp00fPPPOMrr32Wr311ls6/fTTddttt0Xmrl+/Pt8+9/PPP9fWrVtVrlw5SdLSpUslSfXr19/v/DPPPPOAdwnv7UDfZ3/yYzuIL774QsnJyWrdurWee+65fe62PfPMMxUbG6vZs2dHtm5IT09XSkrKfvf8HTlypE455RSdffbZB/zMUaNGqVKlSurUqdMB55QpU0ZlypTR7t27NXXqVF188cXcCQwAAFBMUQIDAAAUU2vWrNGzzz6r9u3bq2bNmvr222+1ePFinXHGGZKkevXq6fnnn9drr72mBg0aaMaMGZo+fXq+fb6Z6aqrrtIDDzygn376STfeeKM6dOhwwJL3vvvuU+vWrXXHHXeoW7duKlOmjL744gu98cYbGjVq1CG/z/7kdTuITz/9VC1atNA555yjBx98MNuWF0ceeaRiYmJUrlw59enTR3fffbeqVaumOnXq6J///Kd27ty5Twn83Xff6dVXX9V//vOfA37m7t27NXbsWF199dUqXbr0Pu/PmzdPu3fvVv369fXNN9/o3nvv1Y4dO3L9gDsAAACEByUwAABAMVW2bFmtXr1al19+ub7//ntVqlRJF1xwgf71r39Jkq6//np9/PHHuvrqq5WWlqYLL7xQQ4YMUf/+/fPl8xs2bKhzzjlHrVq10pYtW9S2bVuNGjXqgPOTk5OVkpKiIUOG6KmnnpKZ6ZhjjlHHjh1z9H0KwpQpU/Tdd99p+vTp+xTk69atU+3atSVJjz76qEqVKqXevXtry5Yt+stf/qJ58+ZFtor43ejRo1W6dGl169btgJ85ffp0/fDDD9keCLe3rVu36q677tLXX3+thIQEtW7dWuPHj1eNGjXy9mUBAABQZNnvD9MAAABAdDEzD+tarWfPntqwYYNSUlKCjoJ8ZmZy9/1v7AwAAIBAsCkYAAAAAAAAAIQYJTAAAAAAAAAAhBjbQQAAAESpMG8HgfBiOwgAAIDow53AAAAAAAAAABBilMAAAAAAAAAAEGKUwAAAAMXQ2LFjVbJkyaBj5MiQIUNkZjIzDRgwIOg4xdKAAQMifw8eeOCBoOMAAAAglyiBAQAAEPVq166t1NRUDR48OHLslVdeUdu2bVWtWjWZmcaOHbvfc3/88UfdcMMNql69uuLi4lS3bl2NHDky25z33ntPjRs3VlxcnKpXr65BgwYpPT098v7rr7+uCy64QNWqVVNCQoJOP/10TZw4cZ/PevXVV9WwYUMlJCQoKSlJt9xyi3bu3HnY3zsjI0PJyckys2yft2jRokgp++fx6KOPRuY1a9Zsn/ebNWu2z+eMHz9e9erVU2xsrOrXr69JkyZle3/w4MFKTU3VUUcdddjfBQAAAMGhBAYAAEDUi4mJUVJSkhITEyPHtm3bpoYNG+qpp55STEzMfs/btm2bzj33XK1Zs0aTJk3SF198oQkTJqh+/fqRORs2bFCrVq10wgkn6IMPPtBTTz2lp59+Wvfee29kzqJFi9SkSRO98sor+uijj9S9e3f16NFDU6dOjcyZN2+eLrnkEl1++eX66KOP9OKLL2rWrFm67rrrDvt733///SpTpsw+xxs3bqzU1NRs4/HHH1eJEiXUuXPnbHOvuOKKbPOmT5+e7f3XX39dV199tfr06aOPPvpIvXv3Vvfu3TVnzpzInMTERCUlJR3w1xkAAABRzt0ZDAaDwWAwGFE4Mpdq2Y0aNcrLlSvn27dvz3b8gQce8Nq1a3tGRoZnZGR47969/ZhjjvG4uDivXbu2Dxw40Hfs2BGZP2bMGI+JiTnga3f3devWuSRfvHhx5NjKlSu9Q4cOXq5cOa9YsaJfeOGFvmbNmn1y5qfBgwf7sccee9A5MTExPmbMmH2O33vvvV6rVq1s3/3P7r77bq9Ro4anp6dHjg0fPtzLli3rv/322wHPa9u2rXfp0iXy+sorr/TWrVtnmzN9+nSX5F9++eVB8+/PggULvGbNmv7DDz+4JJ8wYcJB5zdu3NjbtWuX7VjTpk29V69ehzyva9eu2Y5deuml3qxZs33m1qpVy4cOHXrQ62X9cxv4vz8MBoPBYDAYjD8GdwIDAAAUIZ07d9bu3bv1+uuvZzs+YcIEde/eXWYmd1fVqlX14osv6vPPP9cTTzyhsWPH6sEHH8zTZ2/atEnnnHOOateurbfffluLFy9W+fLl1bJlS23fvv2A57Vt21YJCQkHHYsXL85TtgOZNm2azj33XN1xxx2qVq2a6tWrp9tvv12//fZbZM6SJUt0/vnnq0SJP5bGbdq00W+//ably5cf8Npbt27VEUccEXm9c+dOxcXFZZsTHx8vSbn+fps3b1b37t01fvx4VapU6ZDzP/74Yy1dulTXX3/9Pu+98sorOvLII3XCCSeoX79++umnnyLv7d69W++9957atGmT7Zw2bdronXfeybYlBgAAAIquovE0EAAAAEiSypcvr4suukjjx49Xly5dJGXuZ7ty5Up1795dklSiRIlsD++qXbu21qxZo6efflpDhw497M9++umnVbduXT3xxBORY2PGjFHFihX15ptv6rLLLtvvec8995x27Nhx0GvXqFHjsHMdzNq1a7VmzRpdeumleuONN5Samqr+/ftrw4YNmjx5siQpNTVVTZo0yXZeUlJS5L39mTRpkt59910NGzYscqxt27a64YYb9Prrr+vCCy/Uxo0bI7/e3377bY4zZ2Rk6Morr9Q111yz3/1792fkyJGqUaOGLrjggmzHr7zyStWuXVvVqlXTqlWrNGjQIL3zzjv6v//7P5UqVUo//PCD0tLSIt/3d0lJSdq1a5d++uknHXnkkTnODgAAgOhECQwAAFDEXHXVVbrooov03XffqUqVKpowYYIaNWqk4447LjJn9OjRGjlypNavX6/ffvtNaWlpysjIyNPnvv/++1q2bJkSEhKyHd++fbtWr159wPMKquDNiYyMDFWqVEljxoxRqVKlJEnp6enq2LGjnnzySVWpUmW/55lZtv/d29y5c9WrVy899dRTOuOMMyLHr7nmGq1fv15du3bVrl27FBcXp8GDB2vp0qXZ7jI+lIceekg7d+7M9hC8g9m+fbsmTpyoW265ZZ89e6+99trIXzdo0ECnnnqq6tatq9mzZ6t9+/aHvPb+vj8AAACKHraDAAAAKGJat26typUr68UXX9SePXv00ksv6aqrroq8P3XqVPXp00ddunTRzJkztWLFCt17773as2fPAa+5v5Jy9+7d2V5nZGQoOTlZH374YbaxatUq9enT54DXDnI7iGrVqun444+PFMCSdNJJJ0mSvvrqq8icTZs2ZTvv9zuA/3yH7IwZM3TxxRfr8ccfz1awSpmF6dChQ/Xrr7/qq6++0g8//BC5M/fYY4/NceaUlBS98847io2NVcmSJVWyZOZ9Gz169NAJJ5ywz/xJkyZp27Zt6t279yGvfeyxx6py5cpatWqVJKly5coqWbLkPt9/06ZNio2NVYUKFXKcGwAAANGLO4EBAACKmJiYGF1xxRWaMGGCjjnmGP3666+RrSEk6a233tLpp5+u2267LXJs/fr1B71mlSpVlJ6ers2bN6tq1aqSpBUrVmSbc+aZZ2r8+PE66qij9tn79mCC3A7i3HPP1cKFC5WWlhYpU1euXCkpc5sMSWrSpInGjx+vjIyMSBk+e/ZslSlTRqeffnrkWtOmTdOVV16pESNGqFevXgf8zBIlSkS+z4svvqjExES1atUqx5nHjBmTbc9iSTr55JP14IMP6pJLLtln/siRI3XBBRfoqKOOOuS1v/nmG/3444+qVq2aJKl06dL661//qtmzZ2f7DwmzZ8/W2Wefvc+dxQAAACiaKIEBAACKoB49eujxxx/X4MGDdeGFF2a7Y7NevXp6/vnn9dprr6lBgwaaMWOGpk+fftDrNWzYUImJibrrrrs0aNAgrV69Otu+wpLUv39/Pf/88+rUqZMGDRqk6tWr6+uvv9Zrr72mG264Idt2FHsrqIL3p59+0tdffx15/fXXX+vDDz9UxYoVdfTRR0uSBgwYoJdffll9+/bVbbfdpk2bNum2227TFVdcEdnr9oYbbtDw4cPVu3dv3X777VqzZo3+/ve/q3///ipbtqwk6aWXXlL37t314IMP6oILLojcORsTExO5zs8//6wXX3xRzZs3V3p6uqZOnap//OMfeuaZZ1SuXLkcf686ders9/hRRx21z6/xihUrtGzZMr355pv7zF+7dq0mTpyodu3aqUqVKlq5cqUGDhyo2rVr6+KLL47Mu/POO3XJJZeoYcOGatu2beSflxkzZuQ4MwAAAKKcuzMYDAaDwWAwonBkLtUO7LTTTnNJ/tprr2U7vnv3br/uuuu8QoUKnpiY6F27dvUnn3zS977emDFjPCYmJtt5M2bM8BNOOMHj4uK8SZMmPnPmTJfkixcvjsz58ssvvUuXLl6xYkWPjY31Y445xnv16uXff//9QbPmxeDBg/3YY4/d5/iYMWNc0j6jR48e2ealpKT4X/7yF4+NjfVatWr5bbfd5tu2bcs255133vGzzz7bY2NjPSkpye+66y5PS0uLvN+0adP9flatWrUic3766Sdv3LixJyYmelxcnDds2NBfeeWVfXLXqlVrn4yHIsknTJiwz/Hrr7/ejz76aE9PT9/nva+//tqbNm3qlSpV8tKlS3udOnX8uuuu82+//XafuWPGjPG6det6qVKl/Pjjj/eJEyfuN0etWrV86NChh8zqUfDvD4PBYDAYDAbjj2HuXujFMwAAAA7NzJy1mjRkyBBNnDhRa9asCTpKnm3fvl2VKlXS6NGj1bVr16Dj5Frt2rXVu3dv3XPPPQecY2Zyd54oBwAAEEV4MBwAAACi3pdffqmEhAQNGjQo6Ch5kpKSorPOOqvIFcCDBg1SQkJCtu03AAAAUHRwJzAAAECU4k7gTD/99JN++uknSVKFChVUqVKlgBMVPz/++KN+/vlnSVKlSpWy7UH9Z9wJDAAAEH0ogQEAAKIUJTCKIkpgAACA6MN2EAAAAAAAAAAQYpTAAAAAAAAAABBilMAAAAAAAAAAEGKUwAAAAAAAAAAQYiWDDgAAAID9i4uL22xmVYPOAeRGXFzc5qAzAAAAIDvjidMAAADIL2ZWSdJcSf+VdJuz2MwVM2ss6VVJvdz9jYDjAAAAICTYDgIAAAD5wsyqSFogaZ4ogA+Luy+VdIGk58ysU9B5AAAAEA5sBwEAAIA8M7NqklIkTZU0hAL48Ln7MjNrI2mWmZV295eCzgQAAICijRIYAAAAeWJmNZR5B/AEd38g6Dxh4O4rzKyVpDlmVsrdJwSdCQAAAEUXJTAAAAAOm5nVkjRf0kh3fzToPGHi7h+bWbKkeVlF8OigMwEAAKBoogQGAADAYTGzY5RZAP/H3Z8IOk8YufvnZtZCUoqZxbr700FnAgAAQNFDCQwAAIBcM7PjlFkAP+TuzwSdJ8zcfZWZNZM0P2uPYAp3AAAA5AolMAAAAHLFzOpLmifpXrYoKBzu/uVeRXCsu/8z4EgAAAAoQiiBAQAAkGNmdrKkOZIG8rCywuXuX5lZU0kLsu4I5iF8AAAAyBFKYAAAAOSImZ0uaZakm919ctB5iiN335hVBM83s9KSBru7B50LAAAA0c1YMwIAAOBQzOyvkmZIusHdpwedp7gzsyqSUpRZyt9FEQwAAICDoQQGAADAQZlZY0mvSrrG3WcEHAdZzKySpLmSFku6lSIYAAAAB0IJDAAAgAMys/MkTZXU3d3nBJ0H2ZnZEcrco/kDSf3cPSPYRAAAAIhGJYIOAAAAgOhkZsmSpknqSgEcndz9F0mtJJ0qaaSZsb4HAADAPlgkAgAAYB9m1kbSJEmXuPv8oPPgwNx9q6TWko6TNMbMYgKOBAAAgChDCQwAAIBszKy9pPGSLnL3/wadB4fm7tsktZNUXdJEMysVcCQAAABEEUpgAAAARJhZJ0nPSbrA3d8JOg9yzt23S2ovqbykl8ysdMCRAAAAECUogQEAACBJMrPLJT0lqY27Lws6D3LP3XdK6igpRtJUM4sNOBIAAACiACUwAAAAZGZXSXpcUit3XxF0Hhw+d98l6TJJuyS9ambxAUcCAABAwCiBAQAAijkz6yXpIUnJ7v5x0HmQd+6+R1JXST9LesPMygYcCQAAAAGiBAYAACjGzOwGSYMlNXf3z4POg/zj7mmSukvaIGmmmSUGHAkAAAABoQQGAAAopszsZkl3Smrq7quDzoP85+7pkq6RtFLSHDMrH3AkAAAABIASGAAAoBgyszsl9ZfUzN3XBZ0HBcfdMyT1kbRc0jwzqxBwJAAAABQySmAAAIBixsz+LqmXMu8A/iroPCh4WUVwf0lLJM03s8oBRwIAAEAhogQGAAAoJizTUEmXK7MA3hh0JhQed3dJt0uaI2mBmVUJOBIAAAAKScmgAwAAAKDgmZlJ+oekNsrcAuL7gCMhAO7uZna3pF2SFplZsrunBp0LAAAABYsSGAAAIOSyCuB/SzpXUgt3/zHgSAhQ1h3BQ8xst6S3zKyFu28IOhcAAAAKDiUwAABAiJlZCUnDJZ0pKdndfwk2EaKFuz/0pyKY/aEBAABCihIYAAAgpLIK4FGSTpDUyt23BhwJUcbd/7VXEZzs7muDzgQAAID8RwkMAAAQQmYWI2m0pKMltXH3bQFHQpRy92Fm9vsewS3dfWXQmQAAAJC/KIEBAABCxsxKSRovqbKkC9x9e8CREOXcfWTWHcELzKyVu38WdCYAAADkH0pgAACAEDGz0pImSYqX1N7ddwYcCUWEu48xsz2S5ptZa3f/X9CZAAAAkD8ogQEAAELCzGIlTZGUIamju+8KOBKKGHefmFUEzzWzdu6+POhMAAAAyDtKYAAAgBAws3hJ0yVtk3SFu+8JOBKKKHefnLU1xCwza+/u7wWdCQAAAHlTIugAAAAAyBszKyvpDUk/SepKAYy8cvdXJPWSNMPMmgSdBwAAAHlDCQwAAFCEmVmipJmSNki6yt3TAo6EkHD3GZK6SXrFzJoGnQcAAACHjxIYAACgiDKz8pLmSFop6Rp3Tw84EkLG3edKulzSFDNrGXQeAAAAHB5KYAAAgCLIzCpImidpuaQ+7p4RcCSElLsvkHSJpBfNrG3QeQAAAJB7lMAAAABFjJlVlrRA0mJJ/SmAUdDcfbGkiySNM7MOQecBAABA7pQMOgAAAAByzsyqSEqR9Kaku93dA46EYsLd3zGzdpLeNLPS7j416EwAAADIGUpgAACAIsLMqkmaL+llSfdRAKOwufv7ZtZa0mwzK+Xuk4LOBAAAgEOjBAYAACgCzOwoZW4BMdbdHwo6D4ovd/8w6yFxc7PuCB4XdCYAAAAcHCUwAABAlDOz2sq8A/gpd38s4DiA3P0TM2shKSXrjuDngs4EAACAA6MEBgAAiGJmdqwyC+DH3P3JoPMAv3P3L8ysuTKL4Fh3HxF0JgAAAOwfJTAAAECUMrN6ynwI3APuPjLoPMCfuftqM2smaX7W1hD/DjgSAAAA9oMSGAAAIAqZ2YmS5km6x93HBJ0HOBB3X5dVBC/IKoIfCTgSAAAA/oQSGAAAIMqY2SmS5ki6w90nBp0HOBR3/9rMmuqPO4KHBp0JAAAAf6AEBgAAiCJmdoakmZJucveXg84D5JS7b9xra4hYSX93dw82FQAAACTJWJcBAABEBzNrKOkNSX3c/ZWg8wCHw8yOVOZWJvMk3UkRDAAAEDxKYAAAgChgZk0kvSLpGnefEXQeIC/MrKKkuZLelnQLRTAAAECwKIEBAAAClvUj9C9L6ubuc4NNA+QPMztC0mxJKyTd6O4ZwSYCAAAovkoEHQAAAKA4M7OWkqZIupwCGGHi7r9IOl9SA0nPmllMsIkAAACKL0pgAACAgJhZW0kvSurk7guCzgPkN3ffKqmtpDqSxpoZD6YGAAAIACUwAABAAMysg6Rxki5y98VB5wEKirtvk3ShpKqSJppZqYAjAQAAFDuUwAAAAIXMzC6V9Kykdu7+TtB5gILm7tsldZCUKGmymZUOOBIAAECxQgkMAABQiMzsCklPSmrt7u8HnQcoLO6+U1InZf4ZZJqZxQUcCQAAoNigBAYAACgkZtZD0r8ktXL3DwOOAxQ6d98l6TJJOyS9ZmbxAUcCAAAoFiiBAQAACoGZXSvpQUkt3P2ToPMAQXH3PZKukPS9pDfNrGzAkQAAAEKPEhgAAKCAmdmNku6R1Nzdvwg6DxA0d0+T1EPSV5JmmVliwJEAAABCjRIYAACgAJnZrZJul9TM3VcHnQeIFu6eLqmXpM8lzTGz8gFHAgAACC1KYAAAgAJiZndJ6qvMAnhd0HmAaOPuGZL6SPpAUoqZVQw4EgAAQChRAgMAAOQzy3SvpJ7KLIC/DjgSELXc3SXdJOktSfPNrHLAkQAAAEKHEhgAACAfmZlJGiqpizIL4I0BRwKiXlYRfIekmZIWmVnVgCMBAACESsmgAwAAAIRFVgH8T0mtlFkAfx9wJKDIcHc3s3sk7VZmEZzs7t8GnQsAACAMKIEBAADyQVYB/B9JTSS1cPefgk0EFD1ZdwTfZ2a7Jb1lZi3c/ZugcwEAABR1lMAAAAB5ZGYlJD0l6TRJLd39l0ADAUWcuz9sZrv0RxG8PuhMAAAARRklMAAAQB6YWYykZyUdJ+l8d98acCQgFNz98b3uCE529zVBZwIAACiqKIEBAAAOk5mVlDRGUg1Jbd19W8CRgFBx9+FZRfBCM2vp7iuDzgQAAFAUUQIDAAAcBjMrJWmipAqSLnT37QFHAkLJ3UdlFcELzOx8d/806EwAAABFDSUwAABALplZaUkvSSotqYO77ww4EhBq7j7WzPZISjGzNu7+UdCZAAAAihJKYAAAgFwwszhJUyXtkdTJ3XcHHAkoFtz9haw7gueY2QXu/kHQmQAAAIoKSmAAAIAcMrN4Sa9K2iLpSnffE2wioHhx9ylZRfBMM7vI3f8v6EwAAABFQYmgAwAAABQFZlZW0puSvpd0BQUwEAx3f03S1ZJeN7Nzgs4DAABQFFACAwAAHIKZJUqaJekrST3cPS3gSECx5u4zJXWTNN3MmgWbBgAAIPpRAgMAAByEmR0haa6kzyX1cvf0YBMBkCR3nyupi6SXzaxV0HkAAACiGSUwAADAAZhZRUkpkt6X1MfdMwKOBGAv7r5QUidJL5hZu6DzAAAARCtKYAAAgP0ws8qSFkhaJOkmd/dgEwHYH3dfIqm9pDFmdlHQeQAAAKJRyaADAAAARBszqyppvqTXJN1DAQxEN3d/N+tO4DfNrLS7Twk6EwAAQDShBAYAANiLmVVXZgE8SdJQCmCgaHD3D8ystaTZZlbK3V8MOhMAAEC0oAQGAADIYmY1lbkFxGh3fzjoPAByx90/MrOWkuZm3RE8NuhMAAAA0YASGAAAQJKZ1VHmHcDD3f3xoPMAODzu/qmZtZCUklUEjwo6EwAAQNAogQEAQLFnZnWVWQA/6u7Dg84DIG/cfaWZNZc0P6sI5t9rAABQrFECAwCAYs3MTpA0T5n7/3LHIBAS7r7GzJpKWpBVBHOHPwAAKLYogQEAQLFlZg0kzZV0N3uHAuHj7uv3KoJj2esbAAAUV5TAAACgWDKzUyXNljTA3V8IOg+AguHu32QVwfPNrLSk+93dg84FAABQmCiBAQBAsWNmZ0qaKamfu08JOg+AguXu35pZM0kpkkqb2T0UwQAAoDgx1j4AAKA4MbOzJb0m6Tp3fy3oPAAKj5lVVuYe4PMl3UERDAAAigtKYAAAUGyY2TmSpkvq6e4zg84DoPCZWUVJcyS9I+lmimAAAFAcUAIDAIBiwcyaS3pZ0pXuPjfoPACCY2bllbkn+P8k3eDuGQFHAgAAKFAlgg4AAABQ0MzsfGUWwJ0pgAG4+xZJ50uqL+l5M4sJOBIAAECBogQGAAChZmYXSJooqaO7Lww6D4Do4O6/Smor6WhJ482Mh2YDAIDQogQGAAChZWYXSxotqb27Lwk4DoAo4+6/SbpQUmVJL5pZqYAjAQAAFAhKYAAAEEpmdpmkkZLaufu7QecBEJ3cfYekiySVkfSymcUGHAkAACDfUQIDAIDQMbMrJQ2TdL67fxB0HgDRzd13SuokySVNN7O4gCMBAADkK0pgAAAQKmZ2taRHJbV094+CzgOgaHD33ZK6SPpV0utmVibgSAAAAPmGEhgAAISGmV0n6X5Jzd3906DzACha3H2PpG6SNkt608wSAo4EAACQLyiBAQBAKJhZP0mDlFkArww6D4Ciyd3TJPWUtE7SLDMrF2wiAACAvKMEBgAARZ6Z3S7pNklN3X1N0HkAFG3uni6pt6RPJM01syOCTQQAAJA3lMAAAKBIM7O7JfVRZgG8PuA4AELC3TMk9ZX0rqQUM6sYcCQAAIDDRgkMAACKJMs0RFJ3ZRbA3wQcCUDIuLtLukXSAkkLzOzIYBMBAAAcnpJBBwAAAMgtMzNJD0pqL6mZu28OOBKAkHJ3N7OBknZLWmhmLd19U9C5AAAAcoMSGAAAFClZBfC/JLVQ5kPgfgg4EoCQy7oj+B4z2yVpkZklu/vGoHMBAADkFCUwAAAoMsyshKQnJJ0tKdndfwo4EoBixN2HmtluSW+ZWQt3/zroTAAAADlBCQwAAIqErAL4GUknS2rp7lsCjgSgGHL3R/5UBK8LOhMAAMChUAIDAICoZ2Yxkp6TdKyk893914AjASjG3P3fWUXw71tDrAk6EwAAwMFQAgMAgKhmZiUljZNUTVJbd/8t4EgAIHcfsVcR3NLdvwg6EwAAwIFQAgMAgKhlZqUkvSCpvKQL3X17wJEAIMLdn80qgheY2fnu/knQmQAAAPaHEhgAAEQlM4uVNFmZ65WL3H1nwJEAYB/uPi6rCJ5nZm3d/cOgMwEAAPwZJTAAAIg6ZhYnaZqkXZI6ufvugCMBwAG5+6SsIniOmV3g7u8HnQkAAGBvJYIOAAAAsDczKyPpdUm/SupCAQygKHD3aZKulTTTzM4OOg8AAMDeKIEBAEDUMLMESW9K2iypm7vvCTgSAOSYu78uqYek183s3KDzAAAA/I4SGAAARAUzKydptqR1knq6e1rAkQAg19x9lqQrJE03sxZB5wEAAJAogQEAQBQwsyMkzZX0iaTe7p4ebCIAOHzuniLpUkkvmVnroPMAAABQAgMAgECZWSVJ8yW9K+kGd88IOBIA5Jm7vyWpo6QJZnZh0HkAAEDxRgkMAAACY2ZHSlqQNW5xdw84EgDkG3d/W1J7Sc+bWceg8wAAgOKrZNABAABA8WRmScq8A/gVSX+nAAYQRu7+rpm1lTTTzEq5+8tBZwIAAMUPJTAAACh0ZlZDmQXwC+4+NOg8AFCQ3H25mZ0vaY6ZlXb3iUFnAgAAxQslMAAAKFRmdrQyt3941t0fCToPABQGd/+fmSVLmpd1R/CYoDMBAIDigxIYAAAUGjOro8wCeJi7/zvoPABQmNz9MzNrLml+1h3BI4POBAAAigdKYAAAUCjM7DhlbgHxiLuPCDoPAATB3VeZWTP9UQQ/GXAkAABQDFACAwCAAmdm9SXNk3Sfuz8bdB4ACJK7rzWzppIWmFmsu/8r6EwAACDcKIEBAECBMrMGkuZK+pu7jws6DwBEA3f/6k9F8INBZwIAAOFFCQwAAAqMmZ0mabakW919UsBxACCquPuGrCJ4vpmVljTE3T3oXAAAIHyMNQYAACgIZvYXSW9K6uvu04LOAwDRysyqSEpR5u+Zd1MEAwCA/EYJDAAA8p2ZNZL0mqTe7v560HkAINqZWWVl7p2+UNLtFMEAACA/UQIDAIB8ZWbnSZom6Sp3nxV0HgAoKsysgqQ5kt6TdJO7ZwQcCQAAhESJoAMAAIDwMLNkZRbAXSmAASB33P1nSa0knS7pGTPjz2sAACBfcCcwAADIF2bWWtJESZe6+1tB5wGAosrMEiXNkLROUi93Tw84EgAAKOL4L8sAACDPzOxCSRMkXUwBDAB54+6/Smonqaak8WZWMuBIAACgiKMEBgAAeWJmHSU9L6m9u78ddB4ACAN3/03ShZIqSppkZqUCjgQAAIowSmAAAHDYzKyLpKcltXX3d4POAwBh4u47JF0sKVbSVDOLDTYRAAAoqiiBAQDAYTGzbpL+I+l8d18ecBwACCV33yXpUkl7JL1iZnEBRwIAAEUQJTAAAMg1M7tG0iOSkt39f0HnAYAwc/fdki6XtEXSG2ZWJuBIAACgiKEEBgAAuWJmfSTdJ6m5u38WdB4AKA7cPU1SN0mpkt40s4SAIwEAgCKEEhgAAOSYmd0k6S5Jzdx9VdB5AKA4cfd0SVdLWitptpmVCzgSAAAoIiiBAQBAjpjZHZJultTU3dcGnQcAiqOsIvg6Sf+TNM/MKgQcCQAAFAGUwAAA4JDMbJCka5VZAH8VdB4AKM7cPUPSjZLekZRiZpUCjgQAAKIcJTAAADggy3SfpCuVWQBvCDoTAEByd5d0q6QUSQvMrErAkQAAQBQrGXQAAAAQnczMJD0sqZ0y9wD+LuBIAIC9uLub2V2SdklaaGYt3T016FwAACD6UAIDAIB9ZBXAj0tqJqmFu/8QbCIAwP5k3RF8r5ntlrTIzFq4+8agcwEAgOhCCQwAALIxsxKSnpT0V2UWwD8HHAkAcAju/oCZ7ZL0lpkls387AADYGyUwAACIyCqAR0o6UVIrd98ScCQAQA65+6N73RGc7O5fBp0JAABEB0pgAAAgSTKzGEnPS6ojqY27/xpwJABALrn7E38qglcHnQkAAASPEhgAAMjMSkoaL6mqpHbu/lvAkQAAh8ndn84qgheaWSt3/zzoTAAAIFiUwAAAFHNmVkrSJEllJV3o7jsCjgQAyCN3fz6rCJ5vZq3d/eOgMwEAgOBQAgMAUIyZWayklyWZpIvdfVfAkQAA+cTdJ5jZHknzzKytu68IOhMAAAgGJTAAAMWUmcVLmiZpu6Qr3H13wJEAAPnM3V/KKoJnm9mF7r4s6EwAAKDwlQg6AAAAKHxmVkbS65K2SLqcAhgAwsvdp0nqLelNM2scdB4AAFD4KIEBAChmzCxB0kxJqZK6uXtawJEAAAXM3d+QdJWkV83svKDzAACAwkUJDABAMWJm5STNkbRG0tXunh5wJABAIXH32ZK6SppmZslB5wEAAIWHEhgAgGLCzCpImifpI0nXUQADQPHj7vMlXSJpkpm1DjoPAAAoHJTAAAAUA2ZWSdJ8SUsl3ejuGQFHAgAExN3/K+liSRPMrH3AcQAAQCGgBAYAIOTMrIqkhcq8C/g2d/eAIwEAAubuSyVdIOk5M+sUdB4AAFCwSgYdAAAAFBwzq6bMO4CnShpMAQwA+J27LzOzNpJmmVlpd38p6EwAAKBgUAIDABBSZlZD0gJJE9z9gaDzAACij7uvMLNWkuaYWSl3nxB0JgAAkP8ogQEACCEzq6XMO4BHuvujQecBAEQvd//YzJIlzcsqgkcHnQkAAOQvSmAAAELGzI5R5h3A/3b3J4LOAwCIfu7+uZm1kJRiZrHu/nTQmQAAQP6hBAYAIETM7HhJKZIe5g/wAIDccPdVZtZM0vysPYL5D4kAAIQEJTAAACFhZvWVWQDf6+7PB50HAFD0uPuXfyqC2VIIAIAQoAQGACAEzOxkSXMkDeShPgCAvHD3r8ysqaQFWVtD8HBRAACKOEpgAACKODM7XdIsSTe7++Sg8wAAij5335h1R3CKmZWWNNjdPdhUAADgcBn/Pw4AQNFlZg0lvSHpBnefHnQeAEC4mFkVZW41NEvSXRTBAAAUTZTAAAAUUWbWWNKrknq5+xsBxwEAhJSZVZI0V9JiSbdSBAMAUPRQAgMAUASZ2XmSpkq6yt1nB50HABBuZnaEMvee/0BSP3fPCDYRAADIDUpgAACKGDNLlvSSpMvdfX7QeQAAxYOZlVPmthCfSbqeIhgAgKKjRNABAABAzplZG0mTJF1CAQwAKEzuvlVSa0nHSRpjZjEBRwIAADlECQwAQBFhZu0ljZd0sbv/N+g8AIDix923SWonqbqkiWZWKuBIAAAgByiBAQAoAsysk6TnJF3g7kuDzgMAKL7cfbuk9pLKS3rJzEoHHAkAABwCJTAAAFHOzC6X9JSkNu6+LOg8AAC4+05JHSWVlDTVzGIDjgQAAA6CEhgAgChmZldJelxSK3dfEXQeAAB+5+67JF0mabekV80sPuBIAADgACiBAQCIUmbWS9JDkpLd/eOg8wAA8GfuvlvS5ZJ+lvSGmZUNOBIAANgPSmAAAKKQmd0gabCkFu7+edB5AAA4EHdPk9Rd0gZJM80sMeBIAADgTyiBAQCIMmZ2s6Q7JTVz91VB5wEA4FDcPV3SNZJWSppjZuUDjgQAAPZCCQwAQBQxszsl9VdmAfxl0HkAAMgpd8+Q1EfScknzzKxCwJEAAEAWSmAAAKKEmf1dUi9JTd39q6DzAACQW1lFcH9JSyTNN7PKAUcCAACiBAYAIHCWaagyH6zT1N03Bp0JAIDD5e4u6XZJcyQtMLMqAUcCAKDYKxl0AAAAijMzM0n/kNRWUnN3/y7gSAAA5Jm7u5ndLWmXpEVmluzuqUHnAgCguKIEBgAgIFkF8L8lnavMAvjHgCMBAJBvsu4IHmJmeyS9ZWYt3H1D0LkAACiOKIEBAAiAmZWQNFzSmZKS3f2XYBMBAFAw3P1BM9ulP4pg9r0HAKCQUQIDAFDIzCxG0khJJ0hq5e5bA44EAECBcvd/mdluZRbBye6+NuhMAAAUJ5TAAAAUoqwCeIykoyW1cfdtAUcCAKBQuPuwrDuCF5lZS3dfGXQmAACKC0pgAAAKiZmVkjReUmVJ7dx9e8CRAAAoVO4+MuuO4AVm1srdPws6EwAAxQElMAAAhcDMSkuaJCleUnt33xlwJAAAAuHuY7IeFpdiZm3c/X9BZwIAIOwogQEAKGBmFitpiqQMSR3dfVfAkQAACJS7T8wqgueaWTt3Xx50JgAAwowSGACAAmRm8ZKmS9om6Qp33xNwJAAAooK7T87aGmKWmbV39/eCzgQAQFiVCDoAAABhZWZlJb0h6WdJXSmAAQDIzt1fkdRL0gwzaxJ0HgAAwooSGACAAmBmiZJmStogqbu7pwUcCQCAqOTuMyR1l/SqmTUNOg8AAGFECQwAQD4zs/KS5khaKekad08POBIAAFHN3edI6iJpqpm1DDoPAABhQwkMAEA+MrMKkuZJWi6pj7tnBBwJAIAiwd0XSOok6UUzaxt0HgAAwoQSGACAfGJmlSXNl7REUn8KYAAAcsfdF0u6SNI4M+sQdB4AAMKiZNABAAAIAzOrIilF0puS7nZ3DzgSAABFkru/Y2btJL1pZqXcfVrQmQAAKOoogQEAyCMzq6bMO4BflnQfBTAAAHnj7u+bWWtJs8ystLtPCjoTAABFGSUwAAB5YGZHSVogaay7PxR0HgAAwsLdPzSzVpLmZhXB44LOBABAUUUJDADAYTKz2sq8A/gpd38s4DgAAISOu39iZi0kpWRtDfFc0JkAACiKKIEBADgMZnasMgvgx9z9yaDzAAAQVu7+hZk1V2YRHOvuI4LOBABAUUMJDABALplZPWU+BO4Bdx8ZdB4AAMLO3VebWTNJ87O2hvh3wJEAAChSKIEBAMgFMztR0jxJ97j7mKDzAABQXLj7uqwieEFWEfxIwJEAACgyKIEBAMghMztF0hxJd7j7xKDzAABQ3Lj712bWVH/cETw06EwAABQFlMAAAOSAmZ0haaakm9z95aDzAABQXLn7xr22hoiV9Hd392BTAQAQ3Yz/rwQA4ODMrKGkNyT1cfdXgs4DAAAkMztSmVs0zZU0kCIYAIADowQGAOAgzKyJpFckXePuM4LOAwAA/mBmFZVZAi+RdCtFMAAA+0cJDADAAWT9qOnLkrq5+9xg0wAAgP0xsyMkzZa0QtKN7p4RbCIAAKJPiaADAAAQjcyspaQpki6nAAYAIHq5+y+SzpfUQNKzZhYTbCIAAKIPJTAAAH9iZm0lvSipk7svCDoPAAA4OHffKqmtpDqSxpoZD0EHAGAvlMAAAOzFzDpIGifpIndfHHQeAACQM+6+TdKFkqpKmmhmpQKOBABA1KAEBgAgi5ldKulZSe3c/Z2g8wAAgNxx9+2SOkhKlDTZzEoHHAkAgKhACQwAgCQz6yrpSUmt3f39oPMAAIDD4+47JXVS5p93p5lZXMCRAAAIHCUwAKDYM7Mekv4lqZW7fxhwHAAAkEfuvkvSZZJ2SHrNzOIDjgQAQKAogQEAxZqZ9Zb0oKRkd/8k6DwAACB/uPseSVdI+l7Sm2ZWNuBIAAAEhhIYAFBsmdmNkv4uqbm7fxF0HgAAkL/cPU1SD0lfSZplZokBRwIAIBCUwACAYsnMbpV0u6Rm7r466DwAAKBguHu6pF6SPpc0x8zKBxwJAIBCRwkMACh2zGygpL7KLIDXBZ0HAAAULHfPkNRH0geSUsysYsCRAAAoVJTAAIBixcz+LulqSU3d/eug8wAAgMLh7i7pJklvSZpvZpUDjgQAQKGhBAYAFAuW6QFJXZRZAH8bdCYAAFC4sorgOyTNlLTQzKoGHAkAgEJRMugAAAAUNDMzSf+U1EqZD4H7PuBIAAAgIO7uZnaPpN2SFplZMv9xGAAQdpTAAIBQyyqA/yOpiaQW7v5TsIkAAEDQsu4Ivs/Mdkt6y8xauPs3QecCAKCgUAIDAELLzEpIGiHpNEkt3f2XQAMBAICo4u4Pm9ku/VEErw86EwAABYESGAAQSmYWI2mUpOMltXb3rQFHAgAAUcjdH9/rjuBkd18TdCYAAPIbJTAAIHTMrKSkMZJqSGrr7tsCjgQAAKKYuw/PKoIXmllLd18ZdCYAAPITJTAAIFTMrJSkCZIqSrrQ3bcHHAkAABQB7j7KzPZIWmBm57v7p0FnAgAgv1ACAwBCw8xKS3pJUmlJHdx9Z8CRAABAEeLuY7LuCE4xszbu/lHQmQAAyA+UwACAUDCzOElTJKVJ6uTuuwOOBAAAiiB3fyGrCJ5jZhe4+wdBZwIAIK8ogQEARZ6ZxUt6VdIWSVe6+55gEwEAgKLM3adkFcEzzayDu78bdCYAAPKiRNABAADICzMrK+lNSd9LuoICGAAA5Ad3f03S1ZLeMLNzgs4DAEBeUAIDAIosM0uUNEvSV5J6uHtawJEAAECIuPtMSd0kTTezZsGmAQDg8FECAwCKJDMrL2mOpM8k9XL39IAjAQCAEHL3uZK6SHrZzFoFnQcAgMNBCQwAKHLMrKKkFEnvS7rB3TMCjgQAAELM3RdK6iTpBTNrF3QeAAByixIYAFCkmFllSfMlvSXpZnf3gCMBAIBiwN2XSGovaYyZXRR0HgAAcqNk0AEAAMgpM6uqzDuAX5d0DwUwAAAoTO7+btadwG+aWWl3nxJ0JgAAcoISGABQJJhZdWXeATxJ0lAKYAAAEAR3/8DMWkuabWal3P3FoDMBAHAolMAAgKhnZjWVWQCPdvd/BJ0HAAAUb+7+kZm1lDQ3647gsUFnAgDgYCiBAQBRzcxqS1ogabi7Px5wHAAAAEmSu39qZi0kpWQVwaOCzgQAwIFQAgMAopaZHavMAvhRdx8edB4AAIC9uftKM2suaX7W1hAjgs4EAMD+UAIDAKKSmdVT5kPghnJnDQAAiFbuvsbMmkpaYGax/OQSACAaUQIDAKKOmZ0kaa6kQeyxBwAAop27r/9TEfxw0JkAANgbJTAAIKqY2amSZku6nadtAwCAosLdv8kqguebWWlJ97u7B50LAACJEhgAEEXM7ExJb0rq7+5Tgs4DAACQG+7+rZk1U+aWVqXN7B6KYABANDD+/wgAEA3M7CxJr0u6zt1fCzoPAADA4TKzypLmSZov6Q6KYABA0CiBAQCBM7NzJE2X1NPdZwadBwAAIK/MrKKkOZLekXQzRTAAIEiUwACAQGX9yOTLkq5093nBpgEAAMg/ZlZemc86+J+kG9w9I+BIAIBiqkTQAQAAxZeZtVJmAdyZAhgAAISNu2+RdL6k+pKeN7OYgCMBAIopSmAAQCDMrJ2kFyR1dPdFAccBAAAoEO7+q6S2kmpJGmdmPKAdAFDoKIEBAIXOzC6SNEZSe3d/O+g8AAAABcndf5N0oaQjJb1oZqUCjgQAKGYogQEAhcrMLpM0UlI7d3836DwAAACFwd23S7pIUhlJL5tZbMCRAADFCCUwAKDQmNkVkoZJau3uHwSdBwAAoDC5+05JnSS5pOlmFhdwJABAMUEJDAAoFGbWU9Kjklq6+0cBxwEAAAiEu++W1EXSr5JeN7MyAUcCABQDlMAAgAJnZtdJGiqphbt/GnQeAACAILn7HkndJG2WNMPMygYcCQAQcpTAAIACZWY3SrpbUnN3Xxl0HgAAgGjg7mmSekpaL2m2mZULNBAAINQogQEABcbMbpN0u6Rm7r4m6DwAAADRxN3TJfWW9ImkuWZ2RLCJAABhRQkMACgQZvY3SX0kNXX39QHHAQAAiEruniGpr6R3JaWYWcWAIwEAQogSGACQryzTYElXKfMO4G+CzgQAABDN3N0l3SJpoaQFZnZksIkAAGFDCQwAyDdmZpIekHSpMgvgbwOOBAAAUCRkFcF3SpohaaGZJQUcCQAQIiWDDgAACIesAvhRScnKfAjcDwFHAgAAKFKyiuB7zGyXpEVmluzuG4POBQAo+iiBAQB5llUAPyGpkaRkd/8p4EgAAABFlrsPNbPdkt4ysxbu/nXQmQAARRslMAAgT8yshKSnJJ0iqaW7bwk4EgAAQJHn7o/8qQheF3QmAEDRxZ7AAIBcMbMHzezUrL+OkfScpBMltaYABgAAyD/u/m9J/1Lm1hB1fz9uZuPMrGJwyQAARQ0lMAAgx8wsQdKNkr41s5KSxkmqJamtu/8aaDgAAIAQcvcRynzw7iIzOyHrcLykS4JLBQAoaiiBAQC50UHSO5J+kfSipMqSLnT334IMBQAAEGbu/qykQZIWmFkDSZMkXRFsKgBAUcKewACA3Ogq6eWsUVLSxe6+M9hIAAAA4efu47L2CJ4n6SJJp5pZDXffGHA0AEARwJ3AAIAcydp37jxJnSW5pJ6SLjazCXv9aCIAAADymZn9x8z+Jmm5pP6S3pC0RJnrMgAADokSGACQU10lpUmqJClO0jpJ3SW9JenLAHMBAACE3UuSakhaIOk+SYsktZDUO8BMAIAixNw96AwAgCLAzNYr8w8fr0qaJmmmu28NMhMAAEBxYmYlJP1VUidJ3SRVl1TX3dcGGgwAEPUogQEAOZK15cPX7r496CwAAADFnZmZpFMlfeT8wR4AcAiUwAAAAAAAAAAQYiWDDgCgaImPj9+0c+fOqkHnAHIjLi5u844dO5KCzgEAAIoO1r2INqxpAeQFdwIDyBUz46fNUOSYmdzdgs4BAACKDta9iDasaQHkRYmgAwAAAAAAAAAACg4lMAAAAAAAAACEGCUwAAAAAAAAAIQYJTAAAAAAAAAAhBglMAAAAAAAAACEGCUwgCKvdu3aMjOZmT755JNcnVu5cuXIuRs2bCighAAAAEDhYG0MANgfSmAAUcndlZycrPPOO08ZGRnZ3rvgggt01llnKS0tLXJs4MCBSk1N1QknnCBJGjt2bGQB++cxZcqUyHmfffaZpk2bVjhfKhd27typq6++WqeffrpiY2NVu3bt/c7btm2brrvuOlWqVElly5ZVu3bt9OWXX2abk5aWpoEDByopKUnx8fE699xztXz58mxzvv/+e11zzTWqUaOG4uPjVb9+fQ0bNizHebdv366TTjpJZqYlS5Zke29/fw+GDBmS42sDAAAUd3ldG0s5W5NF69pYkhYsWKBzzz1X5cuXV8WKFdWqVSu9//772ebccsstOuuss1SmTBmZWY6ue6A/N6xfv74AvgUABIcSGEBUMjONHTtWH3/8sR599NHI8REjRmjRokWaOHGiSpYsGTmekJCgpKSkyLEuXbooNTU127j11ltVrlw5tWvXLnJelSpVVLFixTzn3bFjh77//vs8X+d36enpKl26tK677jpdccUVB5zXo0cPzZ8/X1OnTtWSJUuUkZGh888/Xzt37ozMGThwoJ5//nk9++yzWrZsmerUqaOWLVtq8+bNkTlXX321li1bppdfflmff/65br/9dt1+++164YUXcpS3b9++OvbYYw/4/vDhw7P9vRgwYECOrgsAAIC8r41/d6g1WbSujb/++mtdeOGFOu2007Rs2TItXrxYFSpU0Pnnn69ff/01Mi89PV1XXHGF+vfvn6vrx8TE7PNnh5o1a+ZbfgCICu7OYDAYOR6Zv20UnhdffNFLly7tK1as8M8++8zj4+P9mWeeyTanVq1aPnTo0INeJz093WvWrOl9+/bd572FCxe6JP/mm29ylS09Pd1TUlK8Z8+enpiY6GPHjs3V+Tk1dOhQr1Wr1j7HV61a5ZJ8zpw5kWM//fSTly5dOpJl69atHhcX5yNHjozMSUtL86pVq/qQIUMix8qXL+/Dhg3Ldv2GDRt6v379Dplv7Nixfuqpp/oXX3zhknzx4sXZ3pfkEyZMyNF3LShZ/9wG/u8Pg8FgMBiMojMKe92bE3lZG+d0TRaNa+NXXnnFJfnWrVsjxz777DOX5O+///4+8ydMmOA5/fs3ZswYj4mJybesBYk1LYPByMvgTmAAUa1r167q1KmTunXrpiuvvFLJycm6/vrrc32dN998U998881hnftnH330ke644w4dffTR6tixo9LT0zVlyhR169YtMqdPnz5KSEg46MjpXbYHsmTJEpUqVUrJycmRYxUqVFDDhg21ePFiSdL777+vnTt3qk2bNpE5MTExatWqVWSOJJ1zzjmaNm2aNm/eLHfXokWL9Nlnn6lt27YHzfD555/rjjvu0EsvvaTY2NgDzhs4cKAqV66sM888U4899li2H1cEAABAzuR1bVwQa7LCWBufeeaZio+P16hRo7Rnzx7t2LFDzz33nOrUqaMTTzwxz98hPT1dderUUfXq1dW6dWstXbo0z9cEgGhT8tBTACBYI0aMUI0aNVS6dGnNnj37sK4xcuRInX322TrllFMO6/yNGzdq4sSJmjhxolatWqU2bdroscceU4cOHRQfH7/P/Pvvv/+QWx5UrVr1sLL8LjU1VZUrV1ZMTEy240lJSUpNTY3M+f3Yn+fsvS/wpEmT1LNnz8iPDZqZRowYkW3rjD/bvn27LrvsMv3jH//QCSeccMB904YOHaoWLVqobNmyevvtt3X33Xfrq6++ytWewwAAAMh0uGvj/FyTFfbauGbNmlqwYIE6d+6sgQMHKiMjQ3Xr1tXcuXP3+3m5Ua9ePY0fP16nnHKKtm3bpmeffVbnnXeeli5dqoYNG+bp2gAQTSiBAUS9CRMmyMy0bds2LV++PNtdrTnx9ddfa9asWXr++ecPO8OgQYM0btw4tWrVSrNnz1aNGjUOOr9KlSqqUqXKYX9eXuXkQRh7zxk6dKjWrl2rWbNmqUaNGnrrrbd06623qmrVqurQocN+z7/pppvUoEEDXXPNNQf9nHvuuSfy16eeeqri4uLUu3dvPfDAAypXrlwOvxEAAACkw18b5+earLDXxt9//7169+6tDh066Oqrr9bu3bv12GOPqV27dlq2bJnKly9/2Ndu1KiRGjVqFHndpEkTrVu3To888kjUPiQPAA4H20EAiGqfffaZ7rrrLj3xxBO66aab1KtXL/3888+5usazzz6rcuXKqUuXLoedY/DgwRo8eLC+/PJL1a9fX1dddZVmz559wB+hK4ztIKpVq6YffvhB6enp2Y5v2rQpcudvtWrVIscONOfLL7/Uo48+qpEjR6pNmzY6+eST1a9fP1155ZV66KGHDvj5KSkpmjJlikqWLKmSJUuqbt26kqRmzZqpdevWBzzvrLPOkrtr9erVuf/SAAAAxVh+rI1/l5c1WWGvjZ988kmlp6dr+PDhOvPMM9WoUSNNmjRJqampmjRpUq7zH0rDhg21atWqfL8uAASJO4EBRK3du3fryiuvVKtWrXTttddq586dmjNnjvr27ZvjxV5aWppGjx6tq666Kk8/KlanTh0NGTJEQ4YM0TvvvKMJEyaoW7duKlGihDp37qwrrrhCjRs3jswvjO0gmjRpoj179mj+/Pk6//zzJUk///yz3nvvPfXq1UtS5v5psbGxmj17tq677jpJmXuepaSkRPaP2759uySpRIns/10wJiZG7n7Az587d652794def3tt9+qdevWGjNmjM4999wDnrdixQpJfxTUAAAAOLT8WBvvLS9rssJeG2/fvn2ftaqZycwOul49XCtWrGCtCiB8gn4yHYPBKFpDhfiU5IEDB3qVKlV88+bNkWMffPCBlypVyl966aXIsQM9Adndffr06S7JP/nkkwN+zuE+AXn37t3+6quv+qWXXupxcXE+fvz4XJ1/KJ9++qmvWLHCb7zxRq9WrZqvWLHCV6xY4bt27YrMueiii/yYY47xhQsX+vLly71169Zep04d3759e2TOzTff7JUqVfLXX3/dP/74Y+/evbsfccQR/u2337q7+549e7xevXresGFDX7JkiX/55Zc+evRoj4uL83/84x+R69x1113eokWLA+Zdt26dS/LFixdHjr3++us+cuRI/9///udr1671cePGeeXKlb1z5875+Ut1SOJJygwGg8FgMHI5CnPdmxN5WRvnZk0WjWvjRYsWuZn5wIED/YsvvoisacuWLetr166NzFu9erWvWLHCH3zwQZcUWT//+uuvkTktWrTwu+66K/J6yJAhPmvWLF+zZo1/+OGHfuONN7qZ+YwZM/Itf35hTctgMPIyAg/AYDCK1iisxfDixYs9JibGX3/99X3eGzp0qFesWNE3btzo7gcvgVu3bu3nnHPOQT/rcBe6e/vll18iefJLrVq1XNI+Y926dZE5W7du9V69evkRRxzh8fHx3qZNG1+9enW26+zevdsHDBjgVapU8djYWG/SpIkvW7Ys25y1a9d6ly5dPCkpyePi4rxevXr+j3/8w9PT0yNzevTo4bVq1Tpg3v2VwLNmzfLTTz/dExMTPT4+3k888UR/6KGHfMeOHXn7xcklFswMBoPBYDByO6KpBM7r2jg3a7JoXRtPnTrV//rXv3piYqJXqFDBmzVr5v/973+zzWnatOl+188LFy6MzKlVq5b36NEj8vrWW2/1WrVqeWxsrFeuXNmbN2/u8+fPz9fs+YU1LYPByMsw9/z/0QkA4WVmHm2/b9SuXVu9e/fO9rCL3Fi0aJGaN2+ub775RkcddVQ+p0M0yPpRwUM/LQ8AACBLNK57c4K1cXixpgWQF5TAAHIlGhfDtWvXVmpqqkqVKqVly5apfv36uTp38+bN2rlzJwvdEGPBDAAAcisa1705wdo4vFjTAsgLSmAAuRKNi+GvvvpKe/bskSQdffTRKl26dI7PXbdundLT0yVlPuAiJiamQDIiWCyYAQBAbkXjujcnWBuHF2taAHlBCQwgV4rqYhjFGwtmAACQW6x7EW1Y0wLIixJBBwAAAAAAAAAAFBxKYADFXs+ePdWyZctcnTN27FiVLFmygBIBAAAAecMaFwCwN0pgAMXeE088oSlTpuTqnC5dumjjxo0FlOgPmzZtUufOnVWuXDmVL19eXbt21ffff3/Qcx599FE1adJEFSpUUMWKFdWqVSu9++672eaMHTtWZrbPWL9+fbZ56enpeuSRR1SvXj3FxsaqWrVquv766/P7awIAACCfhW2Nu7cFCxYoJiZGdevW3ee9p59+WieddJLKlCmjatWqqUePHtq8eXPk/Y8++kjNmjVT1apVFRsbq1q1aunmm2/W1q1b8+W7AUC04j/xASj2ypcvn+tz4uPjFR8fXwBp/pCRkaH27dtLkubNmyd3V9++fdWxY0ctXrxYZvvfDmzhwoW65ppr9Ne//lUlS5bUI488opYtW+p///uf6tSpE5kXExOjDRs2ZDv3yCOPzPb66quv1tKlS/XPf/5Tp512mn799Vd9+eWX+fxNAQAAkN/Ctsb93ebNm9WjRw+1atVKa9asyfbe1KlTddNNN+npp59Wy5YttXHjRt1www3q1q2b5s2bJ0mKjY1Vz549dfrpp6tChQpauXKlbrzxRm3YsEHTpk0rmC8NANHA3RkMBiPHI/O3jaJj27Zt3qNHD09ISPBKlSr5wIED/ZprrvGmTZtG5vTo0cOTk5P3ef3MM8/40Ucf7YmJid6hQwf/7rvvInPGjBnjMTExBZp97ty5Lsm/+OKLyLFPPvnEJfmiRYtyfJ20tDRPTEz0p59+OnIsJ/kXLFjgJUqU8E8++ST34aNM1j+3gf/7w2AwGAwGo+iMaF73Ftc1bnp6uicnJ/vDDz/sgwcP9mOPPTbb+zfffLOfccYZ2Y499dRTnpCQcNDr/uc///Ejjjgil9+k8LGmZTAYeRlsBwEg1G6//XbNmTNHkydP1uLFi/XLL79o6tSphzxv2bJlWrRokd58803NnDlTy5cv15133pmrz+7Tp48SEhIOOl544YUDnr9kyRLVqVNH9erVixw76aSTdNRRR2nx4sU5zrF9+3bt2bNHRxxxRLbj6enpqlOnjqpXr67WrVtr6dKl2d6fNm2ajj32WC1cuFDHH3+8atasqc6dO++zZQQAAAAKV3Fd4w4dOlRmdsDM55xzjj7//HMtWrRI7q7Nmzfr5Zdf1gUXXHDAa37zzTeaMmWKmjdvfohvDgBFG9tBAAitbdu2afTo0XrmmWfUrl07SdKIESM0Z86cQ54bGxursWPHKjY2VpJ0/fXXa+TIkbn6/Pvvv18DBgw46JyqVase8L3U1FQlJSXtczwpKUmpqak5zjFgwABVqVJFF154YeRYvXr1NH78eJ1yyinatm2bnn32WZ133nlaunSpGjZsKElau3atvv76a40ZM0YjR45UbGys/v73v6t58+b67LPPCvxHBQEAALCv4rrGXbhwoZ555hmtWLFCJUrs/362Sy+9VL/88ovatWunPXv2KC0tTW3bttXYsWP3mdu4cWOtWLFCO3fuVPv27Q9aXANAGFACAwittWvXas+ePTr77LMjx2JiYvSXv/zlkA+eqF+/fmRxLEk1atTI9kCJnKhSpYqqVKmSu9A5dKi90n53//33a/LkyZo/f74SEhIixxs1aqRGjRpFXjdp0kTr1q3TI488EtkLLT09Xbt27dL48eN10kknSZImT56satWq6Y033lDnzp3z8RsBAAAgJ4rjGveHH35Qt27dNHr06P0WyL97++239fe//12PPvqozjvvPG3cuFF33nmnevToocmTJ2ebO3nyZG3btk2ff/65Bg0apD59+mjcuHH5+n0AIJqwHQSA0HL3wz63VKlS2V6bmTIyMnJ1jbz+qFy1atW0adOmfY5v2rTpoIvf391zzz16/PHHNXfuXJ155pmHnN+wYUOtWrUq8rp69eoyM9WvXz9yrHLlyqpSpYq++uqrQ14PAAAA+a84rnE/+eQTffvtt2rfvr1KliypkiVL6v7779fatWtVsmRJvfjii5Kkv/3tb7r44ot144036uSTT1abNm00cuRIvfzyy/riiy+yXbNmzZqqX7++OnXqpNGjR2v8+PH7zAGAMOFOYAChVbduXZUqVUrvvvuuTjzxREmZTyP+4IMPdPTRRxf45+f1R+WaNGmi+++/XytXrozsmfbpp59qw4YNOueccw563dtvv11jx47V/Pnzc1QAS9KKFStUrVq1yOtzzz1X48aN06pVq3TCCSdIkn7++Wd99913ql27do6uCQAAgPxVHNe4f/3rX/Xxxx9nO/bUU09pxowZmjlzpmrWrCkp81kYf94qIiYmRtLBy/Pfi/CdO3ce9HsBQFFGCQwgtBISEnTNNdfonnvuUVJSkurUqaNhw4bpxx9/VK1atQr88/P6o3ItW7bUGWecoe7du+vJJ5+Uu6tv3746++yz1bRp08i8E044Qf369VO/fv0kSf369dO4ceM0depU1ahRI3KnRXx8vMqXLy9Juu+++3TWWWfpuOOOi+wJvGDBAr3xxhuR63bt2lUPPvigrrnmGg0bNkyxsbH629/+plq1amXbXxgAAACFpziuccuWLasGDRrsk6N06dLZjl900UV6+OGH1bBhw8h2ELfeeqsaNGig448/XpL03HPP6YgjjtBJJ52kuLg4ffLJJxo4cKBOO+00nXLKKYf9vQAg2lECAwi1xx57TDt27NBll12muLg4XXvttWrXrp1++eWXoKMdUokSJTRjxgz1799fLVu2lJmpbdu2evLJJ7Ptl7Zy5Ur98MMPkdcjRoyQJLVp0ybb9Xr06BF5KMaWLVvUp08fbdq0SYmJiTr55JOVkpKiFi1aROaXKVNGKSkpuuWWW9S8eXPFxcWpadOmmj9/Pg+FAwAACFBxXOPmxN13362YmBg99NBD6tOnjypUqKBmzZrp4YcfjtwRHBMTowcffFBr165VWlqaatasqY4dO+qOO+444APnACAMLC/7CQEofszMi/LvG+6uE088Ua1atdKwYcOCjoNCYmZy95w9TQ8AAEBFa93LGrd4YE0LIC+4ExhAqH388cdasWKFGjVqpB07dmj48OFavXr1QR9WAQAAAEQz1rgAgNyiBAYQamamESNGqF+/fjIznXTSSZo7d67OOOOMoKMBAAAAh4U1LgAgt9gOAkCuFKUfiwN+x4/OAQCA3GLdi2jDmhZAXrDrOQAAAAAAAACEGCUwAOTCkCFDVLdu3aBjAAAAAAWKdS8AhAslMACE0C233KKzzjpLZcqUkdm+PzG2aNEimdl+x6OPPhqZN2rUKCUnJ6tSpUoyMy1atCjbddLS0jRo0CCdeeaZSkxMVJUqVdSxY0d98cUX2ebVrl17v5910kknFcj3BwAAQPjt2rVL7du319FHH624uDhVrVpVl1xyyT5rUUlavHixWrRoocTERCUmJurss8/W2rVrI+83a9Zsn7Vqs2bNIu/ndN0LANGKEhgAQig9PV1XXHGF+vfvv9/3GzdurNTU1Gzj8ccfV4kSJdS5c+fIvO3bt6tFixb617/+td/r7Nq1S//3f/+nAQMGaNmyZZozZ4527typli1basuWLZF5y5Yty/ZZa9asUXx8vC6//PL8/eIAAAAoNsxMLVu21Msvv6yVK1fqzTff1K5du5ScnKxdu3ZF5s2ePVtt2rRRs2bN9Pbbb+vDDz/UoEGDVKZMmWzXu+KKK7KtWadPnx55L6frXgCIWu7OYDAYOR6Zv20UrMWLF3vjxo09ISHBExIS/JRTTvF58+a5u3tGRob37t3bjznmGI+Li/PatWv7wIEDfceOHZHzBw8e7Mcee6xPnjzZjz32WI+Pj/eLLrrIt2zZ4tOmTfPjjz/eExIS/JJLLvFffvklcl6PHj08OTnZH3vsMa9evbrHx8f7pZde6j/++OM+197brFmz/KyzzvK4uDg/6qij/MYbb/StW7fm6PsUtAkTJnhO/541btzY27Vrt9/3vvnmG5fkCxcuPOR1Nm/+f/buO7yqKm3j8O8lCASCVKlKkS5YQAUEBAS7A2N3rKAoYptxxoJKB1HR0VEUBSwg2FDEhoAVNJYRFFB6U7BQLOiHdAjv98cJGQJJSEhZpzz3da1Ls8/e+zwbwso6b9Zee50DPnXq1Gz3GT16tBcvXtx/+umnXGXLr/Q/g+D/ftTU1NTU1NRip2ncG1vj3t3mzp3rgM+dO9fd3dPS0rxu3breu3fvHI/r0KGD9+jRI0/vlZtxb0HSmFZNTS0/TTOBRSSqpKWl0bVrV1q1asXs2bOZPXs2AwcOJDk5GYj84qpq1aq88MILLFq0iEceeYSxY8cydOjQTOdZs2YNzz77LJMmTWLq1Kl8+umnnH/++YwePZoJEyYwdepUPv74Y+65555Mx82cOZMZM2Ywbdo0pkyZwty5c+nRo0e2ed9//33OO+88unfvzrx585gwYQKff/55xjH7u56s3HPPPaSkpOTY9s6dX/PmzeOzzz7j2muvzfe5NmzYAED58uWz3WfUqFF06dKFGjVq5Pv9RERERGKRxr0FP+79888/efLJJ6lZsyYNGjQAYPbs2Xz33XfUqlWLjh07UqVKFVq3bp1plu9ur732GocccgiNGzfmxhtvZP369Tm+X27GvSIiUSN0FVpNTS22GoU8I2L9+vW5nnG624MPPuj169fP+HrAgAGelJTkv/zyS8a266+/3osVK+br1q3L2Pb3v//djz322Iyvu3Xr5mXKlMk0S+Kdd95xwJctW5Zx7j1nRLRv397vvPPOTHk+++wzB/znn38+oOv57bfffNmyZTm2PWdp5CS3M4FvuOEGr1mzpu/cuTPL13M7EzgtLc3POOMMP+644zwtLS3LfWbNmuWAT5s2bb+5CgqaNaGmpqampqaWx6Zxb+yMe2+//XYvU6aMA964ceOMa3B3f+mllxzw8uXL+6hRo3zOnDk+dOhQNzOfMmVKxn6jR4/2d9991+fNm+evvvqqN27c2Fu0aOHbt2/P8j1zM+4taBrTqqmp5acVL+Kas4hIjipUqMDVV1/NaaedRqdOnejQoQPnnnsuDRs2zNjnmWeeYdSoUaxcuZJNmzaxc+dOdu3alek8NWvWpHLlyhlfV6tWjWrVqlGlSpVM237++edMxx1xxBGUK1cu4+u2bdsCsHDhwiyfjvzll1/yxRdfMHz48Ixt7g7AsmXLaNOmzX6vZ28VK1akYsWKOf45FaTNmzfz3HPPcfPNN5OUlHTA53F3evbsybx580hNTaVYsaxvNhk1ahR169bl1FNPPeD3EhEREYl1GvcW3Lj3tttu4+qrr+ann37i3//+N+eccw6fffYZZcuWJS0tDYCrr76anj17AnDMMccwc+ZMHn30Uc444wwArrnmmozzNWvWjKOPPpr69eszbdo0unTpkun9cjvuFRGJJuqpRCTqPPnkk3z11VeccsopfPTRRzRr1ownn3wSgIkTJ9KrVy8uuugipkyZwpw5c+jfvz87duzIdI6DDjoo09dmluW2vQfR2TGzLLfv2rWL3r17M3fu3Iz29ddfs2zZMpo3b77f68lKUS8H8eKLL7Jx40auvvrqAz5HWloa3bt3591332XGjBnUqVMny/02bNjAiy++SM+ePbP9MxURERFJFBr3Fsy4t3LlyjRo0ICOHTsyadIkVq5cyfPPPw+QsfxY06ZNMx3TtGlTVq1ale0569WrR+XKlVm6dGmm7bkd94qIRBvNBBaRqNSsWTOaNWvGv/71L3r16sXIkSO55ppr+Oijj2jevDn/+te/MvZduXJlgb3vokWL2LBhAwcffDAAn332GQBNmjTJcv9jjz0229kSe8ruerLSq1cvLrzwwhzPV5AzhUeNGsVZZ53FoYceekDH79y5k0svvZQvvviCjz76iLp162a773PPPcf27du58sorDzSuiIiISFzRuLfgx73uztatWwE47rjjSE5OZvHixZn2WbJkSY4F3B9++IHffvuN6tWrZ2zLy7hXRCTaqAgsIlFl+fLlPPnkk3Tp0oXDDjuM1atXk5qaSosWLQBo1KgRTz/9NG+88QbNmjVj8uTJWT7U4UCZGVdccQV3330369ev54YbbqBr167ZDnYHDRrEaaedxm233cZll11G6dKlWbx4MW+99RajR4/e7/VkpSBui1u+fDkbN27k+++/B2Du3LkA1K9fn5SUlIz95syZw6xZs3j77bezPM/atWtZu3Ztxu2Dy5cvp3z58hm3Ge7cuZMLLriAzz//nDfffJPk5GTWrl0LkDF7Y0+jRo3i7LPPpmrVqvm6PhEREZFYp3Fv/se9M2bMYNGiRbRp04YKFSrwww8/MGzYMIoVK8a5554LRMakN910EyNGjOCoo46iZcuWTJkyhddee42pU6cCsGLFCp577jnOPPNMqlSpwpIlS+jduzd16tTh7LPPBsjzuFdEJOqEXpRYTU0tthqF/ICM1atX+znnnOM1a9b0EiVKePXq1f3qq6/OeGjF9u3bvWfPnl6hQgUvW7asX3zxxf7oo49mevjZ3g+xcHcfMmSI165dO9O2e++912vWrJnxdbdu3bxz587+wAMPeLVq1Tw5OdnPPfdc//XXX3M89/Tp071Dhw5eunRpL1OmjB955JHev3//XF1PYenQoYMD+7S9H9Rx7bXXeq1atbJ9mMWAAQOyPM+AAQPc3f27777L8vU999nt888/d8Dff//9QrjinKGHaKipqampqanlsWncG/3j3v/+97/evn17r1ixopcoUcJr1arll156qS9YsCDTfjt37vR+/fp5zZo1PTk52Zs3b+6TJk3KeP3777/3Dh06eKVKlbxEiRJet25d79mzp69evTpjn7yMewuLxrRqamr5aebuRVBqFpF4YWYer/1G9+7d+fHHH3n//fdDR5ECZma4uxYhFhERkVzTuFeijca0IpIfejCciIiIiIiIiIiISBxTEVhEREREREREREQkjmk5CBHJk3i+LU7il26dExERkbzSuFeijca0IpIfmgksIiIiIiIiIiIiEsdUBBaRqDJ27FiKFy8eOkauDBw4EDPDzLj11ltDx0lIt956a8bfwd133x06joiIiEiuadwru51//vkZf77PPfdc6DgiEqdUBBYRyYc6deqwZs0aBgwYkLHttdde44wzzqB69eqYGWPHjs3xHB9++CFJSUnUr18/0/axY8dmDAb3bCtXrszyPOvWraNatWqYGT/++GOm19auXcuFF17IwQcfTLly5bj44ov55Zdf8nSt8+bN44orrqBu3bokJydTv359+vfvz7Zt2zLtV6dOnX0yd+/ePdM+v/zyC1dddRU1a9YkOTmZJk2aMHz48Ez7ZHXtZsZZZ52Vsc+AAQNYs2YNhx56aJ6uRURERETypjDHvQBPPPEETZs2pXTp0lSvXp1u3bqxbt26TPs89dRTHHnkkZQuXZpatWoxePBgdu3alafrSE1N5YILLuCwww6jdOnSHHHEETz88MPsvfTHzTffTKtWrShdujRm2a/AkJqaSqdOnShbtixly5aldevWrFixIuP13r1707hxY1JSUihfvjzt2rVj2rRp+1zXmjVr8nQdIiJ5FRu/dhQRiVJJSUlUq1Yt07aNGzfSsmVLevbsyQUXXJDj8evWraNbt26ccsopLF++PMvz713QPeSQQ/bZb9euXVx66aW0bNmSt956a5/XunTpAsB7772Hu3P99ddzzjnnkJqamuOgdk+zZ8+mbNmyPP3009SpU4evv/6aa6+9lvXr1/PYY49l2rd3797cfPPNGV8nJydnev3KK69k1apVvPzyy9SsWZP333+f6667jkqVKnHppZcC7DMQXrlyJSeccAJ/+9vfMrbtHmwnJSXl6hpERERE5MAU5rh34sSJ/P3vf+eJJ57g5JNP5qeffuK6667jsssu47333gMihdKbbrqJkSNHcuKJJzJ//nx69uzJzp07GTx4cK6v47PPPqNevXr84x//oEaNGqSmptKrVy927tyZaZZzWloal1xyCatXr+b+++/P8lzTpk3jvPPOo3fv3jz88MOUKVOGhQsXUrp06Yx9jjjiCE499VTq1KnDjh07GDt2LF26dOGLL76gRYsWAJQvXz7X+UVEDpi7q6mpqeW6RbqNfY0ePdoPPvhg37x5c6btd999t9epU8d37drlu3bt8quvvtoPP/xwL1WqlNepU8d79+7tW7Zsydh/zJgxnpSUlO3X7u7fffedA56ampqxbcmSJd61a1c/+OCDvWLFiv6Xv/zFly9fnmXWgjJgwACvV69ejvskJSX5mDFjsnwtLS3NO3fu7Pfee2+W58rq2rMzcOBAP/300/3DDz90wH/44YeM1959910HfPHixRnb5s+f74DPmDEjV+fPzrBhw7xq1aqZttWuXduHDBmS43HlypXz4cOHZ9rWsmVLv/HGG7M95q677vKKFStm+n7J7Xumf98G//ejpqampqamFjtN497/Kexx7z/+8Q9v0aJFpm2PP/64p6SkZHzdtm1bv/baazPt89BDD3mZMmV848aNebiafV133XXeqlWrLF8bP368Z/W9kJaW5nXr1vXevXvn+f3Kly/vDz/88D7bAR8/fny2x2lMq6amlp+m5SBEpEBceOGFbN++nTfffDPT9vHjx3P55ZfvfpItVatW5YUXXmDRokU88sgjjB07lqFDh+brvdeuXUu7du2oU6cOn376KampqZQrV46TTz6ZzZs3Z3vcGWecQUpKSo4tNTU1X9lyMmTIEMyM22+/Pdt90tLSqFu3LjVq1OC0007js88+22ef6dOn8+STT/Lss89mOav3k08+oW7dujRq1ChjW9OmTTn00EPzfX0bNmzIcubCo48+SqVKlTjyyCPp27fvPn8P7dq149VXX2XdunW4OzNmzGDhwoWcccYZWb7Pjh07eOaZZ+jWrRulSpXKV2YRERGR/NC4N+/2N+5t164dixYtYsaMGbg769at4+WXX860DNjWrVv3GQcmJyezadMmvvrqq3zly25Mm5PZs2fz3XffUatWLTp27EiVKlVo3bo1kyZNyvaYnTt3Mm7cODZu3MiJJ56Yr8wiInml5SBEpECUK1eOv/71r4wbN46LLroIgJkzZ7JkyRIuv/xyAIoVK5bp4V116tRh+fLlPPHEEwwZMuSA3/uJJ56gfv36PPLIIxnbxowZQ8WKFXn77bezvTXtqaeeYsuWLTmeu2bNmgecKyfTp09n5MiRzJkzh2LFsv59XKNGjRg3bhxHHXUUGzdu5Mknn6R9+/Z89tlntGzZEojcVnfZZZcxduxYqlSpwsKFC/c5z5o1a/a5dQ+gWrVq+Vp7bOnSpQwfPnyfDzP/+Mc/aNGiBRUrVmTOnDncddddfPPNN5k+KL344ot0796datWqUbx4ccyMESNGcOaZZ2b5Xm+88QZr166lZ8+eB5xXREREpCBo3Js3uRn3nn/++fzxxx+ceeaZ7Nixg507d3LGGWdkWmP4jDPOYMSIEVxwwQW0adOGxYsX85///AeA1atXH3C+1NRUJkyYwKuvvpqn43av+9unTx+GDRtGy5YtmTJlCueffz5vv/12pskNkydP5m9/+xtbtmzh4IMP5rXXXstYCkJEpKioCCwiBeaKK67gr3/9Kz///DNVqlRh/PjxnHDCCTRo0CBjn2eeeYZRo0axcuVKNm3axM6dO/P8MIe9ffnll8yaNYuUlJRM2zdv3syyZcuyPa6wBrr78+uvv3LZZZfxzDPPZFmc3e2EE07ghBNOyPi6bdu2fPfddwwbNixjkHrppZdyxRVXcMoppxxQltyuB7y3VatWcdppp3H22Wdz4403Znrtn//8Z8b/H3nkkRx66KF07tyZefPmceSRRwKR2SArVqxg6tSp1KxZk48++oh//vOfVK1ala5du+7zfqNGjaJDhw40btz4gPKKiIiIFCSNe3Mnt+PeTz/9lH79+vHAAw/Qvn17fvrpJ26//Xa6devGhAkTAOjbty+//PILJ510Ert27aJ8+fL84x//oH///tkWl/dnzpw5nH322dxxxx1ZjkFzkpaWBsDVV1+dMVHhmGOOYebMmTz66KOZisAnnXQSc+fO5ffff+eVV17hiiuu4P3331chWESKlJaDEJECc9ppp1G5cmVeeOEFduzYwUsvvcQVV1yR8frEiRPp1asXF110EVOmTGHOnDn079+fHTt2ZHvOrAZ027dvz/T1rl276Ny5M3Pnzs3Uli5dSq9evbI9d6jb4ubPn8/q1avp0qULxYsXp3jx4gwePJgVK1ZQvHhxXnjhhWyPbdmyJUuXLs34+oMPPuCBBx7IOE/nzp2ByGyTa6+9FoDq1auzdu3afc61du3aHAfj2VmxYgXt27enXbt2jBkzZr+F5FatWgFk5P7222954IEHGDVqFKeffjpHHnkkN954I5deein33HPPPscvX76cDz74IMe/SxEREZGipHFv7uR23HvnnXdy9tlnc8MNN3DkkUdy+umnM2rUKF5++WUWL14MQMmSJRk5ciSbN29m5cqVrFmzhmOPPRaAevXq5TnbzJkz6dy5M9dee+0Bzc6uUaMGEFlmbU9NmzZl1apVmbaVKVOG+vXrc/zxx3P//fdn/FdEpChpJrCIFJikpCQuueQSxo8fz+GHH86ff/6ZcYscwEcffUTz5s3517/+lbFt5cqVOZ6zSpUqpKWlsW7dOqpWrQpEfmO/p2OPPZZx48Zx6KGH5mm92FC3xR1//PHMmzcv07bHH3+cyZMnM2XKFA477LBsj50zZw7Vq1fP+Hrv88yaNYurrrqKd955hyZNmgCRGcSDBw9myZIlGesCL1iwgB9//JF27drlKfvixYvp3Lkzp512Gk899VSuZl3s/vvanXv3enV7H5uUlIS773P86NGjqVSpEueee26esoqIiIgUFo17cye3497NmzdnOTYE9hkfFi9enEMPPRSAF154gbp169K8efM85fr0008588wzufnmmxk0aFCejt3tuOOOIzk5OaNIvduSJUuoU6dOjsfu2rWLrVu3HtD7iogcKBWBRaRAdevWjYceeogBAwbwl7/8hQoVKmS81qhRI55++mneeOMNmjVrxuTJk3N8cAJEZr6WLVuWO+64gz59+rBs2bJM66sB3HTTTTz99NOce+659OnThxo1avD999/zxhtvcN1112W6LW9PhXVb3Pr16/n+++8zvv7++++ZO3cuFStWpFatWpQpU4ZmzZplOqZKlSqUKFEi0/ZBgwbRqlUrGjRokLEm8Icffshbb72Vsc/e5/n111+ByJ/17tkJJ598Mi1atODyyy/n0Ucfxd25/vrrad26NR06dMj1dS1YsIBOnTrRrl07hg4dys8//5zx2iGHHEJSUhKff/45n3/+OSeddBLly5dn7ty53HLLLbRu3TpjaYvGjRvTqFEjbrzxRh566CFq1KjBjBkzGDNmDAMHDsz0ntu3b2fs2LFceeWVlChRItdZRURERAqbxr0FN+7961//yr333kvLli0zloP45z//SbNmzWjYsCEQuTvs008/5YQTTuDPP//k6aefZsKECbz11lt5Wg7io48+4qyzzuKqq67iuuuuy3TH3J53yS1fvpyNGzdmXN/cuXMBqF+/fsbs6ZtuuokRI0Zw1FFHZawJ/NprrzF16lQg8vyOxx9/nDPPPJNq1arxxx9/8OKLL/LBBx8wceLEXGcWESkQ7q6mpqaW6xbpNnJ2zDHHOOBvvPFGpu3bt2/3nj17eoUKFbxs2bJ+8cUX+6OPPup7nnPMmDGelJSU6bjJkyd748aNvVSpUt62bVufMmWKA56ampqxz7fffusXXXSRV6xY0UuWLOmHH3649+jRw3/55Zf95j1QAwYM8Hr16u2zfcyYMQ7s07p165anc/3zn//02rVre8mSJb1y5cp+0kkn+QcffJBjpunTpzvgP/zwQ6btq1ev9vPOO89TUlK8bNmyfuGFF/q6desy7VO7du39ZszqugD/7rvv3N39q6++8tatW3v58uW9ZMmS3qBBA7/99tv9jz/+yHSuFStW+EUXXeTVqlXzUqVKeaNGjfy+++7ztLS0TPu9+OKLbma+bNmyHK+7du3aPmTIkGxfT/8eC/7vR01NTU1NTS12msa9/1PY496dO3f60KFDvWHDhl6qVCmvXr26X3zxxb5y5cqMfZYsWeLHHnusly5d2suUKeMdO3b0jz76aJ/zAz5gwIBs379bt27Zjmn31KFDhyz3mT59eqbc/fr185o1a3pycrI3b97cJ02alPH6+vXrvWvXrl69enU/6KCDvGrVqn7yySf71KlTs8wG+Pjx47PNrjGtmppafpq573vrrYhIdszM1W9EDBw4kOeee47ly5eHjpJvmzdvplKlSjzzzDNcfPHFoePkWZ06dbj66qvp27dvlq+bGe5+YE/BExERkYSkce//xMq499tvv6V+/fqkpqbStm3b0HHyzMwYP348l112Wbava0wrIgdKD4YTEcmHb7/9lpSUFPr06RM6Sr68//77tGrVKuYKwH369CElJSXTbYgiIiIiUvBiYdw7efJkrrjiipgrAF9++eWkpKSEjiEicU4zgUUkTzQj4n/Wr1/P+vXrAahQoQKVKlUKnCjx/Pbbb/z+++8AVKpUKdNafHvSrAkRERHJK417/0fj3sK1du1aNm7cCETWJc6uIKwxrYjkh4rAIpInGgxLLNKAWURERPJK416JNhrTikh+aDkIERERERERERERkTimIrCIiIiIiIiIiIhIHFMRWERERERERERERCSOqQgsIiIiIiIiIiIiEseKhw4gIrGlVKlS68ysaugcInlRqlSpdaEziIiISGzRuFeijca0IpIfpqediojknZk1Az4A6rv7n6Hz7MnMagLzgCPcfW3oPCIiIiISO8xsAjDH3e8LnWVvZvYosMPd/xU6i4hIrFERWETkAJjZROALd38gdJasmNl/gGLu/o/QWUREREQkNpjZUcC7RCY6bAydZ29mVh1YADRz99Wh84iIxBIVgUVE8sjMmgNvExkcbw6dJyvpty4uBI5x9x9C5xERERGR6GdmrwEfu/t/QmfJjpn9Gyjl7jeGziIiEktUBBYRySMzewt4z92Hh86SEzMbBpRz916hs4iIiIhIdDOz44A3iEx02BI6T3bM7BBgMdDC3VeFziMiEitUBBYRyQMzawVMBBq4+9bQeXJiZpWApcBx7v5d6DwiIiIiEr3MbArwtruPCJ1lf8xsKFDF3a8JnUVEJFaoCCwikgdm9g4wyd1Hhc6SG2Y2GDjU3a8KnUVEREREopOZtQFeBBq6+7bQefbHzCoSmezQ2t2Xh84jIhILVAQWEcklMzsRGAc0cvftofPkhpmVB5YBbd19aeA4IiIiIhKFzOwD4EV3fyp0ltwyswFAPXe/InQWEZFYoCKwiEgumJkBM4Ax7j42bJq8MbM+wBHufmnoLCIiIiISXczsJOBJoIm77widJ7fMrByRyQ4d3H1R6DwiItFORWARkVwws5OBEUBTd98ZOk9emFlZYDnQ2d3nh84jIiIiItEhfaJDKjDK3ceHzpNXZnYH0NzdLwqdRUQk2hULHUBEJNqlD46HAINirQAM4O5/Ag8AAwNHEREREZHocipQCXghdJAD9CjQwcyOCh1ERCTaqQgsIrJ/ZwBlgQmhg+TD40AbM2seOoiIiIiIhLfHRIcB7p4WOs+BcPdNwDBgUOgsIiLRTkVgEZEcxMPgGMDdNwP3AYNDZxERERGRqNAFKAlMDB0kn0YCLc3suNBBRESimYrAIiI5Oxsw4LXAOQrCaOAYM2sVOoiIiIiIhGNmxYhMDujv7rtC58kPd98CDEWTHUREcqQisIhINuJpcAzg7luBu4nMbBYRERGRxHUesAN4M3SQAvI00NTM2oQOIiISrVQEFhHJ3oXAJuDt0EEK0BigvpmdGDqIiIiIiBQ9M0sisoZuf3f30HkKgrtvIzJ5Q5MdRESyoSKwiEgWzKw4MBDoFy+DYwB3305kgHx3+nrHIiIiIpJY/gb8DkwLHaSAjQNqm9lJoYOIiEQjFYFFRLJ2KfAz8H7oIIXgOaAa0Dl0EBEREREpOvE60QHA3XcQmeE8RJMdRET2pSKwiMhezOwgYABxODgGcPedRAb/GiCLiIiIJJYrgB/d/cPQQQrJC0Al4NTQQUREoo2KwCIi+7oSWOHuH4UOUogmAGWBM0MHEREREZHCZ2YlgP5Av9BZCou7pxGZzKGlz0RE9qIisIjIHsysJNCXOB4cA7j7LiIfAgZrgCwiIiKSEHoAi939k9BBCtlEoATQJXQQEZFooiKwiEhm1wDfuPt/QwcpAq8BBpwdOIeIiIiIFCIzSwb6EOcTHWCfyQ6qeYiIpFOHKCKSzsxKA3cRGTTGvfT1jjVAFhEREYl/1wJfufus0EGKyJvADuC80EFERKKFPvSLiPzPdcB/3X126CBF6G1gE3Bh6CAiIiIiUvDMrAzQmwSZ6AAZkx36AYPMLCl0HhGRaKAisIgIYGYpwG1EHiSRMPYYIA80s+Kh84iIiIhIgbsBSHX3r0MHKWLvAL8DfwsdREQkGljk87+ISGIzs7uAI9394tBZilr6g+FmAM+4+7OB44iIiIhIATGzg4HlQEd3Xxg6T1Ezs5OA0UATd98ZOo+ISEgqAotIwjOz8sAyoJ27LwkcJwgzaw+MBRq5+47AcURERESkAJhZP6Chu18eOksoZvYh8Jy7PxM6i4hISCoCi0jCM7NBQG137x46S0hm9h7wiruPDp1FRERERPLHzCoQmejQ2t2Xh84Tipm1BZ4nUgzfHjqPiEgoKgKLSEIzs0rAUuB4d/82dJ6QzKw18DLQwN23hc4jIiIiIgfOzO4Gqrt7j9BZQjOzqcCb7v5E6CwiIqGoCCwiCc3M7gUquvu1obNEAzObDExz98dCZxERERGRA2NmhwCLgWPdfWXgOMGZ2fHAa0QmO2wJnUdEJAQVgUUkYZlZVWARcLS7/xA6TzQwsxbAZKC+u28OnUdERERE8s7MHgDKuPv1obNECzN7HZjh7g8HjiIiEoSKwCKSsMzsIeAgd78pdJZoYmavAp+5+4Ohs4iIiIhI3phZdWABcKS7/xQ6T7Qws6OAd4hMdtgUOo+ISFFTEVhEEpKZ1QTmAU3dfU3oPNHEzJoBHxAZIP8ZOo+IiIiI5J6ZDQfS3P2fobNEGzN7GfjK3YeFziIiUtRUBBaRhGRmI4At7n5r6CzRyMxeAOa7+z2hs4iIiIhI7pjZYcDXQBN3Xxc6T7QxsybAR0QmO2wInUdEpCipCCwiCcfMagOzgcbu/kvoPNHIzBoBnxB5eMYfgeOIiIiISC6Y2UjgD3e/I3SWaGVm44Gl7j4kdBYRkaKkIrCIJBwzewpY5+59QmeJZmY2Bvje3QeEziIiIiIiOTOzw4FZQEN3/y10nmhlZvWB/xKZ7PB76DwiIkVFRWARSSh7DPoauvv60HmimZnVJfJBopE+SIiIiIhEt/Rf4P/g7v1DZ4l26ZNC1rp739BZRESKiorAIpJQzGwcsNzdB4fOEgvMbBSw3t3vDJ1FRERERLJmZg2BT9FSXrmi5eFEJBGpCCwiCUMPgsi79IeLzAWO0MNFRERERKJT+kN9F7j70NBZYkX6g6I3u/ttobOIiBQFFYFFJGGY2QRgtrsPC50llpjZcGCnu/8rdBYRERERyczMmgEfEJno8GfoPLHCzGoC84Cm7r4mdB4RkcKmIrCIJAQzOxp4B6jn7ptC54klZlYdWAAc6e4/hc4jIiIiIv9jZq8Cn7v7v0NniTVm9h8gyd3/HjqLiEhhUxFYRBKCmb0OfOTu/wmdJRaZ2QNAaXe/IXQWEREREYkws+bA20RmAW8OnSfWmFlVYCFwjLv/EDqPiEhhUhFYROKemR0HvE7kQRlbAseJSWZ2CLAYaOHuq0LnEREREREws7eAd9390dBZYpWZ3QeUd/deobOIiBQmFYFFJO6Z2VTgLXd/PHSWWGZmdwPV3P3q0FlEREREEp2ZtQZeBhq6+9bQeWKVmVUClgAt3f3b0HlERAqLisAiEtfMrC3wPNDI3beFzhPLzKwCsAxo7e7LQ+cRERERSWRm9i4w0d1Hh84S68xsEFDL3a8MnUVEpLCoCCwicc3MPgSed/enQ2eJB2bWn8iyGpeHziIiIiKSqMysPTCWyESHHYHjxDwzK09kskM7d18SOI6ISKFQEVhE4paZnQQ8CTTR4LhgmNnBwHKgg7svCp1HREREJNGYmQEzgDHuPjZsmvhhZncBzdz9ktBZREQKg4rAIhKX0gfHqcBId38udJ54Yma9iTwg7qLQWUREREQSjZmdDIwAmrr7ztB54oWZpQArgM7uPj90HhGRglYsdAARkUJyGlAReDF0kDj0GNDezI4OHUREREQkkaRPdLgbGKgCcMFy943A/cCg0FlERAqDisAiEnfSB8dDiAyO00LniTfuvgkYhgbIIiIiIkXtTCAFmBA6SJx6AjjBzFqEDiIiUtBUBBaReNQVKAFMDB0kjo0EjjOz40MHEREREUkEe0x06O/uu0LniUfuvhm4FxgcOouISEFTEVhE4oqZFSMyaNPguBC5+1ZgKBogi4iIiBSVc9L/+1rQFPFvNHCUmbUOHUREpCCpCCwi8eY8YDvwZuggCeBpoImZtQ0dRERERCSemVkSkV++93M93b1Qufs2Iusua7KDiMQVFYFFJG6kD44HocFxkXD37UQGx0NCZxERERGJcxcCG4EpoYMkiDFAPTNrHzqIiEhBURFYROLJxcDvwDuhgySQccBhZnZS6CAiIiIi8cjMigMD0USHIuPuO0if7JC+FrOISMxTEVhE4oKZHQQMAPpqcFx03H0nkdnXGiCLiIiIFI5LgbXA+6GDJJjngWpA59BBREQKgorAIhIvrgB+cPfpoYMkoBeBisBpoYOIiIiIxJM9JjpoFnARS5/sMAC4W5MdRCQeqAgsIjHPzEoC/dKbFDF3TyMyQNZsYBEREZGCdSWw3N0/Dh0kQb0MlAHODB1ERCS/VAQWkXjQA1jk7p+GDpLAXgUOArqGDiIiIiISD8ysFJroEJS77wL6o8kOIhIHVAQWkZhmZsnAXUQGZxLIHgPkwWamny0iIiIi+XcN8LW7fxE6SIJ7HXDgnMA5RETyRR/URSTWXQt86e6zQgcR3gK2AeeFDiIiIiISy8ysNHAnmugQXPpazLsnOySFziMicqBUBBaRmGVmZYA70OA4KqQPkPsBgzRAFhEREcmX64HP3X126CACwBTgT+DC0EFERA6UisAiEstuBD5y929CB5EM7wLrgYtDBxERERGJRWZWFriNyIN3JQrsMdlhoJkVD51HRORAWKQvExGJLWZ2MLAc6ODui0Lnkf8xs47AU0ATd98RNo2IiIhIbDGzPkBTd78kdBb5n/QHw00Hxrr72MBxRETyTEVgEYlJZtYfaODul4fOIvsysw+AF9z96dBZRERERGKFmZUHlgHt3H1J4DiyFzM7EXgWaKTJDiISa1QEFpGYY2YVgaVAa3dfHjqP7MvM2gAvEBkgbwudR0RERCQWmNkgoJa7Xxk6i2TNzN4FJrr76NBZRETyQkVgEYk5ZjYUqOruV4fOItkzsynAZHd/PHQWERERkWhnZpWITHQ4zt2/C51HsmZmrYCJRO5K3Bo6j4hIbqkILCIxxcwOARYDLdx9Veg8kj0zOw54ncgAeUvgOCIiIiJRzczuAyq4+7Whs0jOzOwt4F13fzR0FhGR3FIRWERiipk9AJR29xtCZ5H9M7PXgI/c/eHQWURERESilZlVBRYCx7j7D6HzSM7MrDnwNlDf3TeHziMikhsqAotIzDCz6sAC4Eh3/yl0Htk/MzsKeIfIAHlT6DwiIiIi0cjM/gMkufvfQ2eR3DGzicB/3f3fobOIiOSGisAiEjPMbDiw093/FTqL5J6ZTQBmu/uw0FlEREREoo2Z1QTmAU3dfU3oPJI7ZtYU+JDIZIc/Q+cREdkfFYFFJCaYWS1gLtDY3X8OHEfywMyaAB8RGSBvCJ1HREREJJqY2ePAJne/LXQWyRszex5Y6O5DQ2cREdkfFYFFJCaY2Sjgd3e/I3QWyTszGwcsd/fBobOIiIiIRAszqw3MJjLR4ZfQeSRvzKwh8CmRByH/ETiOiEiOVAQWkahnZocDM4FG7v5b6DySd2ZWH/gv0NDd14fOIyIiIhINzOwpYK279w2dRQ6MmY0Bvnf3AaGziIjkREVgEYl6ZjYWWKWBVWwzsyeBn929T+gsIiIiIqHt8UvyBu7+e+g8cmDMrC7wJZHJDpqwIiJRS0VgEYlqZtYI+ATdYhXzdLujiIiIyP+Y2XhgqbsPCZ1F8sfMRgJ/aOk6EYlmKgKLSFQzsxeBee5+T+gskn9m9hiw1d1vDZ1FREREJBQzOwKYgR6cGxfM7FDga+AId18XOo+ISFZUBBaRqGVmzYAPgHruvjF0Hsk/M6sBzAOaufua0HlEREREQjCzl4Gv3H1Y6CxSMMzsEWCXu/8zdBYRkayoCCwiUcvMXgU+c/cHQ2eRgmNmDwHF3f3vobOIiIiIFDUzOxqYRmQW8KbQeaRgmFk1YAFwlLv/FDqPiMjeVAQWkahkZi2AyUQGx5tD55GCY2ZVgEVAc3f/PnQeERERkaJkZm8A09394dBZpGCZ2f1AirtfHzqLiMjeVAQWkahkZpOBd9z90dBZpOCZ2b1ARXe/NnQWERERkaJiZscDrxGZ6LA1dB4pWGZWGVgCHOvuKwPHERHJREVgEYk6ZnYCMAFo4O7bQueRgmdmFYGlQEt3/zZ0HhEREZGiYGbTgDfc/YnQWaRwmNkQoIa79widRURkTyoCi0jUMbP3gFfcfXToLFJ4zGwgUMfduweOIiIiIlLozKwt8DzQ0N23h84jhcPMKhCZ7HCCuy8PnUdEZDcVgUUkqphZB+AZoLG77widRwqPmZUDlgPt3H1J6DwiIiIihcnMPgSec/dnQmeRwmVm/YgU+y8PnUVEZDcVgUUkapiZAR8BT7v7s6HzSOEzszuJPEH54tBZRERERAqLmXUCRgFN3H1n6DxSuMzsYCKTHTq6+8LQeUREQEVgEYkiZnYK8BjQVIPjxGBmKUQGyCe7+/zQeUREREQKWvpEh0+AJ9z9udB5pGiY2e3Ace5+YegsIiIAxUIHEBGBjMHxEGCACsCJw903AvcDg0JnERERESkkpwEVgBdDB5EiNQJoZ2ZHhw4iIgIqAotI9DgLKAO8HDqIFLkngNZm1iJ0EBEREZGCtNdEh7TQeaTouPsmYBgwOHQWERFQEVhEooCZFSMyOOrv7rtC55Gi5e5bgHvRAFlERETiT1fgIODV0EEkiFFACzM7PnQQEREVgUUkGpwDOPB64BwSzpPAkWZ2QuggIiIiIgUhfaLDEDTRIWG5+1ZgKJHvAxGRoFQEFpGgzCyJyHqw/V1PqkxY7r4NuBvNBhYREZH4cT6wFXgrdBAJ6hmgkZm1DR1ERBKbisAiEtqFwJ/AlNBBJLixwOFm1iF0EBEREZH82GOiQz9NdEhs7r6dyEQHzQYWkaBUBBaRYMysOBocSzp330Hk+2FI+kNURERERGLVJcBvwLuhg0hUGA8camadQgcRkcSlIrCIhHQZsBr4IHQQiRrPA1WAk0MHERERETkQZnYQMADoq4kOAuDuO9FkBxEJTEVgEQnCzEoQGRxrFrBkcPc0It8Xd2uALCIiIjGqG7DK3WeEDiJR5SWgPHB64BwikqBUBBaRUK4Elrl7auggEnVeAZKBs0IHEREREckLMysJ9EtvIhn2mOwwWJMdRCQEFYFFpMiZWSmgLxocSxbcfRfQn8gAWT+nREREJJb0ABa4+2ehg0hUmgQUB7qGDiIiiUcfrkUkhJ7AXHf/InQQiVpvALuAc0IHEREREckNM0sG+hD5ZbbIPvaY7DBEkx1EpKip0xGRImVmpYE70OBYcpC+TnR/YJCZJYXOIyIiIpILvYBZ7v5l6CAS1SYDW4DzQwcRkcSiIrCIFLUbgM/cfU7oIBL1pgIbgItCBxERERHJiZmlAL3RRAfZj/TJDv3QZAcRKWIW6X9ERAqfmZUFlgOd3H1B6DwS/cysM/AEcIS77wydR0RERCQrZnYH0Nzd9ctr2a/0B8N9DIx29/Gh84hIYlARWESKjJn1IVLMuzR0FokN6QPkD4Fn3X1s4DgiIiIi+zCzcsAyoIO7LwqdR2KDmXUAngaauPuO0HlEJP6pCCwiRcLMyhOZBdzG3ZcGjiMxxMzaAeOBRu6+PXQeERERkT2Z2QCgnrtfETqLxBYzex94yd2fCp1FROKfisAiUiTMbDBwmLtfGTqLxB4zeweY5O6jQmcRERER2c3MKgJLgdbuvjx0HoktZnYC8BLQ0N23hc4jIvFNRWARKXRmVhlYAhzn7t+FziOxx8xaAq8CDdx9a+g8IiIiIgBmNhSo4u7XhM4iscnM3gbedvfHQ2cRkfimIrCIFDozGwaUc/deobNI7DKzN4H33X146CwiIiIiZnYIsBho4e6rQueR2GRmxwJvAvXdfUvoPCISv1QEFpFCZWbVgAXA0e7+Y+g8ErvM7BhgCpEB8ubAcURERCTBmdm/gVLufmPoLBLbzGwSkOru/wmdRUTil4rAIlKozOxhIn3NP0JnkdhnZq8AM939gdBZREREJHGZWQ1gPtDM3VeHziOxzcyOBN4jMtlhY+g8IhKfVAQWkUJjZocC3wBHuPva0Hkk9plZU+BDIgPkP0PnERERkcRkZo8CO9z9X6GzSHwws5eAue5+X+gsIhKfVAQWkUJjZo8DG9399tBZJH6Y2XPAIncfGjqLiIiIJB4zqwXMAZq4+8+h80h8MLPGwMdEHoT8f6HziEj8URFYRAqFmdUBvgIaufuvgeNIHDGzBsBnRAbIfwSOIyIiIgnGzEYDv7n7naGzSHwxs2eBb919UOgsIhJ/VAQWkUJhZk8Da9y9b+gsEn/M7BngR3fvHzqLiIiIJA4zqwfMBBq6+2+h80h8Sf/++oLI99f60HlEJL6oCCwiBS59pubnRGZq/h46j8QfzTQXERGRENJnan7n7gNDZ5H4lD7T/Fd3vyt0FhGJLyoCi0iBS1+zdYm7DwmdReKXmT0BbHD33qGziIiISPxLX7M1lcgDarVmqxSKPdacbuzuv4TOIyLxQ0VgESlQZnYEMIPI4HhD4DgSx8zsUOBroKm7rw2dR0REROKbmb0IzHP3e0JnkfhmZo8C2939ltBZRCR+qAgsIgXKzF4BZrn7/aGzSPwzs4cB3P3msElEREQknpnZkcB7RCY6bAydR+KbmVUH5gNHuvvq0HlEJD6oCCwiBcbMjgGmEhkcbwocRxKAmVUDFgBHu/uPofOIiIhIfDKzScCn7v5g6CySGMzsQaCEu98UOouIxAcVgUWkwJjZG8CH7v5I6CySOMxsGFDW3a8PnUVERETij5kdC7xJ5KHHm0PnkcRgZlWARUBzd/8+dB4RiX0qAotIgTCzlsCrRAbHW0PnkcRhZpWBJcCx7r4ycBwRERGJM2b2NjDV3R8LnUUSi5ndA1R2956hs4hI7FMRWEQKhJlNA15395Ghs0jiMbPBQE137xE6i4iIiMQPMzsBeAlo6O7bQueRxGJmFYGlQCt3XxE6j4jENhWBRSTfzKwdMB5o5O7bQ+eRxGNm5YFlQBt3XxY4joiIiMQJM3sfmODuT4bOIonJzAYAh7t7t9BZRCS2qQgsIvlmZtOB8e7+TOgskrjMrC/Q2N0vC51FREREYp+ZdQCeITK+2BE6jyQmMytHZLJDe3dfHDqPiMQuFYFFJF/MrBMwCmji7jtD55HEZWZlgeXASe6+MHQeERERiV1mZsBHwFPuPi50HklsZnYHcLS7Xxw6i4jErmKhA4hI7EofHN8NDFQBWEJz9z+BfwODQmcRERGRmHcKUAV4PnQQEeAx4CQzOzJ0EBGJXSoCi0h+nA6UI/KwDJFoMAJoa2bHhA4iIiIisSl9osMQYIC7p4XOI+LuG4FhaLKDiOSDisAickA0OJZo5O6bgfuAwaGziIiISMz6C5AMvBI6iMgeRgItzezY0EFEJDapCCwiB+qvQHFgUuggInsZDTQ3s5ahg4iIiEhsMbNiRH6ZPMDdd4XOI7Kbu28B7kWTHUTkAKkILCJ5tsfguJ8GxxJt3H0rkbWqNUAWERGRvDoH2AW8HjiHSFaeApqZ2Qmhg4hI7FERWEQOxAXAFmBy6CAi2RgDNDKzdqGDiIiISGwwsyT+N9HBQ+cR2Zu7byOyJN+Q0FlEJPaoCCwieWJmxYk8kECDY4la7r6dyIe4u9PXrxYRERHZn4uA/wOmhg4ikoNngTpm1jFwDhGJMSoCi0heXQL8ArwXOojIfowHagCdQgcRERGR6JY+0WEgmuggUc7ddxCZlDNEkx1EJC9UBBaRXDOzg4ABaHAsMcDddxL5MKcBsoiIiOzP5cBq4MPQQURy4QWgMnBK6CAiEjtUBBaRvOgGfOfuM0IHEcmlCcDBwOmhg4iIiEh0MrMSQH800UFihLunEZmco8kOIpJrKgKLSK6YWUmgX3oTiQkaIIuIiEguXAUsdffU0EFE8mAiUAr4S+ggIhIbVAQWkdy6Gljg7p+HDiKSR68BScBfQwcRERGR6GJmpYA+aKKDxBh330VkssNgM1NtR0T2Sx2FiOyXmSUDd6HBscSg9AFyPyKzgfVzT0RERPZ0LTDH3WeGDiJyAN4A0oBzQwcRkeinD8MikhvXATPd/avQQUQO0NvAJuCC0EFEREQkOphZaeAOIusBi8Sc9DWs+wGDzCwpdB4RiW4qAotIjswsBbgdDY4lhu01QC4eOo+IiIhEhRuAT9x9buggIvkwDfgDuChwDhGJcqaHn4pITszsTuBod/9b6Cwi+ZH+YLiPgKfcfVzoPCIiIhKOmZUFVgAnufuC0HlE8sPMOgEjgSPcfWfoPCISnVQEFpFsmVk5YDlworsvDp1HJL/MrAPwDNDY3XeEziMiIiJhmFlfoIm7Xxo6i0hBMLPpwDh3HxM6i4hEJxWBRSRbZjYQqOvu3UJnESkoZvYe8LK7Pxk6i4iIiBQ9M6sALAPauPvS0HlECoKZtQPGA43cfXvoPCISfVQEFpEsmVlFYCnQyt1XhM4jUlDMrDUwAWjo7ttC5xEREZGiZWZDgJruflXoLCIFycymAa+7+8jQWUQk+qgILCJZMrN7gMru3jN0FpGCZmZvA1PcfUToLCIiIlJ0zKwysAQ41t1XBo4jUqDMrCXwKtDA3beGziMi0UVFYBHZh5lVARYBzd39+9B5RAqamR0LvAnUd/ctofOIiIhI0TCz+4Gy7n5d6CwihcHM3gA+dPdHQmcRkeiiIrCI7MPMHgRKuvuNobOIFBYzmwR84u4Phc4iIiIihc/MqgELgaPc/cfQeUQKg5kdDUwD6rn75tB5RCR6qAgsIpmYWQ1gPtDM3VeHziNSWMzsSOA9IrOBN4bOIyIiIoXLzB4GcPebwyYRKVxm9jIwy90fCJ1FRKKHisAikomZPQZsc/dbQmcRKWxm9iLwjbvfGzqLiIiIFB4zOxT4BjjC3deGziNSmMzsCGA6kckOf4bOIyLRQUVgEclgZrWB2UATd/85dB6RwmZmjYBPiAyQ/y90HhERESkcZvYEsMHde4fOIlIUzOw5YLG73x06i4hEBxWBRSSDmT0J/OLud4XOIlJUzGwssNLdBwaOIiIiIoXAzOoCXwKN3P3X0HlEioKZNQA+Bxq4+++h84hIeCoCiwgAZlYP+AJo6O7rQ+cRKSpmdjgwE33vi4iIxCUzewb4yd37hc4iUpTM7Glgtb73RQRUBBaRdGb2LPCtuw8KnUWkqJnZKOA3zYIXERGJL2bWEPiUyGzIPwLHESlSZlaHyCz4xpoFLyIqAosIZtYYSEXrokqCMrPDgLloPWwREZG4YmbPA4u0LqokKjN7HNjo7reHziIiYakILCKY2UvAXHe/L3QWkVDM7FFgu7vfEjqLiIiI5J+ZNQU+JDLR4c/QeURCMLOawDdAU3dfGzqPiISjIrBIgjOzo4B3iQyON4bOIxKKmVUHFgDN3H116DwiIiKSP2Y2EfjC3R8InUUkJDP7D1DM3f8ROouIhKMisEiCM7PXgFR3fyh0FpHQzOzfQCl3vzF0FhERETlwZnYMMBWo5+6bA8cRCcrMqgILgaPd/cfQeUQkDBWBRRKYmR0LvElkFvCW0HlEQjOzQ4DFQAt3XxU6j4iIiBwYM3sTeN/dh4fOIhINzGwYcLC7Xxc6i4iEoSKwSAIzsynA2+4+InQWkWhhZkOBKu5+TegsIiIikndm1gqYCDRw962h84hEAzOrBCwFjnP370LnEZGipyKwSIIyszbAi0BDd98WOo9ItDCzikQGyK3dfXnoPCIiIpI3ZvYOMMndR4XOIhJNzGwwcKi7XxU6i4gUPRWBRRKUmX0AvOjuT4XOIhJtzKw/kWVSrgidRURERHLPzE4ExgGN3H176Dwi0cTMygPLgLbuvjRwHBEpYioCiyQgM+sIPAU0cfcdYdOIRB8zOxhYDrR398Wh84iIiMj+mZkB04Fn3X1M6Dwi0cjM+gBHuPulobOISNFSEVgkwaQPjj8GRrv7+NB5RKKVmd0BHOPufwudRURERPbPzDoDTxApcO0MnUckGplZWSKTHTq5+4LQeUSk6BQLHUBEitypQGXghdBBRKLco0BHMzsqdBARERHJWfpEh7uBgSoAi2TP3f8EHgAGhc4iIkVLRWCRBJI+OB5CZHCcFjqPSDRz903AMDRAFhERiQVnAAcDE0IHEYkBjwNtzKx56CAiUnRUBBZJLF2AUsAroYOIxIiRwPFmdlzoICIiIpK1PSY69NdEB5H9c/fNwL3A4NBZRKToqAgskiDMrBiRH/L93X1X6DwiscDdtwD3oAGyiIhINDubyGfb1wLnEIklTwJHm1mr0EFEpGioCCySOM4FdgJvhA4iEmOeBpqaWZvQQURERCSzPSY69NNEB5Hcc/etwFA02UEkYagILJIAzCyJ/w2OPXQekVji7tuI/PsZEjqLiIiI7ONCYBPwduggIjFoDNDAzE4MHURECp+KwCKJ4W/AH8C0wDlEYtU4oLaZdQycQ0RERNKZWXFgIJHlzjTRQSSP3H076ZMd0tfWFpE4piKwSJzbY3DcV4NjkQPj7juAQWiALCIiEk0uAX4G3gsdRCSGPQdUBzqFDiIihUtFYJH4dwXwo7t/GDqISIx7AagMnBo6iIiISKIzs4OAAWi5M5F8cfedRCYN3a3JDiLxTUVgkThmZiWA/kC/0FlEYp27pxH5sKnZwCIiIuF1B751949CBxGJAxOAssAZoYOISOFREVgkvvUAFrv7J6GDiMSJiUBJoEvoICIiIonKzEoSmeSgiQ4iBcDddxGZPKTJDiJxTEVgkThlZqWAPkR+mItIAdhjgDzYzPQzVEREJIxrgHnu/t/QQUTiyGuAAWcHziEihUQfYEXi17XAV+4+M3QQkTjzJrADODd0EBERkURjZqWBO9FEB5EClb62tiY7iMQx/cMWiUNmVga4Aw2ORQpc+gC5H5EBclLoPCIiIgnmOuALd/8qdBCROPQ2sAm4MHQQESl4KgKLxKcbgFR3/zp0EJE49Q7wO/C30EFEREQShZmlALcReVCriBSwPSY7DDSz4qHziEjBssi/cRGJF2Z2MLAc6OjuC0PnEYlXZnYSMBpo4u47Q+cRERGJd2Z2F3Cku18cOotIvEp/MNwM4Bl3fzZwHBEpQCoCi8QZM+sHNHL3y0JnEYl3ZvYh8Jy7PxM6i4iISDwzs3JEJjq0c/clofOIxDMzaw+MARq7+47QeUSkYKgILBJHzKwCsAw4wd2Xhc4jEu/MrC3wPNDQ3beHziMiIhKvzGwgUMfduweOIpIQzOw94GV3fzJ0FhEpGCoCi8QRM7sbqO7uPUJnEUkUZjYVeNPdnwidRUREJB6ZWSVgKXC8u38bOo9IIjCz1sDLQAN33xY6j4jkn4rAInHCzA4BFgPHuvvKwHFEEoaZHQ+8RmSAvCV0HhERkXhjZvcCFd392tBZRBKJmU0Gprn7Y6GziEj+qQgsEifM7AGgjLtfHzqLSKIxszeA6e7+cOgsIiIi8cTMqgKLgKPd/YfQeUQSiZm1ACYD9d19c+g8IpI/KgKLxAEzqwYsJPK05J9C5xFJNGZ2NDCNyAB5U+g8IiIi8cLMHgIOcvebQmcRSURm9irwmbs/GDqLiOSPisAiccDMHgF2ufs/Q2cRSVRm9jLwpbvfHzqLiIhIPDCzmsA8oKm7rwmdRyQRmVkz4H0ikx02hs4jIgdORWCRGGdmhwFfA03cfV3oPCKJysyaAB8RGSBvCJ1HREQk1pnZCGCLu98aOotIIjOzF4D57n5P6CwicuBUBBaJcWY2Evg/d+8dOotIojOz8cBSdx8SOouIiEgsM7PawGygsbv/EjqPSCIzs0bAJ0QehPxH4DgicoBUBBaJYWZ2ODALaOjuv4XOI5LozKw+8F8iA+TfQ+cRERGJVWb2FLDO3fuEziIiYGZjgVXuPiB0FhE5MCoCi8QwMxsD/ODu/UNnEZGI9A+ta929b+gsIiIisWiPX6o2dPf1ofOISMYEpJlAI01AEolNKgKLxCgzawh8im7JEYkqun1VREQkf8xsHLDc3QeHziIi/2Nmo4D17n5n6CwikncqAovEqPTF+Re4+9DQWUQks/QH2Wx299tCZxEREYkletCqSPRKfyj5XOAIPZRcJPaoCCwSg8ysGfABkcHxn6HziEhmZlYTmAc0dfc1ofOIiIjECjObAMxx9/tCZxGRfZnZcGCnu/8rdBYRyRsVgUVikJm9Cnzu7v8OnUVEsmZm/wGS3P3vobOIiIjEAjM7GngHqOfum0LnEZF9mVl1YAFwpLv/FDqPiOSeisAiMcbMmgNvE5kFvDl0HhHJmplVBRYCx7j7D6HziIiIRDszex34yN3/EzqLiGTPzB4ASrv7DaGziEjuqQgsEmPM7C3gXXd/NHQWEcmZmd0HlHf3XqGziIiIRDMzOw54nchDj7cEjiMiOTCzQ4DFQAt3XxU6j4jkjorAIjHEzFoDLwMN3X1r6DwikjMzqwQsBY53929D5xEREYlWZjYVeMvdHw+dRUT2z8yGAlXd/erQWUQkd1QEFokhZvYu8Kq7jwqdRURyx8wGAbXc/crQWURERKKRmbUBXiQy0WFb6Dwisn9mVgFYBrR29+Wh84jI/qkILBIjzKw9MBZo7O7bA8cRkVwys/JEBsht3X1p4DgiIiJRx8w+AF5w96dDZxGR3DOz/kSeVXNF6Cwisn8qAovEADMzYAYwxt3Hhk0jInllZncBzdz9ktBZREREoomZnQQ8CTRx9x2h84hI7pnZwcByoIO7LwqdR0RypiKwSAwws5OBEUBTd98ZOo+I5I2ZpQArgM7uPj90HhERkWiQPtEhFRjp7s+FziMieWdmvYk8IO6i0FlEJGfFQgcQkZylD47vBgaqACwSm9x9I/AAMCh0FhERkShyGlCRyHrAIhKbHgM6mNnRoYOISM5UBBaJfmcCKcCE0EFEJF8eB04ws+ahg4iIiISWPtFhCJGJDmmh84jIgXH3TcB9aLKDSNRTEVgkiu0xOO7v7rtC5xGRA+fum4F7gcGhs4iIiESBLkAJYGLoICKSbyOB48zsuNBBRCR7KgKLRLdz0v/7WtAUIlJQRgNHm1nr0EFERERCMbNiaKKDSNxw963AUCL/rkUkSqkILBKlzCyJyIzBfq4nOIrEBXffRmSNb80GFhGRRHYesB14M3QQESkwTwNNzKxt6CAikjUVgUWi14XARmBK6CAiUqDGAPXNrH3oICIiIkUtfaLDIDTRQSSuuPt2IjOBNRtYJEqpCCwShcysODAQDY5F4o677yDy4XdI+rrfIiIiieRi4HfgndBBRKTAjQMOM7OTQgcRkX2pCCwSnS4F1gLvhw4iIoXieaAa0Dl0EBERkaJiZgcBA4C+muggEn802UEkuqkILBJl9hgcaxawSJxy951EZvvfrQGyiIgkkCuAH9x9euggIlJoXgQqAqeFDiIimakILBJ9rgSWu/vHoYOISKGaAJQBzgwdREREpLCZWUmgX3oTkTjl7mlEJjVpNrBIlFERWCSKmFkpNDgWSQjuvgsNkEVEJHH0ABa5+6ehg4hIoXsVKAF0DR1ERP5HRWCR6HIN8LW7fxE6iIgUidfS/3tO0BQiIiKFyMySgbuA/qGziEjhS5/s0A8YbGaqO4lECf1jFIkSZlYauBMNjkUSRvq637sHyEmh84iIiBSSa4Ev3X1W6CAiUmTeArYB54UOIiIRKgKLRI/rgc/dfXboICJSpKYAG4ELQwcREREpaGZWBrgDTXQQSSjpkx36A4M02UEkOqgILBIFzKwscBuR9UFFJIGkD5D7AgPNrHjoPCIiIgXsRuBjd/8mdBARKXLvAOuBi0MHERGwyGdPEQnJzPoATd39ktBZRKTopT8YbgYwxt3Hhk0jIiJSMMzsYGA50MHdF4XOIyJFz8xOAp4Emrj7jtB5RBKZisAigZlZeWAZ0M7dlwSOIyKBmFl7YCzQSANkERGJB2bWH2jg7peHziIi4ZjZB8AL7v506CwiiUxFYJHAzGwQUMvdrwydRUTCMrN3gYnuPjp0FhERkfwws4rAUqC1uy8PnUdEwjGzNsALRCY7bAudRyRRqQgsEpCZVSIyOD7O3b8LnUdEwjKzVsBEIrOmtobOIyIicqDMbChQ1d2vDp1FRMIzs6nAW+7+eOgsIolKRWCRgMzsPqCCu18bOouIRAczewt4190fDZ1FRETkQJjZIcBioIW7rwqdR0TCM7PjgNeJTHbYEjiOSEJSEVgkEDOrCiwEjnH3H0LnEZHoYGbNgbeB+u6+OXQeERGRvDKzB4DS7n5D6CwiEj3M7HVghrs/HDiKSEJSEVgkEDP7D5Dk7n8PnUVEoouZTQT+6+7/Dp1FREQkL8ysOrAAONLdfwqdR0Sih5kdBbxDZLLDptB5RBKNisAiAZhZTWAe0NTd14TOIyLRxcyaAh8SGSD/GTqPiIhIbpnZcGCnu/8rdBYRiT5mNgGY7e7DQmcRSTQqAosEYGaPA5vc/bbQWUQkOpnZC8ACdx8aOouIiEhumFktYC7Q2N1/DhxHRKKQmTUBPiIy2WFD6DwiiURFYJEiZma1gdlEBse/hM4jItHJzBoCnxJ5eMYfgeOIiIjsl5mNAn539ztCZxGR6GVm44Dl7j44dBaRRKIisEgRM7OngLXu3jd0FhGJbmY2Bvje3QeEziIiIpITMzscmAk0cvffQucRkehlZvWB/wIN3X196DwiiUJFYJEitMcPuwbu/nvoPCIS3cysLvAlkQGyPlCLiEjUMrOxwCr94lJEciN9ctQ6d+8TOotIolARWKQImdl4YKm7DwmdRURig5mNBP7QrbUiIhKtzKwR8AlawkhEcknLJIoUPRWBRYqImR0BzEAL4ItIHpjZYcDXQBN3Xxc6j4iIyN7M7EVgnrvfEzqLiMQOMxsBbHH3W0NnEUkEKgKLFBEzexn4yt2Hhc4iIrHFzB4Bdrn7P0NnERER2ZOZNQM+AOq5+8bQeUQkdphZDWAe0Mzd14TOIxLvVAQWKQJmdjQwjcgs4E2h84hIbDGzasAC4Ch3/yl0HhERkd3M7FXgM3d/MHQWEYk9ZvYQUNzd/x46i0i8UxFYpAiY2RvAdHd/OHQWEYlNZvYAUMbdrw+dRUREBMDMWgCTiUx02Bw6j4jEHjOrAiwGjnH370PnEYlnKgKLFDIzOx54jcjgeGvoPCISm8zsECID5GPdfWXgOCIiIpjZZGCauz8WOouIxC4zuxeo6O7Xhs4iEs9UBBYpZGY2DXjD3Z8InUVEYpuZ3Q1Ud/ceobOIiEhiM7MTgAlAA3ffFjqPiMQuM6sELAWOd/dvQ+cRiVcqAosUIjNrCzwPNHT37aHziEhsM7MKwDKgtbsvD51HREQSl5m9B7zi7qNDZxGR2GdmA4E67t49cBSRuKUisEghMrMPgefc/ZnQWUQkPphZPyK/WLo8dBYREUlMZtYBeAZo7O47QucRkdhnZuWA5UA7d18SOo9IPFIRWKSQmFknYBTQxN13hs4jIvHBzA4mMkDu6O4LQ+cREZHEYmYGfAQ87e7Phs4jIvHDzO4CjnT3i0NnEYlHKgKLFIL0wfEnwBPu/lzoPCISX8zsduA4d78wdBYREUksZnYK8BjQVBMdRKQgmVkKkckOp7j7vNB5ROJNsdABROLU6UAF4MXQQUQkLo0ATjSzY0IHERGRxJE+0eFuYIAKwCJS0Nx9I/AAMCh0FpF4pCKwSAFLHxwPJjI4TgudR0Tij7tvAoahAbKIiBSts4DSwMuhg4hI3HoCaG1mLUIHEYk3KgKLFLyuwEHAq6GDiEhcGwkca2bHhw4iIiLxz8yKEZno0N/dd4XOIyLxyd03A/cQ6W9EpACpCCxSgNIHx0PQ4FhECpm7bwWGEulzRERECts5gAOvB84hIvHvSeAoMzshdBCReKIisEjBOh/YCrwVOoiIJISngUZm1i50EBERiV9mlkRkCaL+rieLi0ghc/dtRCY6aDawSAFSEVikgOwxOO6nwbGIFAV3305kgKzZwCIiUpguAv4EpoQOIiIJYyxwuJl1CB1EJF6oCCxScC4BfgPeDR1ERBLKOOBQM+sUOoiIiMQfMysODEQTHUSkCLn7DiIzgYekP3xdRPJJRWCRAmBmBwEDgL4aHItIUXL3nUQ+nGuALCIiheEyYDXwQeggIpJwngeqACeHDiISD1QEFikY3YBV7j4jdBARSUgvAeWB0wPnEBGROGJmJYhMdNAsYBEpcntMdrhbkx1E8k9FYJF8MrOSQL/0JiJS5Nw9jciH9MEaIIuISAG6Eljm7qmhg4hIwnoZKA2cFTqISKxTEVgk/3oAC9z9s9BBRCShTQIOArqGDiIiIrHPzEoBfdFEBxEJyN13Af2JTHZQDUskH/QPSCQfzCwZ6EPkh5KISDB7DJCHaIAsIiIFoCcw192/CB1ERBLe64AD5wTOIRLT9CFRJH96ATPd/cvQQUREgLeArcD5oYOIiEjsMrPSwB1oooOIRIH0Ncn7AYPMLCl0HpFYpSKwyAEysxSgN5F1OEVEgtMAWURECsgNwGfuPid0EBGRdFOBP4GLQgcRiVWmh7yKHBgzuwNo7u76ISQiUSP9wXCpwCh3Hx86j4iIxBYzKwssBzq5+4LQeUREdjOzk4HHgSPcfWfoPCKxRkVgkQNgZuWAZUAHd18UOo+IyJ7MrCPwFNDE3XeETSMiIrHEzPoQKbBcGjqLiMie0ic7TAfGuvvYwHFEYo6KwCIHwMwGAPXc/YrQWUREsmJmHwAvuvtTobOIiEhsMLPyRGYBt3H3pYHjiIjsw8xOBMYBjdx9e+g8IrFERWCRPDKzisBSoJW7rwidR0QkK2bWBngRaOju20LnERGR6Gdmg4FD3f2q0FlERLJjZu8Ak9x9VOgsIrFERWCRPDKze4BD3P2a0FlERHJiZlOAt919ROgsIiIS3cysMrAEOM7dvwudR0QkO2bWEngVaODuW0PnEYkVxUIHEIl2ZlbbzD5J//9DgGuBu8OmEhHJlf7AXWaWDGBmi8ysTOBMIiISJczsaTM7Nf3L24BXVAAWkWjn7jOBuUBPADPrbmZDgoYSiQEqAovsX3ng4PT/701kjc1V4eKIiOSOu38JzAR6pW+qAiSHSyQiIlGmIpBiZtWAq9FEBxGJHf2BO8ysNFAWqBA4j0jUUxFYZP+KAWlmVgO4CrjHzEqb2emBc4mIZMkiupjZQcAAoLeZpQBp6Ge/iIj8TzEiPxvuAJ5z9x/NrKWZHRY4l4hIlsyskZk1c/c5wGfADWiMK5Ir+kcisn9JwC7gTmAMUAmYBZwdMJOIyP5cDXwMbABmADcSGSAnBcwkIiLRJYnI7LnLgfvNbBDwBpEZwiIi0ag6MN3MbiIy2eFWoDga44rsl4rAIvuXlN4uAdYAHwIPANeFDCUikh2PPPX1HGAikeUgPgNuARwNkEVE5H+SgAuACcCLQFughbt/HTSViEg23H0GcALQDbiHyKSHTmiMK7JfKgKL7F8xoBbwM3AZcKK7j00vsoiIRCV33+XuDwJnAf8A1hNZL00/+0VEZLfSRIon5wFTgdPcfU3YSCIiOXP35UAbYBmRX16dDpQKGkokBuiDoMj+VSZym1wq0NrdFwfOIyKSa+4+C2gOLAVS0IPhRETkf+oC24Bz3P1ed08LHUhEJDfcfbu730pkCTQHmgSOJBL1TJMZRXKW/jClru7+QugsIiIHyswM6A6M04d8EREBMLOuwCzN/hWRWGZmDYHD3P2D0FlEopmKwCIiIiIiIiIiIiJxTMtBiIiIiIiIiIiIiMSx4qEDSM6Sk5PXbt26tWroHJIYSpUqtW7Lli3VQucQKWjqSyUWqU+WeKZ+WYqS+lNJdOpzpSipz41eWg4iypmZ6+9IioqZ4e4WOodIQVNfKrFIfbLEM/XLUpTUn0qiU58rRUl9bvTSchAiIiIiIiIiIiIicUxFYBEREREREREREZE4piKwiIiIiIiIiIiISBxTEVhEREREREREREQkjqkILDmqU6cOZoaZMX/+/DwdW7ly5Yxjf/zxx0JKKCISP9TniogUDfW3IiKFR32sSHRSETgBuTudO3emffv27Nq1K9NrZ511Fq1atWLnzp0Z23r37s2aNWto3LhxxrbdnfKebeDAgZnOtXDhQl599dVCvZYDsXLlyizzjx07NmOfefPmccUVV1C3bl2Sk5OpX78+/fv3Z9u2bfs9/8yZM2nTpg2lSpWiRo0a9OnTh7S0tIzXZ8yYkeX7z5gxI2Of1NRULrjgAg477DBKly7NEUccwcMPP4ye6CoSe9Tnqs8VkaKR3/5227ZtdOnShVq1alGqVCmqVq3Keeedx+LFizOdK1r729WrV3PaaadRo0YNSpYsSc2aNenevTurV6/OtF9qaiodO3akfPnyVKxYkW7durF+/focz71gwQIuuOACGjRoQLFixejevXuW+6WlpTFs2DAaNWpEyZIlqV69Otdee+0++z311FMcffTRlCpVikMOOYS//OUvB3zdIlI08tvHjh07NssxmZnxyiuvZBwXrX3s1q1bufLKK2nevDklS5akTp06We63ceNGevbsSaVKlShTpgxnnnkm3377baZ9hg4dyoknnsjBBx+MmbFy5cp9ztO7d28aN25MSkoK5cuXp127dkybNi3XeTdv3kzTpk0xMz755JNMr+Xms4XEp+KhA0jR2/3h+6ijjuKBBx6gd+/eAIwYMYIZM2Ywd+5cihf/37dGSkoK1apV2+c8jz32GOedd16m/fZUpUoVKlasmO+8W7ZsYePGjRxyyCH5Ptee3njjDVq2bJnxdbly5TL+f/bs2ZQtW5ann36aOnXq8PXXX3Pttdeyfv16HnvssWzP+eOPP3LKKadw3nnn8eSTT7Js2TKuuuoqINLR72n27NlUr1494+s9/6w+++wz6tWrxz/+8Q9q1KhBamoqvXr1YufOndx66635vnYRKTrqcyPU54pIYctvf2tmnHzyyfTp04fq1avzyy+/MHDgQDp37sy3335LyZIlgejtb5OSkjjnnHMYOnQoVapU4fvvv+fWW2+lS5cufPXVVwDMnz+fU089lZtuuonRo0fz+++/c/PNN3POOedk/NIsK5s3b6ZWrVp07dqVRx55JNsMV155JZ999hn3338/xxxzDH/++ec+xY9+/foxevRo7r//ftq0acOOHTv4+uuvC+TPQEQKT3772IsuuojTTz890znvv/9+nn76ac4888yMbdHax6alpVGiRAl69uzJzJkzmT59epb7devWjblz5zJx4kTKly/PnXfeyamnnsr8+fMpVaoUEPmlY9euXenatSu33357luc54ogjOPXUU6lTpw47duxg7NixdOnShS+++IIWLVrsN+/1119PvXr1WLhwYZav7++zhcQpd1eL4hb5KyocL7zwgpcoUcLnzJnjCxcu9OTkZB85cmSmfWrXru1DhgzZ51jAx48fv9/3mD59ugP+ww8/5ClbWlqav//++969e3cvW7asjx07Nk/H5+S7775zwFNTU/N03LBhw7xq1ao57nPXXXd5zZo1PS0tLWPbY4895mXKlPFNmza5+4H/mVx33XXeqlWrPB2TV+nfb8G/79XUCroVZl+aW+pz1efmlfpktXhu0TrG3dvcuXMd8Llz52baHo39bVZef/11B/yPP/5wd/c+ffp4o0aNMu0ze/ZsB3z69Om5Omfnzp29W7du+2z/8MMPvVixYj5//vxsj12+fLkXK1bMp06dmutrKAjqT9USvRVkn1tQfWxaWpofdthhfv311+/zWrT3sUOGDPHatWvvs33p0qUO+DvvvJOxbf369V6iRIkss6Smpjrg3333Xa7et3z58v7www/vd7+xY8f60Ucf7YsXL85yHJ7bzxYHSn1u9DYtB5HALr74Ys4991wuu+wyLr30Ujp37pzl7VrZ6d27N5UrV+bYY4/lwQcfzHTrx4H6+uuvue2226hVqxbnnHMOaWlpvPLKK1x22WUZ+/Tq1YuUlJQc2/PPP7/f97r44os55JBDaN26Nc8+++x+99+wYQPly5fPcZ9PPvmEU089lWLF/vdP6/TTT2fTpk3Mnj07077t2rWjatWqtG/fnsmTJxfI+4tI9FKfqz5XRIpGfvvb3f7880+efPJJatasSYMGDfKVqSj7291+/fVXxo0bR/PmzTPuvti6dWvGTLTdkpOTAfj444/zdY2vvvoq9erVY/r06TRs2JDDDjuMCy+8MNNtzq+99hoHHXQQf/zxB0ceeSTVq1fnzDPP5JtvvsnXe4tI0SmoPvbtt9/mhx9+OKBj9xaij83KJ598wkEHHUTnzp0ztlWoUIGWLVuSmpp6wOfduXMn48aNY+PGjZx44ok57rto0SJuu+02XnrppYw7WLJSGJ8tJPppOYgEN2LECGrWrEmJEiXytL7MkCFD6NSpE2XKlOHTTz/lrrvuYtWqVQwfPjzPGX766Seee+45nnvuOZYuXcrpp5/Ogw8+SNeuXTMGpXsaPHjwfm/PrVq1aravpaSk8OCDD9KuXTuKFy/OO++8Q8+ePfntt9/417/+leUxS5cuZfjw4fvcXry3NWvW0LZt20zbdt8Cs2bNGgCqV6/OyJEjOe6440hLS2PixIl07dqVV155JdPtGHtKTU1lwoQJUbk2kojknvpc9bkiUjQOtL+FyAfjESNGsGnTJho3bsyMGTMoXbp0njMUdX+728UXX8wbb7zBli1bOOGEE3jnnXcyXtudYfTo0Vx55ZVs2LCBO++8E2CftYPzasWKFXz//feMGTOGUaNGUbJkSfr168dJJ53EwoULSU5OZsWKFezatYu+ffvyyCOPUKVKFR566CHat2/P4sWLs1wOSUSiT3762N1GjRpF69atOeqoow7o+FB9bE7WrFlD5cqVSUpKyrS9WrVqGWPTvJg8eTJ/+9vf2LJlCwcffDCvvfZajktBbN68mQsuuID77ruPxo0bZ7nWMBTsZwuJMaGnIqvl3CjkW5gffvhhT05Ozva2rNzeKvf000+7mfn//d//Zdqem9s4unXr5oCfcsop/uOPP+b9IgpAv379vGLFilm+tnLlSq9Tp45ffvnlvmvXrhzP06BBA7/zzjszbdu0aZMD/sorr2R73OWXX+4tWrTI8rXZs2d7xYoVvW/fvvu5ivxDt22oxWkr7L40t9TnRqjPzR31yWrx3KJ5jPvLL7/40qVLffr06X7WWWd5s2bNfMOGDZn2ieb+ds2aNb548WKfOnWqn3DCCd6pUyffuXNnxuuPPvqoV6hQwZOSkrxkyZLeu3dvr1q1ql933XW5On92y0GccsopDmRaDuKXX37x4sWL+4QJE9zd/ZprrnHAJ0+enLHPtm3bvEqVKj5s2LADvOL9U3+qluitoPvc/I5pV61a5cWKFfMxY8Zk+Xo097Hu2S8HMXToUK9evfo+288//3w/66yz9tm+v+UgNm7c6MuWLfOZM2f6bbfd5hUqVPCvvvoq21w9evTwiy66KOPr3C7Llt1niwOlPjd6m5aDSGALFy7kjjvu4JFHHuHvf/87PXr04Pfffz+gc7Vq1Qp3Z9myZXk+dsCAAQwYMIBvv/2WJk2acMUVVzBt2rRsb0cojNs4WrVqxfr16/ntt98ybV+xYgXt27enXbt2jBkzJtuHZexWvXp11q5dm2nb7t/45TSzoVWrVixdunSf7TNnzsy4vWbIkCG5vRwRiULqczPnV58rIoUlv/1t5cqVadCgAR07dmTSpEmsXLnygG4RDtXfVqtWjUaNGnH66afz6quv8uGHH/Lee+9lvH7jjTfy22+/8cMPP/Dbb7/Rt29ffvnlF+rVq5fna9xTjRo1MDOaNGmSsa1y5cpUqVKFVatWZewD0LRp04x9SpQoQf369TP2EZHoVhBj2ieffJKDDz6Yiy666IBzRMOYdm/Vq1fn119/JS0tLdP2tWvXHtCdDmXKlKF+/focf/zx3H///Rn/zc7777/PK6+8QvHixSlevDj169cHoGPHjpx22mnZHpefzxYSW7QcRILavn07l156KaeccgrXXHMNW7du5Z133uH666/nxRdfzPP55syZA5Dpyeu5VbduXQYOHMjAgQP5/PPPGT9+PJdddhnFihXjwgsv5JJLLqFNmzYZ+xfGbRxz5syhdOnSHHzwwRnbFi9eTOfOnTnttNN46qmnMq05mZ22bdsybtw4du3albH/tGnTKF26NM2bN8/x/ff+s/v0008588wzufnmmxk0aFCerkdEoov63H3zq88VkcJQ0P0tRO6c3Lp1a56Pi4b+dteuXQD75DezjH7wqaeeAuCvf/1rns69txNPPJFnn32WpUuX0rhxYwB+//13fv75Z+rUqZOxD0T6/N3bduzYwbfffsvZZ5+dr/cXkcJXEH3szp07eeaZZ7jiiiuyXLYht6Khj91b27Zt2bFjBx988AGnnnoqEOkHZ86cSY8ePfJ1boj06Tn9PHr33XfZvn17xterV6/mtNNOY8yYMTmuJZyfzxYSY0JPRVbLuVFIt8r17t3bq1Sp4uvWrcvY9tVXX/lBBx3kL730Usa2rG7jePPNN33UqFH+zTff+IoVK/zZZ5/1ypUr+4UXXrjP+xzoUz23b9/ur7/+up9//vleqlQpHzduXB6vMHtjx4715557zhcuXOhLly714cOHe3Jyst9+++0Z+8yfP9+rVKni5557rq9evdrXrFmT0fa8na5Tp05+xx13ZHz9/fffe9myZf3KK6/0+fPn++uvv+4VKlTw3r17Z+zzn//8x1977TVfsmSJL1iwwAcNGuTFihXzxx9/PGOfGTNmeJkyZfymm27K9N5r1qwpsD+HrKDbNtTitBVWX5pb6nPV5x4I9clq8dyicYw7ffp0f/zxx33u3Lm+atUq/+STT7xLly5etmxZX7Vq1T77Rlt/O3HiRH/22Wd93rx5vnLlSn/vvfe8TZs2XrNmzUzLWdx///0+d+5cX7RokT/88MNeqlSpfZbA2bu/3bZtm8+ZM8fnzJnjrVq18i5duvicOXN8wYIFGfts2rTJ69at6yeccILPmjXLv/nmGz/rrLO8Xr16vnnzZnd337Vrl7du3dobNWrkH330kS9atMivuuoqr1Chgq9du7bA/iz2pv5ULdFbQfW5+eljd5s0adI+S8fsLRr7WHf3BQsW+Jw5c/yGG27w6tWrZ/SL27Zty9jnr3/9qx9++OE+ffp0nz17tp922mlet27djH7QPbIcxpw5c3zMmDEO+Ntvv+1z5szx3377zd3d165d6/379/f//ve/vnLlSp87d6737t3bzcxfffXVjPPccccd3qlTp2zzZrUcRF4+Wxwo9bnR24IHUNvPX1AhDJBTU1M9KSnJ33zzzX1eGzJkiFesWNF/+uknd8+68546dao3b97cy5Yt68nJyX7EEUf4Pffc41u2bNnnfAfaee/pjz/+yMhTEJ599llv2rSply5d2lNSUvyYY47xkSNHelpaWsY+AwYMcCDLtud6PbVr195nTbTPP//cW7du7SVLlvRq1ar5HXfckamIMWzYMG/QoIGXKlXKy5Ur561atfKXX3450zl2r2+UVStM6qzV4rWFLAKrz1Wfe6DUJ6vFc4vGMe5///tfb9++vVesWNFLlCjhtWrV8ksvvTRToXO3aOxv33rrLW/VqpWXK1fOS5Ys6Ycffrj36tXLv//++0z7nXLKKV6+fHkvUaKEH3nkkT569Oh9zrV3f7u7kLB323tNzBUrVniXLl08JSXFK1eu7Oedd56vXLky0z4///yzX3bZZV6+fHkvX768n3rqqf7NN98U2J9DVtSfqiV6K4g+N7997G6nnXaat2vXLsf3isY+1j1yXfsbr27YsMF79Ojh5cuX9+TkZD/99NN92bJlmc6T3dhz9xrJ69ev965du3r16tX9oIMO8qpVq/rJJ5+8z/rL3bp1y3Jt4t2yKgLn5bPFgVKfG73NIn8/Eq3MzEP+HdWpU4err76avn37HtDxM2bM4KSTTuKHH37g0EMPLeB0UtDMDHfPeRFOkRgUui/NLfW5sif1yRLPQvfL6m8Ti/pTSXRF3eeqj01s6nOjl4rAUS4aBshr1qzhoIMOYtasWZke9JCbY9etW8fWrVvVeccIddYSr0L3pbmlPlf2pD5Z4lnofln9bWJRfyqJLkQRWH1s4lKfG71UBI5yoQfIq1atYseOHQDUqlWLEiVK5PrY7777LuOpmHXr1iUpKalQMkrBUWct8Sp0X5pb6nNlT+qTJZ6F7pfV3yYW9aeS6Iq6z1Ufm9jU50YvFYGjXOgBsiQWddYSr9SXSixSnyzxTP2yFCX1p5Lo1OdKUVKfG72KhQ4gIiIiIiIiIiIiIoVHRWApMN27d+fkk0/O0zFjx46lePHihZRIRCR+qc8VESk66nNFRMJRHyxSMFQElgLzyCOP8Morr+TpmIsuuoiffvqpkBL9z9q1a7nwwgs5+OCDKVeuHBdffDG//PJLro//8MMPSUpKon79+pm2v//++7Rp04bKlStTqlQp6tevT//+/TPWP4LIDywz26cVK1aMn3/+ucCuUUQSS7z1uQ888ABt27alQoUKVKxYkVNOOYUvvvgi0z4LFizgggsuoEGDBhQrVozu3bvvc54333yTs846i+rVq5OSkkLz5s157rnnCvLyRCQBxVufu6fsxrk7d+7k/vvvp1GjRpQqVYoGDRrwxBNPZNpnzZo1XHrppTRt2pTixYvTsWPHgrgkEZFM4q0PfuGFFzj22GOpUKECpUuX5ogjjuDhhx/Odv+FCxdSpkwZFbUl37QmcJTT2j35t2vXLlq1agXAY489hrtz/fXXU7p0aVJTUzHLeamadevWcdxxx9G0aVOWL1/O8uXLM1774osv+O6772jWrBlly5Zlzpw59OzZk8svv5wHH3wQgP/7v/9jy5Ytmc559tlnU6ZMGT744IMCvtr80do9Eq/UlxadA+1zzzzzTM477zyOP/54ihcvzrBhw5g0aRLffPMNdevWBWDWrFm89NJLHHPMMTzyyCM0a9aMsWPHZjrPv/71LypXrkynTp045JBDeOONN7jtttuYMGEC559/fqFee0FTnyzxTP1ywSjMcW7fvn0ZNWoUo0eP5uijj+bzzz+nZ8+ePProo1x11VUArFy5kgcffJBjjjmGSZMmsWnTJmbMmFFo13ug1J9KolOfWzgOtA9+77332LRpU8Yv2T7++GOuv/567rvvPm666aZM+27evJmWLVtSt25dpk6dys6dOwv9uvJLfW4Uc3e1KG6Rv6LwNm7c6N26dfOUlBSvVKmS9+7d26+66irv0KFDxj7dunXzzp077/P1yJEjvVatWl62bFnv2rWr//zzzxn7jBkzxpOSkgo1+7vvvuuAL168OGPb/PnzHfAZM2bkeGxaWpp37tzZ7733Xh8wYIDXq1dvv+938803+zHHHJPt60uWLHHAX3755dxfRBFJ/34L/n2vplbQLVr60txK1D53Tzt37vSyZcv6E088keXrnTt39m7duuXqXGeccYZfdNFFuX7vaKE+WS2eWzT1y4na5+5vnFuzZk2/9957M237+9//7nXq1MnyfD169Mj0ZxZN1J+qJXqLpj53b4naB+/t7LPP9rPPPnuf7d27d/drr722SK6noKjPjd6m5SAkV2655RbeeecdJkyYQGpqKn/88QcTJ07c73GzZs1ixowZvP3220yZMoXZs2dz++235+m9e/XqRUpKSo7t+eefz/b4Tz75hLp169KoUaOMbU2bNuXQQw8lNTU1x/ceMmQIZpbrzIsXL2bKlCmcdNJJ2e4zatQoqlSpwtlnn52rc4pI4knUPndPmzdvZseOHZQvXz5P+bOyYcOGAjmPiMSnRO1z9zfO3bp1K6VKlcq0LTk5mZUrV/L999/n4SpFRLKXqH3wbu7OzJkz+fTTT/epI4wbN45Zs2bxn//8J0/XJZIdLSgi+7Vx40aeeeYZRo4cyZlnngnAiBEjeOedd/Z7bMmSJRk7diwlS5YE4Nprr2XUqFF5ev/Bgwdz66235rhP1apVs31tzZo1VKtWbZ/t1apVY82aNdkeN336dEaOHMmcOXMoVizn35cceuih/PLLL2zfvp2ePXvywAMPZLnftm3bePbZZ7nmmms46KCDcjyniCSmRO1z93brrbdSpUoV/vKXv+T6mKy8+OKLfPHFFwwfPjxf5xGR+JSofW5uxrlnnHEGw4cP5+STT6Zp06bMnDmTZ555BoDVq1dTq1atHHOLiOxPovbBEFk2smbNmmzfvp20tDQGDBjA3//+94zXFy1axC233ML06dNJTk7ez5WI5I6KwLJfK1asYMeOHbRu3TpjW1JSEscdd9x+Fzxv0qRJRqcMULNmTdatW5en969SpQpVqlTJW+hcym6Nnl9//ZXLLruMZ555JstOfW+pqals3ryZOXPm0Lt3b6pVq8agQYP22W/ixImsX7+ea665Jt/ZRSQ+JWKfu7fBgwczYcIEPvjgA1JSUg74/d5991169OjB448/TosWLQ74PCISvxKxz83tOPeRRx6hV69eHH300ZgZNWrUoEePHtx33337nSAhIpIbidgH71a2bFnmzp3L5s2b+eyzz7jzzjupWbMmPXr0YNu2bVxwwQXcfffdNGvWrFDySWLST2/Zr8iSLgdm79muZsauXbvydI783qJRvXp11q5du8/2tWvXZjvwnT9/PqtXr6ZLly4UL16c4sWLM3jwYFasWEHx4sV54YUXMu1ft25dmjZtymWXXca///1vhg4dyqZNm/Y578iRIzn11FM5/PDD8/RnICKJIxH73D317duXhx56iHfffZdjjz02T9n3NHnyZM4++2weeugh/eJNRLKViH1ubse5FStW5OWXX2bLli2sXLmSlStXcthhhwFkPLBTRCQ/ErEP3q1YsWLUr1+fo446il69enH77bfTp08fIDLDeMGCBdxwww0Z/XSPHj1IS0ujePHi3HPPPXm6TpHdNBNY9qt+/focdNBBfPHFFxxxxBFA5CmYX331VZHcBpbfWzTatm3L4MGDWbJkScZaPQsWLODHH3+kXbt2WR5z/PHHM2/evEzbHn/8cSZPnsyUKVMyBsBZ2bVrF2lpaWzfvp0yZcpkbF+4cCGffPIJkyZNyvFaRCSxJWKfu9stt9zC2LFj+eCDD/JVAH711Ve59NJLGTFiBD169Djg84hI/EvEPjev49wSJUpw6KGHApEldtq3b88hhxyy32sTEdmfROyDs7Nr1y62bt0KRGY1791Pv/HGGwwYMIC5c+fmmEkkJyoCy36lpKRw1VVX0bdvX6pVq0bdunUZPnw4v/32G7Vr1y7098/vLRonn3wyLVq04PLLL+fRRx/F3bn++utp3bo1HTp0yNivcePG3Hjjjdx4442UKVNmn9suqlSpQokSJTJtf/DBB2ncuDENGzbEzPjyyy+5/fbb6dq1KxUqVMh0/KhRo6hevTpdunQ54GsRkfiXiH0uwI033sizzz7LxIkTqVmzZsasiuTkZMqVKwfA9u3bWbhwIRBZQ279+vXMnTuXEiVKZHxweOmll7j88ssZOnQoZ511VsZ5kpKSVLQQkX0kYp+b23HurFmzWLlyJS1atODnn3/mwQcfZO7cuXzyySeZjp07dy4A69evZ+PGjRlfH3PMMQd8XSKSGBKxDwYYMGAAJ554Iocffjg7duzg448/ZtiwYVx55ZVAZJbz3v30l19+CaDlISRfVASWXHnwwQfZsmULF1xwAaVKleKaa67hzDPP5I8//ggdbb+KFSvG5MmTuemmmzj55JMxM8444wweffTRTOv0LFmyhF9//TVP596xYwe33XYbq1atolixYtSuXZsbbriBm2++OdN+W7ZsYdy4cdx4440UL65/diKSs0Tsc0eMGAHA6aefnul83bp1Y+zYsUDkQUTNmzfP9Ppbb71F7dq1WblyJRBZdmfnzp307t2b3r17Z+y35z4iIntKxD43N7Zt28agQYNYsWIFJUqUoH379nz22WcceeSRmfbbu1/e/XV+bvMWkcSRiH3whg0b6NWrFz/99BOlSpXi8MMP595776VXr14hLkMSiOmHc3QzM4/GvyN354gjjuCUU07RE9fjiJnh7rl7cpNIDInWvjS31OcmJvXJEs+iuV9Wnxt/1J9KoovmPndv6oNjn/rc6KUpiZIr8+bNY86cOZxwwgls2bKFxx57jGXLluW4SLqIiBwY9bkiIkVHfa6ISDjqg0WKjorAkitmxogRI7jxxhsxM5o2bcq7775LixYtQkcTEYk76nNFRIqO+lwRkXDUB4sUHS0HEeVi6bYNiX26bUPilfpSiUXqkyWeqV+WoqT+VBKd+lwpSupzo1ex0AFEREREREREREREpPCoCCwiIiIiIiIiIiISx1QElqgxcOBA6tevHzqGiEjcUf8qIhKW+mERkaKh/lYkeyoCi+TBvHnzuOKKK6hbty7JycnUr1+f/v37s23btn32TU1NpVOnTpQtW5ayZcvSunVrVqxYkfH66NGj6dy5M5UqVcLMmDFjRpbvOW7cOBo1akTJkiVp0qQJL774YmFdnohIUDfffDOtWrWidOnSmO1/GbHu3btjZtx9992Ztnfs2BEzy9Q6duyYaZ/XXnuNM844g+rVq2NmjB07dp/z16lTZ5/z7H5giYhIPMpNPzxv3jzOOussKleuTNmyZTnnnHP4/vvvM+3zyy+/cNVVV1GzZk2Sk5Np0qQJw4cPz7RPVv2rmXHWWWcV2vWJiESL3I5791dXgEi/3LVrV8qXL0+ZMmU45phj+PzzzzNe3z1m3rPVqVOnsC5NopiKwCJ5MHv2bMqWLcvTTz/NggULeOCBBxg5ciS33HJLpv2mTZvG6aefTseOHfn000+ZO3cuffr0oXTp0hn7bN68mU6dOvHvf/872/d78803ufLKK+nVqxdff/01V199NZdffjnvvPNOoV2jiEgoaWlpXHLJJdx000373ffZZ59l3rx51KhRI8vXL7nkEtasWZPRJk2alOn1jRs30rJlSx5//HGSkpKyPMesWbMynWP58uUkJyfzt7/9Le8XJyISA/bXD69du5ZOnTpRqVIlPv74Yz755BN27tzJySefzNatWzP2u/LKK5k1axYvv/wyixYt4pZbbuGWW27h+eefz9hnz/51zZo1GQUL9bEikghyM+7NTV3h66+/pm3bttStW5cPPviA+fPnc//991OpUqVM5zrxxBMz9bmzZs0qtGuTKObualHcIn9FBSc1NdXbtGnjKSkpnpKS4kcddZS/99577u6+a9cuv/rqq/3www/3UqVKeZ06dbx3796+ZcuWjOMHDBjg9erV8wkTJni9evU8OTnZ//rXv/r//d//+auvvuoNGzb0lJQUP++88/yPP/7IOK5bt27euXNnf/DBB71GjRqenJzs559/vv/222/7nHtPU6dO9VatWnmpUqX80EMP9RtuuME3bNiQq+spKsOGDfOqVatmfJ2WluZ169b13r175+r4H374wQGfPn36Pq+1adPGL7744kzbzj//fO/YsWO+Mmcn/fst+Pe9mlpBt4LuS7Oi/rXgjB8/3nP6O1u4cKFXrVrVly5d6rVr1/YhQ4Zker1Dhw7eo0ePXL9fUlKSjxkzZr/7jR492osXL+4//fRTrs+dH+qT1eK5FUa/rH644GTXDz/55JOekpLi27dvz9j222+/OZCpHy1XrpwPHz4807EtW7b0G2+8Mdv3vOuuu7xixYqZ/k4KivpTtURvqivEXn+b27pC+/bt/aKLLspxn91/bkVFfW70Ns0ETiBpaWl07dqVVq1aMXv2bGbPns3AgQNJTk4GIr8QqFq1Ki+88AKLFi3ikUceYezYsQwdOjTTedasWcOzzz7LpEmTmDp1Kp9++innn38+o0ePZsKECUydOpWPP/6Ye+65J9NxM2fOZMaMGUybNo0pU6Ywd+5cevTokW3e999/n/POO4/u3bszb948JkyYwOeff55xzP6uJyv33HMPKSkpOba9c+/Phg0bKF++fMbXs2fP5rvvvqNWrVp07NiRKlWq0Lp1631moe3P9u3bmTlzJqeffnqm7f/P3n3HSVXd/x9/HVjKUpdeVjooUpSi9G7BErAFTdSIXWLJ15YQfxoxGo2J0SR2sIAmxlhTNGClCyLgoigdaUqRIlKWvp/fH7M77sDuMrs7M2fmzvv5eMwj2dm7d94Dxw93P+eeM2eccQazZ8/m0KFDpTqfiMSP6mt86mtRcnNzGTFiBA899BDt2rUr9rh//etfNGjQgPbt23PjjTeybdu2cr/22LFjGTZsWLF3H4uIP6rDianDe/fupVKlSmRkZISfq1q1KhUqVGD69Onh5/r168cbb7zBpk2bMDOmTp3KokWLOPPMM4s874EDB3j++ecZOXIkVatWLVdGEYkv1dvE1Nto+gpbtmxh+vTpnHDCCQwbNowGDRrQrVs3xo4dW9D8j/hza9SoEW3atOFnP/sZ69atK1c+SVG+u9B6lPwghjN227ZtK/aO0+I8/PDD1rZt2/DXY8aMsYoVK9rmzZvDz11//fVWoUIF27RpU/i5X/ziF9a9e/fw1yNHjrTq1atHzOK9++67Btjy5cvD5y48YzdgwAC74447IvLMmjXLAPv222/L9H62bt1qy5cvL/FReBbxaJYuXWo1a9aMuNPhn//8pwGWlZVlY8eOtZycHLv//vvNOWcTJ0484hzF3Qn8zTffGGDvvvtuxPNvv/12+M8g1tCMnR4BfcSylhZF9TW29bWkO4Evv/xyu/TSS8NfF3Un8Lhx4+y9996zhQsX2htvvGHt27e3bt26Rdy5Vlg0dwLPnTvXAHvnnXeieg+xoJqsR5Afsa7LqsOJqcOLFi2ySpUq2V133WV79uyxnTt32qhRowywoUOHho/bsWOHnX/++QZYRkaGVapUycaNG1fs67322msG2OLFi6N+v6WheqpHuj/UV0i9ehtNX+Hjjz82wDIzM+3BBx+0nJwce/LJJ61q1ar25JNPhs/18ssv21tvvWULFy60iRMnWq9eveyYY46J+HOMJdXc5H38MIUrgVenTh2uvvpqhg4dypAhQxg4cCDnn38+xx57bPiY559/nrFjx7J69Wp2797NwYMHycvLizhPdnY29evXD3/duHFjGjduTMOGDSOe+/bbbyN+rkOHDtSuXTv8dd++fQFYtGhRkZ/eOW/ePObMmRPxIRKhegLLly+nT58+R30/h6tbty5169Yt8c8pWmvWrGHo0KGce+653HjjjeHnC+7Qvfrqq7n22msB6NKlC5988gmPPfZYsXdAlFY0H5okIomh+hrb+lqcl156iZkzZ5KTk1Picddcc034/3fq1IkTTzyRtm3b8s477zBs2LAyvfbYsWNp1aoVp59+epl+XkTiS3U4MXX4+OOP56WXXuKWW27hgQceoEKFClx66aV0796dChV+WGR63333sXLlSiZNmkR2djbTpk3jlltuoVGjRgwfPvyI844dO5aBAwfSvn37uOYXkfJTvU1MvY2mr1BwzNlnn83o0aPDxyxdupTHHnuMn//850DkXuudOnWid+/etGjRghdffDGqz+KQ4NB2EGnmmWeeYf78+Zx22mlMmzaNTp068cwzzwDw+uuvM2rUKC666CImTpxITk4Od999NwcOHIg4R6VKlSK+ds4V+dzhRb44xTUz8/LyGD16NAsWLAg/PvvsM5YvX07Xrl2P+n6KEqtlGytXrmTAgAH069eP8ePHR7yHgmXCh396fMeOHVmzZs1Rz12gfv36ZGRksHHjxojnN27cSJUqVahTp07U5xKR+FN9jf+yuPfff5+VK1eSlZVFRkYGGRkZrFmzhjFjxpS4fLhNmzbUr1+fZcuWlel1d+zYwcsvv8y1116rCTiRJKY6nJhteUaMGMHXX3/Nhg0b2LJlC+PHj2fdunW0adMGgK+++oqHHnqIsWPHcsYZZ9C5c2duvPFGLrnkkiJff8WKFXz44YeMGjWq3NlEJDFUb+Nfb6PpK5S195CVlcWxxx5b5mtjSV26EzgNderUiU6dOnHrrbcyatQonn76aa655hqmTZtG165dufXWW8PHrl69Omavu3jxYnbs2EGtWrUAmDVrFhC6o6Ao3bt3L3Y2r7Di3k9RRo0axYUXXlji+Y42o7dkyRJOOeUUhg4dyrPPPhtx1wPASSedRGZmJkuWLIl4funSpbRs2bLEcxdWuXJlTj75ZN555x0uu+yy8PPvvPMOvXr1KvbT7EXEH9XX8tXXo7n//vu5/fbbI54bOnQoF1xwAdddd12xP7du3Tq2bt1KkyZNyvS6f//739m/fz9XXHFFmX5eRBJHdTi+dbiwgrv1PvjgA7799lvOP/98ILR3O3DENXLFihXDd98VNm7cOOrVqxf+eRFJDaq38a230fQVWrRoQbNmzUrde9i5cycrVqzgvPPOK1dGST1qAqeRFStW8MwzzzBs2DCaNWvG+vXrmTFjBt26dQPguOOO47nnnuM///kPnTp14u233y71h5mVxDnHZZddxu9+9zu2bdvGDTfcwPDhw4stxr/97W8ZOnQov/zlL7n00kupVq0aS5Ys4a233mLcuHFHfT9FKe+yjS+//JIhQ4bQr18/7r///oilKQ0aNKBixYrUqFGDm266iSeeeIITTjiBHj16MHHiRP71r38xadKk8PEbN25k48aN4XOsWLGCrKys8DIYgF/96ldccMEF9OjRgzPPPDP8d/L222+X+T2ISOypvsZmWdyKFSvYtWsXa9euBWDBggUAtG3blho1apCdnU12dnbEz1SqVImGDRuG74BYuXIlf//73znrrLNo2LAhS5cuZfTo0bRs2ZJzzz03/HPbtm0Lvw7A2rVrWbBgAXXr1qV58+YRrzF27FjOPfdcGjVqVK73JyLxozqcmDoM8MQTT9CzZ0+ysrKYOXMmt9xyC5deeimDBw8GoH379hx33HHceOONPPLIIzRt2pSpU6cyfvx47rnnnojX279/PxMmTOCKK66gcuXK5couIomhepuYehtNX8E5xx133BE+ruBD5J966in+8pe/ALBr1y7uuecezj//fJo2bcrXX3/N3XffjXOOkSNHlus9SAryvSmxHiU/iOEG7uvXr7fzzjvPsrOzrXLlytakSRO7+uqrw5uB79+/36699lqrU6eO1axZ037605/aY489FrFJ+eGbrJuZ3XfffdaiRYuI537/+99bdnZ2+OuRI0faKaecYg899JA1btzYMjMz7fzzz7ctW7aUeO4pU6bYwIEDrVq1ala9enXr3Lmz3X333VG9n3gYM2aMAUU+Vq1aFT7u4MGD9pvf/Mays7MtMzPTunbtam+++WZU5xozZkzEcePHj7e2bdtapUqV7Nhjj7W///3vcXt/aAN3PQL6iGUtLYrqa2wMHDiwyLpY0gd1HP7BcGvXrrWBAwdavXr1rHLlytaqVSu79tprbf369RE/N378+CJfa+TIkRHHzZ492wD74IMPYvlWo6KarEeQH7Guy6rDsRFNHb7iiiusfv36VqlSJWvXrp39/ve/t4MHD0acZ+XKlXbRRRdZ48aNrWrVqnbcccfZgw8+aIcOHYo47uWXXzbnXPgDneJF9VSPdH+or5Ca9TaavoKZ2aOPPmqtW7e2KlWqWIcOHWzs2LHh7+Xm5trpp59uDRs2tEqVKtkxxxxjP/nJT+Jad1Vzk/fhQn8/kqyccxaEv6PLL7+cr7/+mg8++MB3FCmBcw4z04aXEjhBqaVFUX0NLtVkCbIg1WXV4eSneirpLig1V/U2NajmJi99MJyIiIiIiIiIiIhIgKkJLCIiIiIiIiIiIhJg2g4iyQVl2YakBi3bkKBSLZVUpJosQaa6LImkeirpTjVXEkk1N3npTmARERERERERERGRAFMTOI1NmDCBjIwM3zGics899+CcwznH7bff7jtOSjnppJPCf3YzZ870HUckkFRPpTRuv/328N/B7373O99xRAJJdTk96DpXJDmo5qYH1dzUpyawpIyWLVuyYcMGxowZE37uX//6F2eeeSZNmjTBOceECROK/LmCQlX40bFjx4jjcnNz+fWvf03Lli2pUqUKzZs355577ok45tlnn6Vz585Uq1aN5s2bc++995KXl1fq9zJ58mT69+9P7dq1qVu3Lqeddhrz5s0r8ti8vDxOOeUUnHP8/e9/j/je/fffT//+/alVqxbOOVavXn3Ez7/77rt88sknpc4oIsFV1nr60EMP0bdvX+rUqROuXXPmzIk4ZtCgQUXW3OrVq4ePufzyy4s8pkKFCnz77bcA7N27lyuuuIKuXbtSpUoVWrZsWeb3e/PNN9OzZ0+qVauGc0euTJs6dWqReZxzPPTQQ0Wes+AXiKuvvvqI761Zs4ZLLrmEBg0akJmZSYcOHfjPf/4T/v6YMWPYsGEDxxxzTJnfk4gES1nr8vTp0znnnHNo0aIFzrkjrl0Bxo8fz5AhQ2jQoAG1a9emb9++TJo06YjjXnvtNbp3706NGjVo2LAh5513HitWrCj1e4nmOreoent49oULF3L22WdTv359atasyXnnncfatWsjjtF1roiURVE1989//jOdO3emVq1a1KhRg27duh3x+zfA1q1b+fnPf07Tpk2pWrUqbdu2ZezYseHvf/nll4wYMYJ27dpRoUIFLr/88jJl3LBhA5dccgkdO3YkIyODQYMGHXHM+vXrGTp0KE2bNqVKlSpkZ2dz+eWXs379+ojjdu3axbXXXku9evWoXr06Z511Fl999VWxr11wrX74zQqqualPTWBJGRUrVqRx48bUrFkz/NyuXbvo0aMHTz75JBUrVizy5+bOncuGDRvCjxUrVpCZmclPfvKT8DGHDh3i7LPP5v333+fpp59myZIl/Otf/6JXr17hY5599lluuukmbr/9dr744gsef/xxnnzyySIvtkuydu1afvSjH9GlSxfmzp3LjBkzqFOnDqeffjo7d+484vh7772XatWqFXmuffv2MXz4cH7zm98U+3r16tWjQYMGpcooIsFW1no6ZcoUrrzySqZNm8bMmTNp2rQpp556KqtWrQof8+abb0bU3PXr13PMMcdE1Ny//vWvEcds2LCBnj17MnjwYBo2bAiE6nLlypW59tprufjii8v1fg8dOsTFF1/MTTfdVOT3+/Tpc0SeRx55hAoVKnDhhRcecfzkyZN54YUXOOGEE4743jfffEOvXr3Iy8vjrbfeYvHixTz11FMRDd+aNWvSuHHjYv+cRST9lLUu79q1iw4dOvDHP/6R7OzsIo+ZPHky5557Lu+88w5z586lX79+DB8+nI8//jh8zJw5c/jJT37CBRdcwOeff86kSZPYvn07Z555ZqneR2mucx9//PGIulv4jryNGzcyZMgQ6tWrx/Tp05k5cyYHDx7k1FNPZe/eveHjdJ0rImVRVM1t3rw5f/jDH5g3bx4LFizg0ksv5fLLL+e///1v+Jhdu3bRv39/VqxYwcsvv8ySJUv429/+xvHHHx8+Jjc3l+bNm3P33XfTrVu3Mmfct28fdevW5dZbb2Xo0KHFvo/zzjuP//73vyxfvpxXXnmFJUuWMGzYsIjjRo4cyYcffsjrr7/OzJkzycvL4/TTT4+opwVeeOEFFi5cSNOmTY/4nmpuAJiZHkn8CP0VRRo3bpzVqlXLcnNzI57/3e9+Zy1btrS8vDzLy8uzq6++2lq3bm1Vq1a1li1b2ujRo23Pnj3h48ePH28VK1Ys9mszs1WrVhlgM2bMCD+3dOlSGz58uNWqVcvq1q1rP/rRj2zFihVH5IylMWPGWJs2bUo8pmLFijZ+/PijnmvcuHGWkZFh33zzTfi5559/3mrWrGmbNm0q9uf69u1r1113XcRzjzzyiFWvXt127dp11Nct8K9//csA27FjR/i5RYsWGWDz5s2LOHby5MnWrFkz27JliwH2t7/9rchzzpgxwwBbtWpVkd8v6u+xKPnjzfu410OPWD+KqqVmqqfFibaeHjx40GrWrGlPPfVUsce89957Btgnn3xS7DFLly41wF599dUiv3/fffdZixYtjprnaP72t79ZcWPhcH369LGzzjrriOc3btxo2dnZNmPGDBs4cKBdddVVEd+/7LLLrFevXlG9RosWLey+++4r9vuqyXoE+aG6/INY1eU2bdrYmDFjonrN448/3kaPHh3++s9//rPVrVs34piJEycaYFu2bInqnGbRX+eWdF1rZvbMM89YjRo1bP/+/eHntm7dasARfw7RXOeqnuqR7g/V3B9EU3MLdOnSxW6++ebw13fffbe1aNEi4r2X5JRTTrGRI0eWJWaEq666ygYOHBjVsf/+978NsO3bt5uZ2bJlywywd999N3zMtm3brHLlyjZhwoSIn120aJE1atTIli1bVux1qmpuaj90J3AKuvDCC9m/f3/EjBTA3/72N372s58VfBIjjRo14h//+AeLFy/mr3/9KxMmTOD+++8v12tv3LiRfv360bJlSz766CNmzJhB7dq1OfXUU8nNzS32584880xq1KhR4mPGjBnlyhatsWPHMmzYsIiZrTfeeIMePXrwxBNP0KJFC1q3bs1VV13Fli1bwsfs3buXqlWrRpwrMzOT3bt3M3/+/Khfv3v37mRmZjJu3DgOHDjAnj17ePbZZ2nVqhUdOnQIH7dp0yZ+9rOf8eKLL1KvXr1yvGMRKY7qafnk5uZy4MABsrKyij3m6aefpmvXrpx88snFHjN27FgaNmzIueeeG/uQZbBw4UJmzZrFddddF/F8Xl4el1xyCddddx39+vU74ufy8vL497//Te/evbn00ktp2LAhnTt35v777+fgwYOJii+S0lSX4y8vL4/du3dH1O4+ffqwfft2Xn31VfLy8vj+++958cUX6dWrV6muQ6O9zgUYPXo09evXp3v37jz88MMRdXLv3r1UqlQpYo/RqlWrUqFCBaZPn172Ny8iEVRzi5aXl8c777zD0qVLI7ZheOONN+jfvz+//OUvadKkCccddxy33XYbu3fvLtfrxcqWLVt48cUX6dq1K7Vr1wZg5syZVKpUiVNOOSV8XJ06dejRo0fEn1Nubi4jRozgoYceol27dgnPLomRGjt3S4TatWtzzjnn8OKLL3LRRRcB8Mknn7B06VJ+9rOfAVChQoWI/VtatmzJihUreOqpp7jvvvvK/NpPPfUUbdu25a9//Wv4ufHjx1O3bl3+97//MWLEiCJ/7tlnn2XPnj0lnru4JWyxNG/ePObPn3/EP1grV65k1apVVKhQgVdeeYXc3FxuvfVWhg0bxqxZs3DOceaZZ/LEE08wYsQI+vTpw5IlS/jzn/8McMSeOyVp1qwZkydP5sILL2T06NHk5eXRtm1b3nvvPTIzM4EfGg1XXnllkXv/iEhsqJ6Wz+23307Dhg350Y9+VOT3N27cyH//+18ef/zxYs+xb98+XnjhBa655hoqVaoUr6ilMnbsWLKzszn77LMjnr/vvvs4ePAgd955Z5E/t3nzZnbs2MGTTz7JDTfcwLvvvsvixYu56aab2LFjB3/4wx8SEV8kpakux98f/vAHtm/fzqWXXhp+rkePHvz73/9m5MiRXHLJJRw8eJCTTz6ZiRMnlurc0VznQqieDhkyhOrVq/PRRx/x//7f/2PNmjU8+uijAJxyyinceuut3H333dx5550cPHiQX/7yl+Tl5ZXqultESqaaG2nhwoX07t07PBH1+OOPc84554S/v3LlSlasWMGPf/xj3nrrLTZs2MBNN93E119/zSuvvFKm14yFn/70p/znP/9hz5499O7dm3fffTf8vQ0bNlC/fv0jthVq3LgxGzZsCH99ww030LVr1/DfuwSTmsAp6rLLLuOcc87h22+/pWHDhvztb3+jd+/eETM2zz//PGPHjmX16tXs3r2bgwcPlulDzAqbN28ec+fOpUaNGhHP5+bmsnz58mJ/LlkufMeOHUurVq04/fTTI54/dOgQZsY///lP6tatC4Q+4bRr167MnTuXHj16cNddd7F582YGDx5MXl4eWVlZ/N///R933303FSpEf1P95s2bufrqqxk+fDhXXHEF+/fv5+GHH+ass85i7ty51K5dmwceeIC9e/dGbFQvIvGhelo29957L6+88goffvjhEe+hwHPPPUfVqlVL3NP39ddfZ9u2bVxzzTXxiloqubm5/P3vf+fmm2+OuFiePn06Tz75JJ9++mmxNf/QoUMAdO7cmYcffhiArl278u2333LXXXfx4IMPFvnBdCISSXU5fiZMmMC9997LG2+8EbFX+dKlS7nxxhu55ZZbGDZsGN9//z1jxozhnHPOYdq0aRF35JYkmutcgLvuuiv8MyeeeCJVq1bl6quv5ne/+x21atXi+OOP56WXXuKWW27hgQceoEKFClx66aV07969VNfdInJ0qrk/OO6441iwYAE7d+7kvffe45ZbbqFp06bh/dHz8vKoV68e48ePD9+8cOjQIc477zwee+yx8GdbJNqf//xn7rnnHlatWsW9997LT37yE957772jfv5EwXXpSy+9xMyZM8nJyUlEXPFI/4KmqKFDh1K/fn3+8Y9/cODAAf75z39y2WWXhb//+uuvM2rUKC666CImTpxITk4Od999NwcOHCj2nEVdUO3fvz/i67y8PE455RQWLFgQ8Vi2bBmjRo0q9tzJsExux44dvPzyy1x77bVH/BLetGlTmjRpEm4AA3Ts2BEIfco7QJUqVXj66afJzc1l9erVbNiwge7duwPQpk2bqHM89thjHDp0iMcff5zu3bvTu3dvXn75ZTZs2MDLL78MwAcffMDs2bOpUqUKGRkZ4QvvkSNH0r59+7L/IYjIEVRPS++uu+7ikUce4b333gvXwcPl5eXxzDPPcMkll0R86Mbhnn76aU4//XRat24dr7il8vLLL7Nr1y6uvvrqiOcnT57M5s2badGiRbguT5s2jeeff56MjAy++eYbGjRoQKVKlcL/fhTo2LEju3fvjthiSESKp7ocH+PGjePnP/85r776KmeddVbE9+6//346dOjAb37zG7p06cLAgQN5+eWXmTVrFh988EHUrxHNdW5RevbsiZlFNH5GjBjB119/zYYNG9iyZQvjx49n3bp1pbruFpGjU839QeXKlWnbti1du3Zl9OjR/PSnP+W3v/1t+PtNmjTh2GOPjVi9dnjfwIfGjRtz3HHHccYZZ/DGG28wefJk3n//fSCUecuWLeGbFQps3LiRxo0bA/D++++zcuVKsrKywte5a9asYcyYMUdsiSmpTXcCp6iKFSty8cUX87e//Y3WrVuzc+fO8PINgGnTptG1a1duvfXW8HOrV68u8ZwNGzbk0KFDbNq0iUaNGgEcMRPUvXt3XnzxRY455phSFYNkWCb397//nf3793PFFVcc8b3+/fsze/Zsvv/++/AdCkuXLgVCy10Ky8jICN858Y9//INWrVrRtWvXqHPk5uYe8Y+icy683xKElsEcvq9Qwb6SF1xwQdSvJSJHp3paOrfddhsTJkzgww8/LLYBDPDOO++wZs2aI/bVLWzRokXMnDmTN998Mx5Ry2Ts2LGcffbZEXfIAVx//fX8+Mc/jnjuiiuuoHnz5vz2t7+lUaNGZGRk0LNnT5YsWRJx3NKlS6levTr169ePe36RIFBdjr1HH32UX//617z55pvhO9oKK+r6tOAOsoLr02hEc51blIK/iyZNmhzxvYI76z744AO+/fZbzj///KjziMjRqeYWLy8vj71794a/7t+/P1OmTOHgwYPhG7WK6xv4UnCHdkHuvn37cuDAAT788MPwiujvvvuOTz75hKuuugoITQTefvvtEecZOnQoF1xwQYnX8pKCfH8ynR4lPyjhU8w/++wzA6xLly52wQUXRHzvscces8zMTPv3v/9tK1assL/85S9Wr169iE9FP/wTO7du3Wo1a9a0yy+/3JYvX24TJ060Tp06RXzy48aNG61x48Z25pln2syZM+2rr76yqVOn2i233GLLli0rNmt5FfcJnlu3brWcnBzLycmxihUr2m9/+1vLycmxNWvWHHHsCSecYCNGjCjy/OvXr7esrCwbPny4LVy40ObMmWM9evSwvn37Wl5enpmZLV++3CZMmGBLly61efPm2c9//nPLyMiwSZMmleq9TJ061ZxzNnr0aFuyZIktXLjQfvazn1n16tVt5cqVxf4cRXyK8po1aywnJ8fGjx9vgP3vf/+znJwc27p1a8Rx0XyCZ8FrWBKMez30iPWjpyf6vQAAmoNJREFUpFpqpnpakPlo9fSGG26wGjVq2DvvvGMbNmwIPwo+fbiw4cOH28knn1xill/84hfWpEkTO3DgQJHf//LLLy0nJ8duuOEGa9KkSTjfvn37SvWely9fbjk5OXb//fcbED7Pzp07I4779NNPw7U0GgMHDrSrrroq4rn//e9/5pyzu+++25YtW2b//e9/rWHDhvb//t//O+Lni/vU5QKqyXoE+aG6/IPy1OWdO3eGj2nWrJldd911lpOTY8uXLw8f89BDD1lGRoa9+OKLEbW78PXiiy++aBUqVLBHHnnEVqxYYfPmzbOhQ4da48aN7bvvvov6vURznfvf//7Xxo4da59//rmtXLnSXnjhBatfv75deOGFEed6/PHHbe7cubZ8+XIbP368ZWVl2aWXXnrEa+qT6vXQ4+gP1dwfFFdzb7nlFps+fbqtWrXKvvzyS/vjH/9oGRkZ9sgjj4SPWbBggVWuXNmuueYaW7x4sU2ZMsXatWtnF198cfiYffv2hetyz549bdiwYZaTk2NffvllqbMWnOe8886z7t27h78u8Prrr9sLL7xgCxcutNWrV9v7779vffr0sezsbNuxY0f4uHPOOcdat25tU6ZMsU8//dSGDh1qrVq1stzc3GJfu7jrVNXc1H54D6DHUf6CjlKsu3TpYoD95z//iXh+//79du2111qdOnWsZs2a9tOf/tQee+yxEgu1mdnbb79t7du3t6pVq1rfvn1t4sSJR/wH/tVXX9lFF11kdevWtSpVqljr1q3tqquuss2bN5eYtTyKK9QFzc/DHyNHjow4bvbs2QbYBx98UOxrfPrppzZo0CDLzMy0Jk2a2BVXXGFbtmwJf3/p0qXWvXt3q1atmlWvXt0GDRpk06ZNO+I8gI0ZM6bE9/P666/bySefbDVr1rQ6derYoEGDbPr06SX+TFFN4JEjRxb5/sePHx9xnJrAeqT742i11Ez1NJp6WtT3i6q5X3/9tVWsWNGeffbZYnPk5uZaVlaW3XXXXcUe06JFiyJfb9WqVRHHHP76hxs4cGCR55kyZUrEcdddd501b97cDh06VOL5Cp/38Cawmdk///lP69ixo1WpUsXatm1r999/f5GNbjWB9Ujnh+ryD8pTl6dMmVLkMQMHDgwfU1wtLXyMmdnTTz9tnTt3tmrVqlmDBg3sRz/6kX3++ecRx8TiOnfSpEnWtWtXq1mzpmVmZlqHDh3sgQcesD179kSc54orrrD69etbpUqVrF27dvb73//eDh48eMTrqSGhhx5Hf6jm/qC4mnvRRRdZ8+bNrXLlylavXj3r06ePvfTSS0cc98EHH9hJJ51kVapUsRYtWtitt95qu3btCn+/oCYd/mjRosURxxz+e/vhirv2LvDWW29Zz549rXbt2uE/v1GjRtnatWsjzrNjxw676qqrLCsryzIzM+2MM86ImCwsiprAwXy40N+PJCvnnOnvCO655x7+/ve/s2LFCt9RSvTVV1/Rtm1bZsyYQd++fX3HCVu9ejWtWrVixowZ9OvXr9jj8pfq6VOLJHBUS3+QKvU0Grm5udSrV4/nn3+en/70p77jlFrLli25+uqrIz4gqTDVZAky1eUfpEpdTuXrXNVTSXequT9Ihpo7efJkzj77bL788suk+VyMaKnmpjZ9MJykjK+++ooaNWpw5513+o5SrLfffpvLLrssqS6MBwwYcMSHFIlIekuFehqNDz74gJ49e6ZcA/jOO++kRo0arF271ncUEUkSqVCXdZ0rIkHhu+a+/fbbjB49OuUawKq5qU93Aic5zdiFbNu2jW3btgFQp04d6tWr5zlR6vj666/Dm8IfbdN9zdhJUKmW/kD11L+tW7fy3XffAVCvXj3q1KlT5HGqyRJkqss/UF0uu2ivc1VPJd2p5v5ANbfsVHNTn5rASU7FWhJJxVqCSrVUUpFqsgSZ6rIkkuqppDvVXEkk1dzkpe0gRERERERERERERAJMTWARERERERERERGRAFMTWERERERERERERCTA1AQWERERERERERERCbAM3wGkZFWrVt3knGvkO4ekh6pVq27ynUEkHlRLJRWpJkuQqS5LIqmeSrpTzZVEUs1NXk6fECmpwjn3MXCHmU2JwbmaATlAQzPLK3c4EZEAcc7VBDYADcxsTwzOdylwnpldUO5wIiIB45w7g9A17sAYne9Z4DMzeywW5xMRCRLn3IPAPjMbE6PzrSB0nbswFucTiSdtByEpwTlXC+gIzI7F+cxsHbAN6BSL84mIBEw/YG4sGsD5pgADnXO67hAROdJgYHIMzzc5/5wiInIk1VxJW/plTFJFf0INib0xPOcUYEgMzyciEhRDCNXImDCzb4CtwAmxOqeISIDEtObmn2uQc65iDM8pIpLynHO1gQ7AxzE8rfoKkjLUBJZUMYTYztaRfz4VaxGRI6nmiogkgHMuC2gPzInVOc1sA7AJODFW5xQRCYgBwBwz2xfDcxaseNPEmyQ9NYElVcR6yQbAVKC/c04fkCgiks85VwdoB3wS41NrqZyIyJEGALNj3JAA1VwRkaLEvK9gZhuB9UCXWJ5XJB7UBJak55yrB7QF5sbyvGa2CfgG6BrL84qIpLiBhBoS+2N83qnAAE28iYhEiPVWEAW0PFlE5EiquZLW1ASWVDAQ+MjMDsTh3FqeLCISKR5bQWBmm4E1QPdYn1tEJIXFpeYSmnjr55yrFIdzi4ikHOdcfaAVMC8Op1dfQVKCmsCSCuKxFUQBLZUTEYmkmisikgDOuQZAc2B+rM9tZluAVWjiTUSkwEBgZpxuLpsG9NXEmyQ7NYElFcRryQb8UKwrx+n8IiIpwznXCGgG5MTpJbRUTkTkB4MINSQOxun8qrkiIj+IW1/BzLYCK4GT43F+kVhRE1iSmnOuMdCUODUkzOw7YBnQIx7nFxFJMYOA6XFsSEwDejvnqsTp/CIiqSReW0EU0PJkEZEfqOZK2lMTWJLdIGCamR2K42uoWIuIhMRzKwjMbDuwBE28iYhAnGsuMB3oqYk3EUl3zrkmQCPgszi+jLY9k6SnJrAku3huBVFAxVpEJCQRNVfLk0Uk7TnnsoEGwOfxeg0z+x5YDPSK12uIiKSIwcT/5rIZhCbeqsbxNUTKRU1gSXbxXrIBMBM42TmXGefXERFJWs65ZkBdYGGcX0qrL0REQg2JqWaWF+fXUc0VEUlAX8HMdgBfAL3j+Toi5aEmsCQt51xzoBbwZTxfx8x2EroLo088X0dEJMkNBqYkoCExE+junKsW59cREUlmibjRAdQEFhEB1VwRQE1gSW6JakiAtoQQEYn33pQAmNkuYAGaeBOR9JaQmgt8BHR1zlVPwGuJiCQd51xLoDqwKAEvp76CJDU1gSWZJWJvygLao1JE0pZzzqGaKyKSEM65VkBVQh+UGVdmthvIAfrG+7VERJJUwc1lloDXmgV0cc7VSMBriZSamsCSlAo1JBJxhwSEivUJzrmaCXo9EZFk0hqoBCxN0OtpqZyIpLMhJK4hAaq5IpLeEtZXMLNcYD7QLxGvJ1JaagJLsmoDOGB5Il7MzPYAc1GxFpH0NBiYnMCGxGygo3OuVoJeT0QkmSRqK4gCWp4sImkp/+Yy1VyRfGoCS7JK9B0SoOXJIpK+ErkVBGa2l9DEW/9EvaaISDLwsP0OwMdAB+dc7QS+pohIMmgHGLAyga+pvoIkLTWBJVklciuIAloqJyJpx8P2OwVUc0UkHR0HHAC+StQLmtk+YA4wIFGvKSKSJIaQ2NVuEKq37Z1zWQl8TZGoqAksScfTkg2AT4B2zrm6CX5dERGf2gN7zGxVgl9XS+VEJB0levudAqq5IpKOEt5XyJ94m40m3iQJqQksyagDsNvM1iTyRc1sP6EPiFOxFpF0kuhlyQXmAm2dc/U8vLaIiC++aq6WJ4tIWnHOVSDUBFbNFcmnJrAkIx/LkguoWItIuvFSc83sAPARMDDRry0i4oPnhsQ8oJVzrr6H1xYR8aEjsMPM1np4bW17JklJTWBJRj6bwCrWIpI28hsSg/DTkADVXBFJL52BbWa2LtEvnD/xNpNQzRcRSQc++wrzgRbOuQaeXl+kSGoCS1JxzlUkdFeYr4ZEDpDtnGvk6fVFRBLpBGCLmX3j6fWnoD0qRSR9+LoLuIBqroikE28118wOAjPQxJskGTWBJdmcCGwysw0+XlzFWkTSjM87JCA08dbUOdfYYwYRkUTxXXO1+kJE0kIS3FwGqrmShNQElmTj++IYVKxFJH14rblmdgiYhu5ME5GAc85lEPrw4akeY3wGNHLONfWYQUQkEboC681so8cM6itI0lETWJLNYJKjCayGhIgEWn5Doh9+GxKgmisi6aErsM7MNvkKkD/xNhWteBOR4EuGvsLnQD3nXLbnHCJhagJL0nDOVSLUkJjmOcoXQB3nXDPPOURE4qk7sNbMNnvOMQXdJSEiwTcEv8uSC6jmikg68F5zzSwPrXiTJKMmsCSTk4BVZrbFZ4j8Yj0VFWsRCbZk2H4H4EuglnOuue8gIiJxlCw1V8uTRSTQ8m8u64v/m8tANVeSjJrAkkySYclGAS1PFpGgS4qamz/xpk+sF5HAcs5VBnqTHA2JRUB151xL30FEROLkZGCFmW31HQT1FSTJqAksycT7ko1CJgNDnHPOdxARkVhzzlUh1JCY7jtLPi1PFpEg6wEsN7PvfAcxM0MTbyISbMnUV1gCVHXOtfIdRATUBJYkkd+Q6EnyNCSWAZWA1r6DiIjEQU9giZlt9x0knybeRCTIkmUriAJaniwiQZY0NbfQxJtqriQFNYElWfQCFpnZ976DQLhY6wJZRIIqKbaCKGQ54IA2voOIiMRBstXcycBgTbyJSNA456oS2g5ihu8shWhLCEkaagJLskimJRsFVKxFJKiSqubqLgkRCSrnXCahhsRM31kKWQkY0M53EBGRGOsNfGlmO3wHKWQKWvEmSUJNYEkWSbNkoxAVaxEJHOdcNaA7ydWQAK2+EJFg6gN8bmY7fQcpoBVvIhJgydhX+Ao4ABznO4iImsDinXOuOtAV+Mh3lsLMbBWwBzjedxYRkRjqCywws12+gxxGy5NFJIiSsSEBagKLSDAlXc3VxJskEzWBJRn0BT41s92+gxRBW0KISNAk296UAJjZGmAX0MF3FhGRGErKmktoxdsg55x+HxSRQHDO1QBOBGb5zlIE9RUkKegffUkGSbU35WG0R6WIBI1qrohIAjjnagInALN9Zzmcma0FdgAdfWcREYmRfsB8M8v1HaQIUwiteFMPTrzSAJRkkHRLNgrRXRIiEhjOuVpAJ5KwIZFPS+VEJEj6A3PNbI/vIMVQzRWRIEnavoKZfQ1sAzr7ziLpTY0t8co5V5vQnrsf+85SFDP7BthM6C4OEZFU1x+YY2Z7fQcpxhRgoHOuou8gIiIxkKxbQRTQ8mQRCRLVXJGjUBNYfBtAqCGxz3eQEmh5sogERTJvBYGZbQA2EdrPTUQk1SV1zQWmook3EQkA51wdoD3wie8sJVBfQbxTE1h8S9olG4VoqZyIBIVqrohIAjjn6gLtSOKGhJltBNYDXX1nEREppwHA7CS/uWwqMMA5l+E7iKQvNYHFt2RfsgGhYt1fxVpEUplzrh7QBpjrO8tRaKmciATBAGCWme33HeQoVHNFJAiSvq9gZpuAdWjiTTxSE1i8cc7VB1oB831nKYmZbQZWA909RxERKY+BwEdmdsB3kKOYBvRzzlXyHUREpBySfSuIAlqeLCJBoJorEgU1gcWnQcDMFGhIgIq1iKS+VNgKAjPbAqwCTvKdRUSkHFKi5hKaeOvrnKvsO4iISFk45xoCLUjym8vyadsz8UpNYPEpVS6OQcVaRFKfaq6ISAI45xoB2UCO7yxHY2ZbgRXAyb6ziIiU0SBgupkd9B0kCtOAPpp4E1/UBBafBpMaSzYApgO9nHNVfAcRESkt51xjoAmwwHOUaE1Be1SKSOoaBMxIkYYEqOaKSGpLmb6CmX0HLAN6+M4i6UlNYPHCOdcUaAR85jtLNMxsO7AE6Ok5iohIWQwGppnZId9BolQw8VbVdxARkTJIpZUXoNUXIpLaVHNFoqQmsPgyGJiaQg0JULEWkdSVUhfHZvY98CXQy3cWEZEySKmaC8wAemjiTURSjXMuG6gPfO47SymoryDeqAksvgwmtS6OIZRXS+VEJBWp5oqIJIBzrhmQBXzhOUrUzGwHsBDo7TuLiEgpDQammFme7yClMBM4yTmX6TuIpB81gcWXIaTIvj2FfAR0d85V8x1ERCRazrkWQC1Cd9amkinoLgkRST0Fq91SqSEBqrkikppSrq9gZjsJ3bncx3cWST9qAkvCOedaAtWBRZ6jlIqZ7SL0oUp9PUcRESmNgjskzHeQUvoI6Oqcq+47iIhIKaTaVhAFtDxZRFKRaq5IKagJLD4MBianYEMCVKxFJPWk4lYQmNlu4FM08SYiKcI550jRmgvMAk50ztXwHUREJBrOuVZAFUIf4J5qtO2ZeKEmsPiQcks2ClGxFpGUkd+QSOWaq+XJIpJKWgOVgGW+g5SWmeUC84F+vrOIiERpCKm52g1gNnCCc66m7yCSXtQEloQq1JBIxTskAD4GOjnnavsOIiIShbaAA5b7DlJGWn0hIqlkCKm72g1Uc0UktaRsX8HM9gBzgf6+s0h6URNYEq0dcAhY6TtIWZjZXmAOKtYikhpSefsdCE28Ha+JNxFJEam6FUQBrXgTkZSQ4tvvFFDNlYRTE1gSLZWXbBRQsRaRVJHKW0FgZvsITbwN8J1FRKQkAdh+B+AToL1zro7vICIiR3EccABY5TtIOWjbM0k4NYEl0VJ2yUYhKtYikvQCsP1OAS1PFpFUcDywx8xStiGRP/E2G028iUjyS/XtdyA08dbOOVfXdxBJH2oCS8I45yoQuoM2le+QgNDePW2cc/V8BxERKUFHYKeZrfEdpJzUBBaRVBCESTdQzRWR1JDyNdfM9gOzgIG+s0j6UBNYEqkjsN3M1voOUh5mdgCYiYq1iCS3VN8nrcA8oKVzrr7vICIiJQhKzdW2ZyKS1PJvLhtE6t9cBqq5kmBqAksipfo+aYVpSwgRSXaBqLlmdpDQxNsgz1FERIoUsIbEp0Bz51xD30FERIrRGdhmZl/7DhID6itIQqkJLImU8ks2CtFSORFJWs65ioRWKwShIQGquSKS3E4ENpvZet9Byit/4m0GmngTkeQVpL5CDpDtnGvkO4ikBzWBJSHyGxIDCE5DYgHQ2DnX2HcQEZEinAhsNLMNvoPEiJbKiUgyC8pWEAVUc0UkmQWm5uZPvE1HE2+SIGoCS6J0Bdab2SbfQWLBzA4B09AFsogkp0BsBVHIZ0Aj51xT30FERIoQtJqr5ckikpSccxmEbi6b6jlKLKnmSsKoCSyJEqQlGwVUrEUkWQWq5ppZHqGLfU28iUhSyW9I9CdYDYnPgfrOuWzfQUREDtMNWGdm3/oOEkPa9kwSRk1gSZTALNkoRMVaRJKOc64S0JdgNSRAy5NFJDl1B1ab2WbfQWIlf+JtCqq5IpJ8gthX+ALIcs418x1Egk9NYIk751xlQg2Jab6zxNiXQA3nXAvfQURECjkJWGVmW30HiTGtvhCRZBS0rSAKqOaKSDIKXM3VijdJJDWBJRFOBlaY2TbfQWLJzAwVaxFJPoHaCqKQRUB151wr30FERAoJas2dDJzinHO+g4iIQPjmsj4E7+Yy0CpjSRA1gSURgnpxDCrWIpJ8Allz8yfetCWEiCQN51wVoBehT3YPmiVAZUATbyKSLHoCS83sO99B4mAyMEQTbxJvagJLIgwmYEs2CpkMDFaxFpFk4JyrSugCeYbvLHGiPSpFJJn0BJaY2XbfQWItf+JNNVdEkkmQ+wrLgAygte8gEmxqAktcOecygR4EtyGxAnBAW99BREQI3ZH2pZl97ztInOguCRFJJoFceVGIVryJSDIJbM0ttOJNNVfiSk1gibfewEIz2+E7SDyoWItIkgnsxXG+lcAh4FjfQURECH7N1cSbiCSF/JvLTgJm+s4SR+orSNypCSzxNphgXxyD9qgUkeQR6JqrfYFFJFk456oB3Qh2Q2IVsA84zncQEUl7fYDPzGyn7yBxpK0mJe7UBJZ4G0Jw9+0pMAXdJSEinjnnqgNdgY98Z4mzKeguCRHxry+wwMx2+w4SL4X2BVbNFRHfAt9XMLPVwB7geM9RJMDUBJa4cc7VAE4EZvnOEk9mtgbYCXT0nUVE0lo/4FMzy/UdJM6mELpLQtcwIuJT0LeCKKDlySKSDFRzRWJAv0BJPPUD5qVBQwJUrEXEv0BvBVHAzNYC29HEm4j4lRY1l9DE2yBNvImIL865mkBnYLbvLAmgbc8krvSPucRT4JdsFKJiLSK+pVPN1fJkEfHGOVcb6AR87DtLvJnZ18A2Qg0YEREf+gNzzWyP7yAJoIk3iSsNLImndFmyATAVGOicq+g7iIikn/yGxPGkQUMin1ZfiIhP/YE5ZrbXd5AEUc0VEZ/Spq9gZuuBzYS21RSJOTWBJS6cc3UIfZLwHN9ZEsHMNgAbgS6eo4hIehoAfGxm+3wHSZApwABNvImIJ+myFUQBrXgTEZ9Uc0ViRE1giZcBwGwz2+87SAKpWIuIL+m0FQRmtglYD3T1nUVE0lJa1VxCK94GOOcyfAcRkfTinKsLtAPm+s6SQNr2TOJGTWCJl7RZslGIirWI+JKONVfLk0Uk4Zxz9YA2pFFDwsy+BdYB3XxnEZG0MxCYlWY3l00F+jvnKvkOIsGjJrDESzo2JKYC/VSsRSSRnHMNgJbAPM9REk1NYBHxYRAw08wO+A6SYKq5IuJD2vUVzGwzsBro7jmKBJCawBJzzrmGQDPgU99ZEsnMtgIrgZN8ZxGRtDIQmGFmB30HSbBpQB/nXGXfQUQkraTb3pQFtO2ZiPigmisSQ2oCSzwMIj0bEqAtIUQk8dJtb0oAzGwbsAI42XcWEUkraVlzgelo4k1EEsg51wjIBnJ8Z/FAfQWJCzWBJR7SbslGIVoqJyKJpporIpIAzrkmQGNggecoCWdm3wFLgZ6+s4hI2hgMTDezQ76DeDAd6OWcq+I7iASLmsASD+m6ZANCxbqHc66q7yAiEnzOuaZAA+Az31k80VI5EUmkQcC0NG1IgGquiCRW2vYVzGw7sBhNvEmMqQksMeWcOwaoByz0ncUHM9sBfAn08p1FRNLCYEINiTzfQTyZQWjiLdN3EBFJC+m6FUQBLU8WkURSzVXNlRhTE1hibTAwNY0bEqBiLSKJk85bQWBmOwlNOvb2nUVE0kJa11xgJnCSJt5EJN6cc82ALOALz1F80rZnEnNqAkuspe2SjUJUrEUkUVRztTxZRBLAOdcCqEFoxVdayp94+wzo4zuLiATeYGBKmt9cNhPo5pyr5juIBIeawBIzzjkHnEJ6L9kA+Ajo4pyr7juIiASXc64VUI3QfmHpTKsvRCQRCla7me8gnqnmikgipPtWEJjZbkIfRNrXcxQJEDWBJZZaAZWBJb6D+GRmucCnQD/fWUQk0ArukEj3hsQs4ETnXA3fQUQk0NJ9K4gCWvEmInGVf3OZam6Iaq7ElJrAEkuDgclqSAAq1iISf9oKgvDE2zw08SYicZLfkFDNDZkNdHbO1fQdREQCqzVQEVjmO0gS0LZnElNqAksspf2SjUJUrEUkbgrdIaGaG6LlySIST20BB6zwHcQ3M9sDzAX6+84iIoE1BK12K/Ax0Mk5V9t3EAkGNYElJrRk4whzgOOdc1m+g4hIIB0LHAJW+g6SJLT6QkTiaQha7VaYaq6IxJP6CvnMbC+h3oIm3iQm1ASWWGkP7ANW+Q6SDMxsH6FZuwG+s4hIIKkhEWkOcJxzro7vICISSGpIRFITWETiQtvvFEk1V2JGTWCJFe0HfCRtCSEi8aKL40LMbD+hD4jTxJuIxFShhoS23/nBXKCtc66u7yAiEjjHA7lmttp3kCSivoLEjJrAEivam/JImrETkZhzzlVADYmiaF9gEYmHjsBOM1vjO0iyKDTxNtB3FhEJHPUVjjQPaOOcq+c7iKQ+NYGl3PIbEoNQsT7cfKClc66B7yAiEiidgO1mts53kCSjiTcRiQdtBVE01VwRiQfV3MOY2QFgJqGei0i5qAkssdAZ2GpmX/sOkkzM7CAwAxVrEYktbQVRtE+BZs65hr6DiEigqOYWTcuTRSSm8m8uG4huLiuKaq7EhJrAEgtaslE8FWsRiTXV3CJo4k1EYs05V5FQQ2Kq5yjJKAfIds418h1ERALjRGCzma33HSQJadsziQk1gSUWtGSjeCrWIhIz+Q2JAagJXBwtTxaRWOoCbDSzDb6DJBszOwRMRzc7iEjsqK9QvAVAY+dcE99BJLWpCSzl4pzLAPqjOySK8xnQwDnX1HcQEQmErsA3ZrbJd5AkpdUXIhJL2gqiZKq5IhJLqrnFyJ94m4ZWvEk5qQks5dUNWGdm3/oOkozMLI9Qg1wXyCISC9oKomQLgXrOuWN8BxGRQFDNLZlWvIlITDjnKqGby45GNVfKTU1gKS8t2Tg6FWsRiRXV3BJo4k1EYiW/IdEPNSRK8gWQ5Zxr7juIiKS87sBqM9viO0gS07ZnUm5qAkt5qSFxdCrWIlJuzrnKQB9CS8GkeKq5IhILJwMrzWyr7yDJKn/ibQqaeBOR8lNf4ei+BGo451r4DiKpS01gKbP8hkRvQh8KIcVbDGQ651r5DiIiKe1kYIWZbfMdJMlNAYY455zvICKS0gajrSCioSawiMSCau5RmJmhFW9STmoCS3n0BJaa2Xe+gySz/GKtC2QRKS/dIRGdJUBlQBNvIlIeqrnRmYwm3kSkHJxzVYBe6OayaGjFm5SLmsBSHro4jp6KtYiUl2puFPIn3lRzRaTMnHNVCd3soIbE0S0DKgJtfAcRkZTVC1hsZtt9B0kBmniTclETWMpjMGpIRGsyMFjFWkTKwjmXSWg7iBm+s6SIyWj1hYiUXS/gCzPb4TtIsis08aaaKyJlpb5C9FYABrT1HURSk5rAUibOuWrAScBM31lSxFfAQeBY30FEJCX1Bhaa2U7fQVKE9gUWkfIYgvamLI0paPWFiJSdam6UCm01qZorZaImsJRVH+AzM9vlO0gqULEWkXLSVhClswrYB7T3HUREUpJqbuloxZuIlEn+zWXd0M1lpaFtz6TM1ASWstKSjdJTsRaRslLNLQUtTxaRsnLOVQe6AB95jpIyzGw1kAsc7zmKiKSevkCOme32HSSFTEETb1JGagJLWWnJRulNAQY55/TfnYhEzTlXEzgRmOU7S4rR6gsRKYt+wKdmlus7SIpRzRWRslBfoZTMbA2wE+joO4ukHjWjpNTyGxKdgdm+s6QSM1sHbAc6eY4iIqmlHzDPzPb4DpJiNPEmImWhrSDKRiveRKQsVHPLRjVXykS/GElZ9Ac+UUOiTFSsRaS0tBVEGZjZ18BWQpOWIiLRUs0tmynAQE28iUi0nHO1gQ7Ax76zpCBteyZlon+kpSy0ZKPsVKxFpLRUc8tuCnCK7xAikhqcc1mE9rWd4zlKyjGz9cBmQvspi4hEo+Dmsr2+g6SgqYRWvFX0HURSi5rAUhZqSJTdVEJ3SWT4DiIiyc85Vwc4DjUkykoTbyJSGgOAOWa2z3eQFKWaKyKlob5CGZnZBmADmniTUlITWErFOVcXaAt84jtLKjKzTcDXQFffWUQkJQwEZpnZft9BUtRUoL8m3kQkSkOAD32HSGHa9kxESkM1t3xUc6XU1ASW0hoIfKSGRLnoLgkRiZb2piwHM/sWWAt0851FRFKCam75TAX6Oecq+Q4iIsnNOVcPaAXM850lhamvIKWmJrCUlpZslJ9m7EQkWqq55TcF1VwROQrnXAOgJTDfc5SUZWZbgNVAd89RRCT5DSJ0c9kB30FS2DQ08SalpCawlNYQdIdEeU0D+jrnKvsOIiLJyznXEGgGfOo7S4rTxJuIRGMQMMPMDvoOkuJUc0UkGuorlJOZbQVWAif7ziKpQ01giZpzrhHQFMjxnSWVmdl3wDKgh+8sIpLUBgHT1ZAot2lAb028ichRaCuI2NDyZBGJhmpubKjmSqmoCSylMZhQQ+KQ7yABoGItIkejrSBiwMy2A0uBnp6jiEhyU82NjelAL+dcFd9BRCQ5OeeaAI2Bz3xnCQBteyaloiawlIaWbMSOirWIHI1qbuxoebKIFMs51xRogBoS5WZm3wOLgV6+s4hI0hoMTNPNZTExHejpnKvqO4ikBjWBpTS0ZCN2ZgAnO+cyfQcRkeTjnDsGqAss9J0lILT6QkRKMhiYamZ5voMEhGquiJREfYUYMbMdwBdo4k2ipCawRMU51xzIAr70HCUQzGwn8DnQ23cWEUlKakjE1kzgJOdcNd9BRCQpaSuI2NKKNxEpiWpubKnmStTUBJZoDQamqCERUyrWIlIcbQURQ2a2i9Ay7z6+s4hIUlLNja2ZQDfnXHXfQUQkuTjnWgA10M1lsaRtzyRqagJLtLRkI/ZUrEXkCM45hxoS8aCaKyJHcM61AjIJ7WMrMWBmu4EcoK/vLCKSdApuLjPfQQLkI6CLc66G7yCS/NQElqMq1JDQko3YmgWc4Jyr6TuIiCSVVkBlYKnvIAGjPSpFpChqSMSHaq6IFEV9hRgzs1xgPpp4kyioCSzRaANUBJb5DhIkZrYHmAv0851FRJLKEGCyGhIxNxvo7Jyr5TuIiCQVrbyID217JiIRtNotrlRzJSpqAks01JCIHxVrETmcLo7jwMz2Ap8A/X1nEZHkoIZEXH0MdHTO1fYdRESSRjvAgBW+gwSQtj2TqKgJLNHQfsDxo2ItImH5DQnV3PjR8mQRKexY4ADwle8gQZM/8fYxmngTkR8MRjeXxcscoL1zLst3EEluagJLibQfcNx9ArRzztXxHUREkkJ7YJ+ZrfIdJKC0+kJEChuC9gOOJ9VcESlMfYU4MbN9hCbeBvjOIslNTWA5mg7AbjNb7TtIEJnZfkL7VA70nUVEkoKWJcfXXKCtc66u7yAikhRUc+NLK95EBIhY7aYmcPyo5spRqQksR6NlyfGnYi0iBVRz4yh/4u0jNPEmkvaccxWAQaghEU/zgFbOuXq+g4iIdx2BHWa2xneQANO2Z3JUagLL0WjJRvypWItIQUNCd0jEn5YniwhAJ2C7ma3zHSSozOwAoYm3QZ6jiIh/6ivE33ygpXOuge8gkrzUBJZi6Q6JhMkBmjnnGvkOIiJenQBsMbNvfAcJOK2+EBHQVhCJoporIqCaG3dmdhCYgSbepARqAktJTgQ2mdl630GCLL9YT0fFWiTdaSuIxMgBmjrnGvsOIiJeqeYmhprAImnOOVeR0AeW6eay+FPNlRKpCSwl0ZKNxNGWECKimpsAZnYImIYm3kTSlnMug9De4FM9R0kHnwGNnHNNfAcREW+6ABvNbKPvIGlAfQUpkZrAUhIt2UgczdiJpLH8hkR/1JBIFO0LLJLeugJfm9km30GCrtDEm5oSIulLfYXE+Rxo4JzL9h1EkpOawFIk51wloB9qSCTKF0Ad59wxvoOIiBfdgLVm9q3vIGlCE28i6U1bQSSWaq5IelPNTRAzyyPUw9HEmxRJTWApTndgtZlt8R0kHahYi6Q9bQWRWF8CtZxzzX0HEREvVHMTS8uTRdJUoZvLpvnOkkZUc6VYagJLcbRkI/F0l4RI+lLNTSBNvImkL+dcZaAvakgk0iKghnOupe8gIpJwJwMrzWyr7yBpRNueSbHUBJbiqCGReFOAIc455zuIiCSOc64K0Bs1JBJNE28i6akHsMzMtvkOki7MzAhd52riTST9qK+QeIuBTOdcK99BJPmoCSxHyG9I9ASm+86SZpYClYDWvoOISEL1AJaY2XbfQdLMZGCwJt5E0o72pvRDy5NF0pNqboLlT7yp5kqR1ASWovQCFpvZ976DpBMVa5G0pb0p/VgOVATa+A4iIgmlmuuHVryJpBnnXFVCN5fN8J0lDWlLCCmSmsBSFC3Z8EfFWiT9qOZ6UGjiTTVXJE045zIJ7U+phkTirQAMaOc7iIgkTG/gCzPb4TtIGpqMJt6kCGoCS1G0ZMMfFWuRNOKcqwZ0B2b6zpKmtPpCJL30Bj43s52+g6QbrXgTSUvqK/jzFXAAONZ3EEkuagJLBOdcdaAb8JHvLOnIzFYBe4D2vrOISEL0AT4zs12+g6QpTbyJpBdtBeGXVl+IpBfVXE+04k2KoyawHK4vkGNmu30HSWPaEkIkfWgrCI/MbA2wG+jgO4uIJIRqrl9TCH0gp34HFQk451wNoAu6ucwn9RXkCPoHWA6nJRv+acZOJH2o5vqnmiuSBpxzNYETgFm+s6QrM1sL7AA6+s4iInHXF5hvZrm+g6QxTbzJETQY5HBasuHfFGCgirVIsDnnagGdgdm+s6Q57VEpkh76AfPMbI/vIGlONVckPaiv4JmZrQO2AZ18Z5HkoSaThDnnahOamf/Yd5Z0ZmbfAFsI3a0iIsHVH/jEzPb6DpLmpgCDnHMVfQcRkbjSVhDJQcuTRdKDam5yUM2VCGoCS2H9gY/VkEgKKtYiwaetIJKAmW0ANgEn+s4iInGlmpscCla8aeJNJKCcc1mEPuh8jucoom3P5DBqAkthWrKRPFSsRYJPNTd5aHmySIA55+oAxwGf+M6S7sxsI7Ce0AdGiUgwDSB0c9k+30GEqUB/51yG7yCSHNQElsK0ZCN5TAX6qViLBJNzrh7QFpjrO4sAWn0hEnQDgVlmtt93EAFUc0WCTn2FJGFmm4BvgK6+s0hyUBNYAHDO1QdaAfN8ZxEws83AWqC77ywiEhcDgY/UkEgaUwlNvFXyHURE4kINieSiFW8iwaaam1xUcyVMTWApMBCYaWYHfAeRMBVrkeDS3pRJxMy2AKvQxJtIUKnmJpdpQF9NvIkEj3OuAdAcmO87i4Rp2zMJUxNYCmhvyuSjYi0SXKq5yUcTbyIB5JxrBDQDcnxnkRAz2wqsAE72nUVEYm4QoZvLDvoOImHTgD7Oucq+g4h/agJLAS3ZSD7Tgd7OuSq+g4hI7DjnGgNNUUMi2WiPSpFgGgRMV0Mi6ajmigST+gpJxsy+A5YDPXxnEf/UBBacc02ARsBnvrPID8xsO7AE6Ok5iojE1iBgmpkd8h1EIkwHemriTSRwtBVEctLqC5FgUs1NTqq5AqgJLCGDUUMiWWlLCJHg0VYQScjMvgcWAb18ZxGRmFLNTU4zgJOdc1V9BxGR2HDOZQMNgM99Z5EjqK8ggJrAEqIlG8lLM3YiwaOam7y0PFkkQJxzxwB1gYW+s0gkM9sBfAn09p1FRGJmMDDVzPJ8B5EjzCQ08ZbpO4j4pSawgJZsJLOPgO7OuWq+g4hI+TnnmgO1CP3iK8lHE28iwTIYmKKGRNJSzRUJFvUVkpSZ7SR0h3Yf31nELzWB05xzriVQg9ASWEkyZrYLWICKtUhQ6A6J5PYR0NU5V913EBGJCW0Fkdy0PFkkWFRzk5tqrqgJLOE7JMx3ECmW7pIQCQ5tBZHEzGw3kAP09Z1FRMrHOedQzU12s4AuzrkavoOISPk451oBmcBi31mkWNr2TNQEFi3ZSAEq1iIBkN+QUM1Nfpp4EwmGVkAlYKnvIFI0M8sF5gP9fGcRkXIbDEzWzWVJbRZwgnOupu8g4o+awGms0B0SWrKR3GYDnZxztXwHEZFyaQNUBJb7DiIl0lI5kWAYgla7pQLVXJFgUF8hyZnZHmAumnhLa2oCp7d2gAErfAeR4pnZXmAO0N93FhEplyHoDolU8DHQwTlX23cQESkXbQWRGrT6QiTFafudlKKam+bUBE5vWrKROrQlhEjq01YQKcDM9hGaeBvgO4uIlI2230kpnwDtnXN1fAcRkTI7FjgAfOU7iByV+gppTk3g9KbZutShGTuRFKY7JFKOaq5IamsP7DWzVb6DSMnyJ95mo4k3kVSm1W6p4xOgnXOuru8g4oeawGnKOVeB0B0S2rcnNcwF2jjn6vkOIiJl0gHYbWZrfAeRqGiPSpHUpr0pU4tqrkhqU81NEWa2n9AHxGniLU2pCZy+OgI7zGyt7yBydGZ2AJgJDPSdRUTKRHcBp5b5QCvnXH3fQUSkTFRzU4uWJ4ukKN1clpJUc9OYmsDpS/ukpR4Va5HUpZqbQgpNvA3yHEVESim/ITEQNSRSyXyghXOuge8gIlJqnYBtZrbOdxCJmrY9S2NqAqcvLdlIPVoqJ5KCnHMVCTUTVXNTi2quSGo6AdhqZt/4DiLRMbODwHQ08SaSitRXSD05QLZzrpHvIJJ4agKnofyGhO6QSD0LgCbOuca+g4hIqZwIbDKzDb6DSKlo9YVIatJWEKlJNVckNanmppj8ibcZaOItLakJnJ66AOvNbKPvIBI9MztE6C4J3Zkmklq0FURq+gxo5Jxr6juIiJSKam5q0vJkkRTjnMsA+gNTPUeR0lPNTVNqAqcnLdlIXSrWIqlHNTcF5U+8TUV3SYikjPyGxADUkEhFnwP1nHPZvoOISNS6At+Y2SbfQaTUtO1ZmlITOD1pyUbqUrEWSSHOuUpAP9SQSFWaeBNJLd2BNWa22XcQKR0zyyP0b6Wuc0VSh/oKqesLoI5zrpnvIJJYagKnmfyGRF9gmu8sUiZfArWccy18BxGRqHQHVpnZFt9BpEy0R6VIatFWEKlNNVcktajmpihNvKUvNYHTz8nASjPb6juIlJ6ZGaELZBVrkdSgrSBS2yKgunOupe8gIhIV1dzUptUXIinCOVcZ3VyW6lRz05CawOlHSzZSn7aEEEkdqrkpLH/iTTVXJAU456oAvVFDIpUtAao451r5DiIiR9UDWGZm3/kOImU2GRjsnHO+g0jiqAmcfrRkI/VNAYaoWIskt/yGRE9guu8sUi5aniySGnoAS8xsu+8gUjaFVryp5ookP/UVUt8yoBLQ2ncQSRw1gdOIc64qoQvkGb6zSLksBxzQ1ncQESlRL2CRmX3vO4iUy2Q08SaSCrTyIhi0PFkkNajmprhCK95Uc9OImsDppTfwpZnt8B1Eyk7Lk0VShvamDIaVwCGgne8gIlIi1dxg0PJkkSTnnMsk9FlDM31nkXJTXyHNqAmcXjRbFxyasRNJfqq5AaDlySLJzzlXDeiOGhJBsAo4ABznO4iIFKsP8LmZ7fQdRMpNW02mGTWB04v27QkOFWuRJOacqw50BT7ynUViQhNvIsmtD7DAzHb5DiLlo+XJIilBfYWAMLNVwB7geN9ZJDHUBE4TzrkaQBdglucoEgNmtgbYCXT0nUVEitQXyDGz3b6DSExMAQY553TdJJKctBVEsGh5skhyU80NFtXcNKJfZtJHP2C+meX6DiIxo2Itkry0FUSAmNlaYAeaeBNJVqq5wTKF0L7A+l1VJMk452oCJ6Cby4JE256lEf3Dmj60ZCN4VKxFkpdqbvBoebJIEnLO1SI0QTPbdxaJDTP7GtgGdPadRUSO0A+Ya2Z7fAeRmNGKtzSiv+T0oSUbwTMFGOicq+g7iIj8wDlXG+gAfOw7i8SUVl+IJKf+hBoSe30HkZhSzRVJTuorBIyZfQNsJnSHtwScmsBpwDmXBbQH5niOIjFkZhuAjcCJvrOISIQBwBwz2+c7iMSUJt5EkpO2gggmrb4QSU6qucGkmpsm1ARODwOA2WpIBJK2hBBJPtoKIoDMbBOwHujqO4uIRFDNDaapwADnXIbvICIS4pyrA7QDPvGdRWJOfYU0oSZwetCSjeDSjJ1I8lHNDS7VXJEk4pyrB7QF5vrOIrFlZt8C64BuvrOISNhAQjeX7fcdRGJuKtBfE2/BpyZwetCSjeCaCvR1zlXyHUREwDlXH2gFzPOdReJCe1SKJJeBwEdmdsB3EIkL1VyR5KK+QkCZ2WZgNdDdcxSJMzWBA8451wBoDsz3nUViz8y2Al8BJ/nOIiJAqCExUw2JwJpGaOKtsu8gIgJoK4ig0/JkkeSimhtsqrlpQE3g4BsEzDCzg76DSNyoWIskD90hEWBmtg1YAZzsO4uIAKq5QTcN6KOJNxH/nHONgGOAHN9ZJG607VkaUBM4+LQ3ZfBpqZxI8lDNDT7VXJEk4JxrDDQFFniOInFiZt8BS4EevrOIiG4uSwPTgV7OuSq+g0j8qAkcfLpDIvimAz2dc1V9BxFJZ865pkAj4DPfWSSutPpCJDkMBqaZ2SHfQSSuVHNFkoP6CgFnZtuBJUBPz1EkjtQEDjDnXDZQD/jcdxaJHzPbASwCevnOIpLmBgFT1ZAIvBlAD028iXinvSnTg5YniyQH1dz0oJobcGoCB1vBHRJ5voNI3KlYi/inrSDSQP7E20Kgt+8sImlONTc9zAROcs5l+g4ikq6cc82AOsAXvrNI3Gnbs4BTEzjYtGQjfahYi/inmps+NPEm4pFzrjlQC/jSdxaJLzPbSWibpT6+s4ikscGEVrvp5rLgmwl0d85V8x1E4kNN4GDTko308RHQ1TlX3XcQkXTknGsJVCe0NYsEn/aoFPFrMDBFDYm0oZor4pf6CmnCzHYT+sDVvp6jSJyoCRxQzrlWQFVCG3tLwJlZLvAp0M93FpE0VdCQMN9BJCFmASc652r4DiKSprQVRHrR6gsRT5xzDtXcdKOaG2BqAgfXENSQSDfaEkLEH20FkUbyJ97moYk3kYQr1JBQzU0fs4HOzrmavoOIpKHWQCVgqe8gkjDqKwSYmsDBpSUb6UczdiIe5DckVHPTj5Yni/jRBnDAct9BJDHMbA8wF+jvO4tIGhoMTNbNZWnlY6CTc6627yASe2oCB5CWbKStOcDxKtYiCdcOMGCl7yCSUJp4E/FDq93Sk2quiB/qK6QZM9tLqLegibcAUhM4mI4DDgBf+Q4iiWNm+wjN2g3wnUUkzQxBd0ikoznAcc65Or6DiKQZbQWRnrQ8WSTBtP1OWlPNDSg1gYNJSzbSl+6SEEk8bQWRhsxsP6F9KjXxJpIg2n4nrc0F2jnn6voOIpJG2gN7zGyV7yCScNr2LKDUBA4mzdalLxVrkQRyzlUg1JDQMrn0pIk3kcTqAOwyszW+g0hi5U+8zQIG+s4ikkbUV0hfc4E2zrl6voNIbKkJHDBqSKS9eUBL51wD30FE0kRHYIeZrfUdRLzQUjmRxNLelOlNNVcksVRz05SZHQBmoom3wFETOHg6A9vM7GvfQSTxzOwgMAMVa5FE0R0S6e1ToLlzrqHvICJpQjU3vWn1hUiC5N9cNgg1gdOZam4AqQkcPNonTbQlhEjiqOamsUITb4M8RxEJPOdcRUKT3GpIpK8cINs518h3EJE0cAKw2cy+8R1EvFFfIYDUBA4eLdkQzdiJJEChhsRUz1HEL9VckcQ4EdhkZht8BxE/zOwQMB1tCSGSCOoryAKgsXOuie8gEjtqAgeIcy6D0KeUT/UcRfz6DGjgnGvqO4hIwHUF1pvZRt9BxCvtUSmSGNoKQkA1VyRRVHPTXP7E2zS04i1Q1AQOlq7AOjPb5DuI+GNmeYSKtS6QReJLW0EIwEKgnnPuGN9BRAJONVdAy5NF4i7/5rJ+6OYyUc0NHDWBg0VLNqSAlieLxJ9qrhRMvE1FE28iceOcq0SoITHNdxbx7gsgyznXzHcQkQDrDqw1s82+g4h36isEjJrAwaIlG1JAS+VE4ii/IdEXNSQkRDVXJL5OAlaZ2RbfQcSv/Im3KajmisST+gpS4EughnOuhe8gEhtqAgeEc64y0Bs1JCRkMVDNOdfKdxCRgDoZWGFmW30HkaQwBTjFOed8BxEJKG0FIYVpebJIfKnmCgBmZmjFW6CoCRwcPYDlZvad7yDiX36x1l0SIvGjrSCksCVAZUATbyLxoZorhU0GhmjiTST2nHNVCN1cNt13Fkka2hIiQNQEDg4t2ZDDaXmySPyo5kpY/sSbaq5IHOQ3JHqihoT8YBlQEWjtO4hIAPUElpjZdt9BJGlMBgZr4i0Y1AQODi3ZkMPpLgmROHDOVSW0HcQM31kkqeguCZH46AUsMrPvfQeR5FBo4k01VyT21FeQw63I/9+2XlNITKgJHADOuUxCDYmZvrNIUvkKOAQc6zuISMD0Br4wsx2+g0hSmYIm3kTiQSsvpCjaF1gkPlRzJUKhrSZVcwNATeBg6AN8bmY7fQeR5KG7JETiRntTSlFWAfuA9r6DiASMaq4URcuTRWLMOVcN6A585DuLJB31FQJCTeBg0GydFEd7VIrEnmquHEH7AovEnnOuOtAVNSTkMGa2GsgFjvccRSRI+gILzGyX7yCSdKagibdAUBM4GLRvjxSnoFjrv3WRGHDO1QBOBGb5ziJJSUvlRGKrL/Cpme32HUSSkmquSGypryBFMrM1wE6go+8sUj5qDKU451xN4ARgtu8sknzMbB2wHejkOYpIUPQD5ptZru8gkpSmAIM08SYSM9oKQkqi5ckisaWaKyVRzQ0A/ZKS+voDc81sj+8gkrS0PFkkdrQVhBTLzL4GtgKdfWcRCQjVXCnJFGCgJt5Eys85V4vQjUO6uUyKo75CAOgfzNSnJRtyNJqxE4kd1Vw5Gi1PFokB51xtQvu9fuw7iyQnM1sPbCa0TZOIlE9/YI6Z7fUdRJLWVEITbxV9B5GyUxM49WnJhhzNVGCAirVI+Tjn6gDtgU98Z5Gkpok3kdgYQKghsc93EElqqrkisaG+gpTIzDYAG4EunqNIOagJnMKcc3WBdqghISUws03AN4Q+XVtEym4AMFsNCTmKqUB/51yG7yAiKU5bQUg0tDxZJDZUcyUaqrkpTk3g1DYAmGVm+30HkaSnuyREyk9bQchRmdm3wFqgm+8sIilONVeiMZXQxFsl30FEUpVzrh7QBpjrO4skPfUVUpyawKlNs3USLe1RKVJ+qrkSLdVckXJwztUHWgHzfGeR5GZmW4DVQHfPUURS2UBgppkd8B1Ekt40oJ8m3lKXmsCpTfv2SLSmAX2cc5V9BxFJRc65BkBz4FPfWSQlaKmcSPkMItSQOOg7iKQE1VyR8lFfQaJiZluBlcBJvrNI2agJnKKcc42AbCDHdxZJfma2DVgOnOw7i0iKGgTMUENCoqSJN5Hy0VYQUhpanixSPqq5UhqquSlMTeDUNQiYroaElIKWJ4uUnbaCkKiZ2XZgKdDTcxSRVKWaK6UxHejlnKviO4hIqnHONQaaAAs8R5HUob5CClMTOHVpyYaUlmbsRMpONVdKSzVXpAycc02BRsBnvrNIajCz74HFQC/fWURS0GBCN5cd8h1EUsZ0oKdzrqrvIFJ6agKnLi3ZkNKaAZzsnMv0HUQklTjnsoF6wOe+s0hK0R6VImUzCJhqZnm+g0hKUc0VKRv1FaRUzGwH8AWaeEtJagKnIOdcM6AOof/wRKJiZjsJNbF6+84ikmIGo4aElN5M4CTnXDXfQURSjLaCkLLQ8mSRslHNlbJQzU1RagKnJjUkpKxUrEVKT1tBSKmZ2S5Cy9n7+M4ikmJUc6UsZgLdNPEmEj3nXAugFvCl7yyScrTtWYpSEzg1abZOykpL5URKTzVXyko1V6QUnHMtgerAIs9RJMWY2W4gB+jrO4tIChkMTDEz8x1EUs5HQBfnXHXfQaR01AROMc45h/btkbKbBZzonKvpO4hIKnDOtQKqAEt8Z5GUpLskREpnMDBZDQkpI9VckdJRX0HKxMxygflAP99ZpHTUBE49rYFKwDLfQST1mNkeYB4q1iLRGoLukJCymw101sSbSNS0FYSUh7Y9E4lS/s1lqrlSHqq5KUhN4NQzBN0hIeWjuyREoqetIKTMzGwv8AnQ33cWkWRXqCGhmitl9THQwTlX23cQkRTQFnDAct9BJGVp27MUpCZw6tGSDSkvFWuRKGj7HYkRTbyJRKcdcAhY6TuIpKb8ibc5aOJNJBrafkfKaw5wvHMuy3cQiZ6awClEd0hIjHwCHOecq+M7iEiSOw7YD6zyHURSmpbKiURHq90kFlRzRaKjvoKUi5ntI7QCY4DvLBI9NYFTy/HAHjNb7TuIpC4z20/oA+IG+s4ikuS0H7DEwlygrXOuru8gIklOe1NKLGj1hchRFFrtppor5aWam2LUBE4tWpYssaItIUSOTjVXyi1/4u0jNPEmUiznXAVgEGpISPnNA1o55+r5DiKSxDoAu8xsje8gkvLUV0gxagKnFi3ZkFjRjJ1ICfIbErpDQmJFy5NFStYR+N7M1voOIqnNzA4Qmngb5DmKSDJTX0FiZT7Q0jnXwHcQiY6awClCd0hIjOUAzZxzDX0HEUlSnYFtZva17yASCJp4EymZtoKQWFLNFSmZaq7EhJkdBGagibeUoSZw6jgB2Gxm630HkdSXX6yno2ItUhxtBSGxlAM0dc418h1EJEmp5kosaXmySDGccxUJbVGlJrDEimpuClETOHVoyYbEmu6SECmeaq7EjJkdAqahC2SRI6ghIXHwGdDYOdfEdxCRJHQisNHMNvgOIoGhvkIKURM4dWjJhsSa9qgUKYJzLgMYAEz1HEWCRTVXpGhdgfVmtsl3EAkGTbyJlEh9BYm1z4EGzrmmvoPI0akJnALyGxL9UUNCYmshUNc5d4zvICJJphuwzsy+9R1EAkVL5USKppUXEg+quSJFU82VmDKzPEK9KtXcFKAmcGroDqw2s82+g0hw5BfrKahYixxOe1NKPHwJ1HbONfcdRCTJqOZKPGh5sshhnHOVgL7o5jKJPdXcFKEmcGrQkg2JFy1PFjmSaq7EnO6SEDmSc64yoYbENN9ZJHAWATWccy19BxFJIicBq8xsq+8gEjjqK6QINYFTg5ZsSLxMBoY455zvICLJIL8h0Qc1JCQ+dJeESKSTgRVmts13EAkWMzO04k3kcOorSLwsBjKdc618B5GSqQmc5JxzVYBewHTfWSSQlgKVABVrkZAewFIz+853EAmkycBgTbyJhGkrCIkn7QssEkk1V+Iif+JNNTcFqAmc/HoCi81su+8gEjyF7pLQnWkiIbpDQuJpOVARaOM7iEiSUM2VeJqCVryJAOCcq0qot6CbyyRe1FdIAWoCJz/tTSnxpuXJIj9QzZW4KXSXhGqupL38hkQPYIbvLBJYKwAD2vkOIpIEegGLzGyH7yASWNpqMgWoCZz8tGRD4k3Lk0UA51wmoQ/MmOk7iwSalsqJhPQGFprZTt9BJJi0PFkkgvoKEm9fAQeAY30HkeKpCZxkXMhx+f+/GtAdNSQkjsxsFbAXaA/gnGuVf3eOSOA552o657Lzv+wDfKaGhMRZxF0Szrn2nvOIJIxzrplzrnr+l9oKQhIhvPrCOVfROae7giVtOOfaF7rRRzVX4urwFW/OubrOuYZ+U8nh1AROPrWBj51zFYC+wAIz2+05kwRf4f17XgU6e8wikkinAE/k/39tBSFxZ2ZrgN1AB+dcLWCOVmJIGrkNuCb//6vmSiJM4YcVb2cAf/EbRySh/gmcmD/51hX4yHMeCb7CfYU7gJEes0gR1AROMvkfALed0C30g4HJ+XcHP+ac0x6CEjPOudbOudedc1X4YUuITKAj8IXfdCIJkwP0yv/lsKDmZjnnJjrnsvxGkyBxzl3knPtN/pcFy5NPJrQc3vwlE0mogppbAzgRmOWc6+Kce8lzLgkY59wfnXNnm9laYAeh69tehMagSLrIITTu+wKfmlmuc26kc+5XnnNJwDjn3nbOtSLUBB6Uf1Ojam4SUhM4Oc0h9MmdBUs27iH0wRkfe8wkwbM6/3/HA1OBQUA3YLGZ7fETSSTh1ub/7/HACcA84A1CHybzva9QEkgfAj9zzl3HD0vlehL6N18kXRRc4/YjVG/rAW8D//IZSgLpDWCCc647qrmSviL6Cs6504E/AP/2GUoC6V3gf8Au4DugC6G7z+d6zCRFUBM4OX0MDAA6Efo0258Bw80s12sqCRQzyyM0tloBPwe2AueiyQZJI/l3YH5M6L+FucBfCS3Vv0V3Z0osmdkW4Czgt/lPDSL0i5lqrqSTZUAW8CNgFqFfGP9iZq/7DCXBY2ZzgOuA/wILCTXBTkZNYEkvHxO6G3MIsAb4O/BjM1vmNZUEjpk9RqgR/CYwDfgpsMbMdFNNknH6HTf5OOd6A38jtHQpGxhoZkv8ppKgcs41AGYDXxPak/rPZvai31QiieOcuwO4gNBWPLWBQdqLXeLFOdcH+A+wE6gFdMtfriySFpxz7wJtCE0+zwdu0KSbxItz7hZCzeCmwBYza+05kkjCOOcyCF3fOkI195dm9orXUBJYzrmKwGtAfUK/U803syv9ppLD6U7g5JQDtCC0L/AINYAlnsxsM6G7004kdPe57pCQdDOH0JKlDsAwNYAlnsxsFqHVF42BysA6v4lEEu4zoDWwBfiFGsASZ38B3gOqEboTXSRtmNlBQlsAVgKeUANY4snMDgGXAtUJfdC8toJIQmoCJyEz2wusB+43s+m+80jw5S8JuhTIBZZ7jiOSaHOBfcCZZrbRdxgJvvyl7xOAr9QAkzT0BfAtcFF+g0IkbvJr7C3AYkA31kg6WgrMBP7oO4gEX/4WpmcSWvH2uec4UgRtByEiIiIiIiIiIiISYLoTWERERERERERERCTA1AQWERERERERERERCbCM8p4gMzNz4969exvFIozI0VStWnXTnj17Gsfj3BrLEisapxIUZR3LGqeSbGJVlzW2JVbiea1QFI1diZVEjl2NW4kV1VxJRfEYt+XeE9g5p880kYRxzmFmLk7n1liWmNA4laAo61jWOJVkE6u6rLEtsRLPa4ViXk9jV2IikWNX41ZiRTVXUlE8xq22gxAREREREREREREJMDWBRURERERERERERAJMTWARERERERERERGRAFMTWERERERERERERCTA0q4JfPnll3PqqaeW6mcmTJhARkZGnBKJREdjV4JCY1mSncaopCqNXQkKjWVJdhqjkqo0dtOcmZXrETpF6ti+fbtt27atVD+Tm5trGzdujFOiH2zYsMFGjBhhNWvWtFq1atlPfvIT+/bbb0v8mZdeesm6detmWVlZlpmZaccff7z9+c9/Lvb4L7/80qpVq2YVK1aMeH7KlCkGHPGYMmVKDN5Z7OSPt3KP26IeyT6WgzZ2C/vwww+tQoUK1qZNm4jnDxw4YH/4wx/s2GOPtSpVqljbtm3tySefPOLnDx48aA8++KAde+yxVrlyZWvcuLFde+215X5fZZXO4zQaQRvL06ZNs+HDh1vz5s0NsDFjxhxxzPPPP2+DBw+2+vXrW61ataxPnz42ceLEOL2L2CnrWE71cRq0MRrNtcIXX3xhP/7xj61t27bmnLORI0cecZ7169fbxRdfbB06dLCKFSvawIEDY/fG4ixWdTnZx3bQxm5hxV0rvP/++9a7d2+rV6+eValSxdq0aWO/+c1vbP/+/eFjFixYYAMHDrSGDRta5cqVrXnz5vaLX/zCvv/++5i9v9KK57VCUY9kH7uHS8exHO11r2+JHLvJPG6DNkb/+Mc/Wp8+fSwrK8vq1Kljp556qn388ccRx0RzPZuM9dZMNbewoI3dwoqrr9Fc544cObLInphzzjZt2lTet1Ym8Ri3adfKr127dql/JjMzk8zMzDik+UFeXh7Dhg0D4P3338fMuP766znvvPOYMWMGzrkif65Bgwb85je/4bjjjqNq1apMnz6d66+/nooVK3LTTTdFHJubm8uFF17IkCFDmDRpUpHn+/TTT2nSpEn467p168boHUp5BW3sFti0aRMjR47ktNNOY8WKFRHfu+eeexg7dizjxo3jxBNPZPbs2Vx77bVUqVKFK6+8MnzcFVdcwaxZs/jjH/9Ily5d2LlzJ1999VXs36zERNDG8q5du+jQoQMXX3wxt912W5HHTJ48mXPPPZeHHnqImjVr8txzzzF8+HBmzJhBr1694vaepGyCNkajuVbIzc2lefPmDB8+nL/+9a9Fnmffvn3UrVuXW2+9lTfffJPdu3fH541KmQVt7BYo6VqhZs2a/OIXv6BTp07UrFmTnJwcrr32Wnbv3s3DDz8MQJUqVbj88svp2rUrderUYenSpdxwww18/fXXvPHGG/F501Iu6TiWo73uleQQtDE6ZcoUrrzySk4++WQyMjL4wx/+wKmnnsrnn39Oq1atgOiuZ1Vvk1/Qxm6BkuprNNe5f/3rX3nwwQcjnjv33HOpXr06DRs2LMc7SzLl7SKTRDMcu3btspEjR1qNGjWsXr16Nnr0aLvyyisj7lQZOXKknXLKKUd8/fTTT1vz5s2tZs2aNnz48IjZhvHjxx9x52ysvffeewbYkiVLws998cUXBtjUqVNLda5zzz3Xzj333COev/zyy+26664r8v0U3Am8bt26sr2BBCGgd1im69g9dOiQnXLKKfb73//exowZc8SMXXZ2tv3+97+PeO4Xv/iFtWzZMvz15MmTrUKFCvbFF1/E4N3ERlDHaTTSdSwXaNOmTZF3Ahfl+OOPt9GjR5clasKUdSwn8zhN9zFaoLhrBTOzU045pcg7JAq76qqrdCdwgqXr2D3atUJRbr75ZuvSpUuJx/zlL3+xrKys6N5AHMTzWqGoRzLVZY3lsl/3JoNEjl1f4zZdx2hhBw8etJo1a9pTTz1V4nHRXM/6rrdm6VNz03XsluZaIZrrXDOzpUuXGmCvvvpq1O8h1uIxbgO1J/Btt93Gu+++yyuvvMKMGTPYvn07r7/++lF/bu7cuUydOpX//e9/TJw4kU8//ZRf/epXpXrtUaNGUaNGjRIfL730UrE/P3PmTFq1asVxxx0Xfq5jx44cc8wxzJgxI6oMZsYnn3zCRx99xODBgyO+9+KLLzJ37lz+/Oc/l3iOfv360ahRIwYMGMDbb78d1etK+aXr2L3vvvtwzhWbee/evVStWjXiuczMTFavXs3atWsBeOONN2jTpg1Tpkzh2GOPpVmzZlx44YWsXr06yj8BiaV0HcullZeXx+7du8nKyorpeeXo0n2MlnStIMktXcfu0a4VDrdkyRImTpxY4vhet24dr732mv4b8ERjuezXvZIY6TpGC8vNzeXAgQMlXqtGcz2reptY6Tp2S3utEI2xY8fSsGFDzj333JidMxkEZjuIXbt28fzzz/P0009z1llnAfDEE0/w7rvvHvVnq1SpwoQJE6hSpQoA1113HWPHji3V6997773cfvvtJR7TqFGjYr+3YcMGGjdufMTzjRs3ZsOGDSWe9/vvvyc7O5v9+/dz6NAhxowZwy9+8Yvw9xcvXsxtt93GlClTir2Fv0mTJjz99NOcdNJJHDp0iNdff53hw4fz2muvccEFF5T4+lI+6Tp2p0yZwtNPP01OTg4VKhQ9H3XmmWfy6KOPcuqpp9KxY0c++eQTnn/+eQDWr19P8+bNWblyJWvXrmX8+PGMHTuWKlWq8Jvf/IbBgwezaNGiuC9bkR+k61guiz/84Q9s376dSy+9NKbnlZKl8xg92rWCJLd0HbvRXCsUOOaYY9i8eTP79+/n2muv5aGHHjrimD59+pCTk8PevXsZNmxYib+MSnxoLJfvulfiL13H6OFuv/12GjZsyI9+9KNijynpelb1NvHSdeyW5lohWvv27eOFF17gmmuuoVKlSjE5Z7IITBN45cqVHDhwIGJvxYoVK3LSSSexefPmEn/2+OOPDw92gOzsbDZt2lSq12/YsGHc9gk52t4nNWvWZMGCBeTm5jJr1izuuOMOsrOzueqqq9i3bx8jRozgd7/7HZ06dSr2HMcdd1zEjEuPHj3YuHEjDzzwgJrAcZaOY3fLli1ceumlPP/880UW+gJ//etfGTVqFCeeeCLOOZo2bcpVV13Fgw8+GC7whw4dYt++fbz44ot07NgRgFdeeYUmTZrw1ltvceGFF8b+jUmR0nEsl8WECRO49957eeONNzjmmGNidl45unQeoyVdK0jyS8exG+21QoEZM2aQm5tLTk4Oo0ePpnHjxvz2t7+NOOaVV15h165dLF68mDvvvJNRo0bxwgsvxOR9SHQ0lst33Svxl45j9HD33nsvr7zyCh9++CE1atQo8pijXc+q3iZeOo7d0l4rROv1119n27ZtXHPNNTE7Z7IIzL8moe0yyubwzr5zjry8vFKdo7y3vjdp0oSNGzce8fzGjRuPOpgrVKhA27ZtOeGEExg1ahS/+tWvuPPOO4HQbMqXX37JDTfcQEZGBhkZGVx11VUcOnSIjIwMHnjggWLP27NnT5YtWxbln4CUVTqO3S+++IL169czbNiw8Li89957WblyJRkZGfzjH/8AQh9M+Oqrr7Jnzx5Wr17N6tWradasGUD4AwqaNm2Kc47jjz8+fP769evTsGFD1qxZU6o/CymfdBzLpTVu3Dh+/vOf8+qrr4Zn6CVx0nmMlnStIMkvHcdutNcKBVq1akXHjh259NJL+dOf/sT9999/xIcXNmvWjOOPP57zzz+f559/nhdffJElS5aU6s9CykdjuXzXvRJ/6ThGC7vrrrt45JFHeO+99+jevXuRx0RzPat6m3jpOHZLe60QraeffprTTz+d1q1bl+nnk1lg7gRu27YtlSpVYs6cOXTo0AEI7VEzf/78hCydKe+t73379uXee+9l6dKl4Ttyv/zyS77++mv69etXqix5eXns3bsXCM3gLFy4MOL7//nPfxgzZgwLFiwoMVNOTg5NmjQp1WtL6aXj2D355JOPGJdPPvkkb7/9NhMnTgxf8BaoXLlyeIb55ZdfZsCAATRo0ACA/v3788ILL7Bs2TLat28PwHfffce3335Ly5YtS3xfElvpOJZL49FHH+XXv/41b775JmeeeWa5zyelpzH6g8LXCpL80nHslvZaobC8vDwOHTrE/v37qV69erHHAPrvIME0lkPKet0r8ZeOY7TAbbfdxoQJE/jwww+LbQCX5XpW9TYx0nHsludaoTiLFi1i5syZvPnmm6X+2VQQmCZwjRo1uPLKK7nrrrto3LgxrVq14tFHH2Xr1q20aNEi7q9f3lvfTz31VLp168bPfvYzHnvsMcyM66+/nl69ejFw4MDwce3bt+fGG2/kxhtvBGDMmDH079+f1q1bc+DAAaZPn84f/vAHrrjiCiA0o3P4NhDz5s0DiHj+L3/5Cy1btqRDhw4cPHiQ119/nfHjx/P444+X+T1JdNJx7FavXv2IcdmwYUMqV64c8fzcuXNZvXo13bp149tvv+Xhhx9mwYIFzJw5M3zMT3/6U+6//36uvPJKHn30UapUqcIdd9xBixYtStzDSmIvHccyhPbfWrFiBQD79+9n48aNLFiwgBo1atC2bVsA/vSnP3HHHXfw/PPP07Vr1/Asd+XKlalbt26ZM0vppOsYPdq1AoTG7qJFi4DQmN62bRsLFiygcuXK4V8kABYsWADAtm3b2LVrV/jrLl26lPl9ydGl49iN9lrh4Ycfpn379hx77LE455g3bx6/+tWvGD58OHXq1AHg2WefJSsri44dO1K1alW++OILRo8eTZcuXTjhhBPK/L6k9DSWf8hRluteib90HKMAN954Iy+88AKvv/462dnZ4WvVzMxMateuDUR3Pat66086jt1o62u017kQ+kC4Jk2aMGzYsDK/l2QWmCYwhC4C9+zZw4gRI6hatSrXXHMNZ511Ftu3b/cd7agqVKjA22+/zU033cSpp56Kc44zzzyTxx57LGL/k6VLl7Jly5bw1zt27GDUqFF88803VK1aldatW/P73/+eUaNGler19+/fz69+9SvWrVtHlSpVaN++Pf/85z8ZMWJEzN6jFC8dx2409u3bx29/+1tWrlxJ5cqVGTBgALNmzaJz587hY6pVq8YHH3zAzTffzODBg6latSoDBw7kww8/1IfCeZCOY3nevHkRn3g8duxYxo4dy8CBA5k6dSoAjz/+OAcPHuSyyy6LeM3Cx0hipOMYjeZaYf369XTt2jXi9d566y1atGjB6tWrw88dfkzB1+VZgijRScexG40DBw7wy1/+kjVr1lChQgVatGjBDTfcwM033xw+pmLFitx///2sXLmSgwcP0qxZM8477zx++ctfaq9VDzSWixbNda8kRjqO0SeeeAKAM844I+J8I0eOZMKECUB017Oqt36l49iNRrTXuXv27OHFF1/kxhtvJCMjUO3SMFfei3bnnCXrhb+Z0aFDB0477TQeffRR33EkBpxzmFnsPqEp8txJM5Y1dlNbuozTaGgsp7ayjuVUGqcao+khVnU5mca2xm5qi+e1QjGvlzRj93Aay6klkWM3WcatxmjqS9eaq7Gb2uIxbgPV2l64cCE5OTn07t2bPXv28Pjjj7N8+fISN58WSQYauxIUGsuS7DRGJVVp7EpQaCxLstMYlVSlsStHE6gmsHOOJ554ghtvvBHnHB07duS9996jW7duvqOJlEhjV4JCY1mSncaopCqNXQkKjWVJdhqjkqo0duVoAr0dhASPltlLKtA4laBIh+0gJD0EcTsISW3pujRZUl86bgchqU81V1JRPMatduYWERERERERERERCTA1gUvpnnvuoW3btr5jiJSKxq2kKo1dSUUat5KKNG4lKDSWJVVp7Eoq0rhNLWoCB9TNN99Mz549qVatGs4d/e7xyy+/HOccv/vd7yKeX7NmDT/96U9p3Lgx1apV45RTTmHhwoXh7x88eJA777yT7t27U7NmTRo2bMh5553HkiVLYv6eJPiiGbf3338//fv3p1atWjjnWL169RHHjBs3jlNOOYV69erhnGPq1KlHHJObm8stt9xCixYtyMzMpHXr1owZM4ZDhw7F+F1JOsjJyeGMM86gXr161KpViz59+vD+++9HHBPN2B00aBDOuYjHoEGDwt9XzZVY+/e//02vXr2oVq0aderUYeDAgezYsSP8/ZEjR9KmTRsyMzOpV68ep59+OnPmzDniPAsXLmT48OFkZWVRvXp1unTpwuzZs8PfL7jOKPxo2bJlIt6iBEw01woHDx5k9OjRNG7cmMzMTPr378+nn34acczmzZu58soryc7OJjMzk+OPP/6IT07/17/+xZlnnkmTJk1wzjFhwoR4vS1JQzNmzGDQoEFkZWVRt25dRo4cybZt2yKOiWYsw9FrsEisTJgw4Yh/zwser732Wvi4r776ih//+Mc0atSI6tWr07VrV/75z39GnGv06NG0b9+eGjVqkJWVRb9+/XjnnXcS/ZYkTUTz+9rRxu327du55ZZb6Ny5M9WrVyc7O5uRI0fyzTffJPrtlJmawAF16NAhLr74Ym666aajHvvCCy+wcOFCmjZtGvF8bm4up512Gt999x2TJk1i/vz5tGzZksGDB/Ptt98CsG/fPj7++GNuv/125s6dy7vvvsvevXs59dRT+f777+Py3iS4ohm3+/btY/jw4fzmN78p9pjc3FyGDBnCn/70p2KP+dWvfsWrr77KM888w+LFi3nooYf485//zIMPPliu9yDpZ8+ePQwdOpRatWoxffp05s2bR/fu3Rk2bBhfffVV+Lhoxi7AxRdfzIYNG8KPN998M+IcqrkSK8899xyXXXYZF198MfPnz2f27NnceOONVKxYMXxMjx49GD9+PIsXL2bq1KlkZ2dz2mmnsX79+vAxn332GX379qVVq1Z8+OGHfPHFF/zxj3+kXr16Ea/Xv3//iLE9d+7chL1XCY5orhVGjx7Nc889xzPPPMPcuXNp1aoVp556Kps2bQofc8UVVzB37lxeffVVFi9ezG233cZtt90W8Qnqu3btokePHjz55JMR/12IlNcXX3zB6aefTo8ePfjkk0+YNGkSy5Yt47zzzqPwPqLRjOVoa7BILFx00UUR/5Zv2LCBW265hVq1anHWWWeFjxs+fDhbtmxh4sSJLFy4kBEjRnDxxRczY8aM8DEdOnTgiSee4LPPPuPjjz+mX79+DBs2rMiJDpHyiPb3taON2w0bNrBq1SruvfdeFixYwGuvvcbixYs588wzycvL8/X2SsfMyvUInSK2ZsyYYX369LEaNWpYjRo17IQTTrD333/fzMzy8vLs6quvttatW1vVqlWtZcuWNnr0aNuzZ0/458eMGWNt2rSxV155xdq0aWOZmZl2zjnn2Pfff29vvPGGHXvssVajRg274IILbPv27eGfGzlypJ1yyin28MMPW9OmTS0zM9N+/OMf29atW484d2GTJk2ynj17WtWqVe2YY46xG264wXbs2BHV+4m3v/3tb1bS39GiRYusUaNGtmzZMmvRooXdd9994e+9//77BtiGDRvCzx08eNDq1q1rY8aMKfacmzZtMsAmTZoUk/dQWP57Kfe4LepR3rGscRs7Rxu3BfkAW7VqVbHHrFu3zgCbMmXKEd878cQT7dZbb4147sILL7Qf/ehHZYkcIZnHaVE0dssnJyfHAPv888/Dz+3evdsAe/311484vqSxO3DgQLvqqqtK9frJWHPjMU4Pp3FbPt9//73VrFnTnnrqqVL93Pbt2w2wf//73+HnBgwYYBdddFGJP1fw5+ZLrOqyrhWS/1phx44dVrVqVRs7dmz4uYMHD1qjRo3snnvuCT9Xu3Zte/TRRyN+tkePHnbjjTcW+XoVK1a08ePHxya8xfdaoahHrOuyxnL53HnnnXbcccdFPPfpp59GXLdGO5ajqcGxlMixq+ve5Bu7hzt06JA1a9bMrr/++vBz3333nQH23//+N+LYhg0b2p/+9KcSz5eVlWV/+ctfYp5TNTe9x200v6+VddzOmTPHAFu8eHHMc8dj3CbdncCHDh1i+PDh9OzZk08//ZRPP/2Ue+65h8zMTCDUtG7UqBH/+Mc/WLx4MX/961+ZMGEC999/f8R5NmzYwAsvvMCbb77JpEmT+Oijj/jxj3/MuHHjeOWVV5g0aRLTp0/ngQceiPi5Tz75hKlTp/LOO+8wceJEFixYwFVXXVVs3g8++IALLriAyy+/nIULF/LKK68we/bs8M8c7f0U5YEHHqBGjRolPg7PXRa5ubmMGDGChx56iHbt2h3x/b179wJQtWrV8HMVK1akcuXKTJ8+vdjzFiwjzcrKKnfGVKFxm7hxGyv9+vVj0qRJrFq1CoDPP/+c6dOnc/bZZ3tOllgau+Ufu+3ataNRo0aMHz+ePXv2cODAAcaOHUtWVhZ9+/Y96t/B4f71r3/RoEED2rdvz4033njE0tDDqeZq3JZl3L733nvs3LmTGjVq0KNHDxo1asSgQYOYNm1asT+zd+9ennjiCWrUqMFJJ50EwJYtW5g+fTonnHACw4YNo0GDBnTr1o2xY8cW/BIU8efWqFEj2rRpw89+9jPWrVtX7GsFkcZtYq4V5s2bx969eznjjDPCz1WsWJHTTjst4g60fv368cYbb7Bp0ybMjKlTp7Jo0SLOPPPMcr1+OtBYLv9Y3rt3b8TvWED49Qp+z4pmLJemBovGLsS+Dv/vf/9j3bp1XHfddeHnsrKy6NSpEy+99BLff/89eXl5vPbaa+zYsYNTTz21yPMcPHiQF198kV27dtG/f/+oXz8daNwm5ve1soxbSMHfxcrbRSbGMxzbtm0r9s694jz88MPWtm3b8NdjxoyxihUr2ubNm8PPXX/99VahQgXbtGlT+Llf/OIX1r179/DXI0eOtOrVq0fMfLz77rsG2PLly8PnLjzLMWDAALvjjjsi8syaNcsA+/bbb8v0frZu3WrLly8v8VF45qUkJd1Refnll9ull14a/vrwO4E3b95sWVlZduWVV9r3339ve/futfvuu8+AI2auCxw6dMjOPPNMO+mkk+zQoUNRv+dokaR3WGrcJm7cFijvncD79++3n//85wZYRkaGOedKvMO9NJJ1nBZFYzc2Y3fJkiXWsWNHc85ZxYoVrVGjRjZnzpwijy1p7I4bN87ee+89W7hwob3xxhvWvn1769atm+3fv7/IcyVrzY31OD2cxm35x+2DDz5ogGVnZ9vLL79s8+fPt//7v/+zjIyMiLskzMyeeOIJq169ujnnLDs72z7++OPw9z7++GMDLDMz0x588EHLycmxJ5980qpWrWpPPvlk+LiXX37Z3nrrLVu4cKFNnDjRevXqZcccc0zEn2M8xaou61rBf70tUNy1wksvvWSA7du3L+L522+/3Tp06BD+eseOHXb++eeHrwMqVapk48aNK/b1dCfwDzSWyz+WC1Zcjh071vbv329btmyxc8891wC77rrrzCy6sRxtDY6lRI5dXfcm39g93Nlnn229evU64vkNGzZY//79wzW2Zs2a9tZbbx1x3FtvvWXVq1e3ChUqWFZWVpHHxIJqrsZtNL+vRTtuC+zevdu6du1q559/ftTvpTTiMW4zyto8jpc6depw9dVXM3ToUIYMGcLAgQM5//zzOfbYY8PHPP/884wdO5bVq1eze/duDh48eMT+G9nZ2dSvXz/8dePGjWncuDENGzaMeK5gb9sCHTp0oHbt2uGvC2YFFi1aVOQnHs6bN485c+ZEfJBE6O8Kli9fTp8+fY76fg5Xt25d6tatW+KfU3m99NJLzJw5k5ycnGKPqV+/Pm+++SajRo0iKyuLChUqcMYZZ3DWWWeF754szMy49tprWbhwITNmzKBChaS70TxuNG4TM25j6emnn+bdd9/ljTfeoF27duTk5HDzzTfTsGFDrr/+et/xEkZjt/xjd+/evVx77bV06NCBZ599lkqVKvHcc88xfPhwZs+eTatWraI+1zXXXBP+/506deLEE0+kbdu2vPPOOwwbNiziWNVcjdvyjNuCD8G84447+MlPfgJAt27dmDZtGk899RRPPvlk+NhLLrmE008/nW+//ZZx48YxYsQIZs6cSfPmzcPnOfvssxk9ejQAXbp0YenSpTz22GP8/Oc/Bwi/BoTGdu/evWnRogUvvvhiVJ9fEAQat/6vFQp/kNx9993HypUrmTRpEtnZ2UybNo1bbrmFRo0aMXz4cG8ZU4HGcvnH8qmnnspjjz3Gr3/9a66//noyMjK4+eabadSoUVT/nheM5WhrsIRo7Ma2Dq9du5ZJkybx3HPPRTxvZtx8881kZGQwdepUateuzX/+8x8uvvhiPvjgA3r06BE+dvDgwSxYsIDvvvuO1157jcsuu4wPPviAbt26xSRjEGjcJub3tdKMWwh9VssFF1zAwYMHefbZZ8ucLdGS8jfGZ555hvnz53Paaacxbdo0OnXqxDPPPAPA66+/zqhRo7jooouYOHEiOTk53H333Rw4cCDiHJUqVYr42jlX5HPRbt5c3KcP5+XlMXr0aBYsWBB+fPbZZyxfvpyuXbse9f0UJRFL5d5//31WrlxJVlYWGRkZZGRksGbNGsaMGROxNGnw4MEsXbqUrVu3smnTJt5++202b95MmzZtIs536NAhLr/8ct577z2mTp2alp/4rXGbOttB7N27l9tvv50HHniA888/n86dO3PZZZfxy1/+knvvvdd3vITT2C3f2P3HP/5BTk4OL730Er169aJ79+48+eSTZGVlMXbs2Kjeb3HatGlD/fr1WbZsWcTzqrkat+UdtwUfBtuxY8eI5zt06MCaNWsinqtduzZt27alT58+TJgwgWrVqoWbxMWdp2PHjkecp7CsrCyOPfbYI8Z20Gncxv9aoUmTJgBs3Lgx4vmNGzfSuHFjIPTp3w899BBjx47ljDPOoHPnztx4441ccsklSXOtkuw0lss/lm+88Ua2bt3KunXr2Lp1K3fddVfE71nRjOWy1uB0prEbuzr8zDPPUKtWLS666KKI56dMmcIrr7zCP/7xDwYOHEiXLl0YM2YMvXv35pFHHok4tnr16rRt25aTTz6ZP/7xj+H/lUgat/H/fa004zY3N5dhw4axfv16Jk+eTJ06daL6M0sGSXcncIFOnTrRqVMnbr31VkaNGsXTTz/NNddcw7Rp0+jatSu33npr+NjVq1fH7HUXL17Mjh07qFWrFgCzZs0C4Pjjjy/y+O7duxc7A1JYce+nKKNGjeLCCy8s8Xzlnb27//77uf322yOeGzp0KBdccEHEfj4FCgb10qVLmT9/fsRMx8GDB7nkkkuYM2cO06ZNK9Vdb0GjcRvfcRsrBw4c4MCBA0fcaVGxYsXwLGW60dgt+9jNzc3FOXfEeKpQoUK5x1PBL4YFvwiCam5hGrdlH7cF++0tWbKEQYMGhZ9funQpPXv2LPG8eXl54c8NaNGiBc2aNWPJkiURxyxdurTEyYmdO3eyYsUKzjvvvBJfK4g0buN7rdC9e3eqVKnCO++8w7XXXguEJs4++OCD8DVubm4ugK4Dykljufxj2TkX/je+4Perc845J5z7aGO5rDU43Wnsln/sHjx4kOeff57LLrvsiL1cC2psxYoVI56PpsYWvsaQSBq38f19Ldpxu2vXLs4++2x27tzJ5MmTqVevXom5kk3SNYFXrFjBM888w7Bhw2jWrBnr169nxowZ4eUAxx13HM899xz/+c9/6NSpE2+//TZvvvlmzF7fOcdll13G7373O7Zt28YNN9zA8OHDix3Av/3tbxk6dCi//OUvufTSS6lWrRpLlizhrbfeYty4cUd9P0WJxRKNFStWsGvXLtauXQvAggULAGjbti01atQgOzub7OzsiJ+pVKkSDRs2jJhJnjBhAu3ataNJkybh5fIDBgzgsssuA0LFf8SIEcyePZv//ve/ZGZmhmerC2Zk0oHGbWLGLYSWHW3btu3/t3ff8VFV+f/H36GlkFACpFGS0IKUXYqCdBSkuQRQBAEVXDTgqthQEH5SVFyxFwRBNAiuWEBpShEFBUHBJbhIJzSRKqxLSIBA8vn9wTcDQyZh0iC5vp6PxzweMPfMvWeS95yc+5mZc7Vz505J57+G8scff6hatWqu4x86dEiHDh1yfZVl586dKleunOsrL0FBQbrhhhs0atQolStXTrVq1dL69ev14osvqlevXnl6DkUN2c17djt27KjHH39cgwYN0rBhw1SyZElNmzZN27Ztc3vD7HLZTUxM1AcffKCuXbsqJCRE27Zt0/DhwxUVFaUePXpIYszNQG7zntsaNWqod+/eGjdunKpWraratWtr+vTp+s9//qPp06dLkn755RctWrRIN954oypVqqTDhw9r8uTJ2r17t/r16+f6WTz55JN68MEH9dZbb6lz585as2aNJk+erNdee03S+cny2LFjdcsttygiIkL79+/X6NGj5ePjowEDBuT6ORQ15PbKzBXKlCmjIUOGaOTIkQoPD1d0dLReeOEFnT592lU4q1OnjmJiYvTAAw/olVdeUUREhFasWKH4+HiNHTvWdazjx4+7jiOdH8c3bNig4OBgVatWLU/Poygjy/mT5RdffFEdO3aUr6+vlixZohEjRmjkyJGu5+FNlr0Zg3EB2c2/5SAWLFigAwcOuN6guFiLFi1UqVIlDRw4UE8//bTKlSunuXPnavHixZo1a5Yk6fDhw5o0aZK6du2qsLAw/fHHH5o1a5a+/vprzZ49O8/9cxJye2XO17zJbVJSkjp16qTjx49r7ty5Onv2rOtcrGzZstle3K7QyOuiwsrnxdoPHDhgPXv2tMqVK1upUqUsPDzc7rnnHtdC1KmpqRYXF2fly5e3oKAg69u3r7355ptuF4a4dGFqM7NnnnnGIiMj3e775z//aZUrV3b9f8CAAda+fXt78cUXLSwszPz9/e2WW26x33//Pdt9L1++3Nq2bWsBAQFWunRpa9CggY0ePdqr51NQ2rZta5Iy3bJbfPvSC8OZmY0aNcrCw8OtZMmSVq1aNXviiScsOTnZtX337t0ejyMp3y6ydTEV0gtukdv84U1uBwwY4LHNxRdrGTNmzGUzeeTIEbv33nutSpUq5uvra9WrV7fhw4e75Tu3CmtOPSG7+SOjT+XKlbMyZcpY06ZNbe7cuW5tLpfdffv2Wdu2ba1ChQpWqlQpi46Otri4ODtw4IBrH0VlzM3vnF6K3OaP5ORke+CBB6xSpUoWGBhoLVq0sO+++861fceOHdaxY0cLCQmxkiVLWkREhHXv3t3WrFmTaV9vvPGGVa9e3Xx9fa1u3bo2ZcoU17aUlBS3/VSpUsVuv/121wVFroT8GpeZK1z93HozV0hNTbVhw4ZZSEiI+fr6WsuWLW3dunVu+0lMTLQ+ffpYWFiY+fn5WUxMjD3//PNuF9mMj4/3eKwBAwbk+XkU5FzB0y0/x2WynD9uuukmK1eunJUqVcoaNGjg8cKE3mTZLPsxOL9dyewy7y2c2TUz69Spk7Vq1SrL7QkJCda1a1erWLGilS5d2v7yl7/YtGnTXNuPHz9usbGxrlpDaGiodejQwRYtWlQg/WXMJbfenK9dLrfLly/P8lwsPy8em6Egcutzfr+55+PjY3ndR2ExcOBA7d+/X8uWLbvaXUEWfHx8ZGaeF5/J+76LZJbJbeFDTr1Ddgu/3GbZSTm9FLktmvJrXC6q2Sa3hU9BzhWyOF6RzO6lyPLVdyWz65TcSmT3amPMzR1ye3UVRG4L5YXhAAAAAAAAAAD5gyIwAAAAAAAAADgYy0GgSOFr9igKyCmcguUg4BR/9uUgUPjw1WQUVSwHgaKIMRdFEctBAAAAAAAAAAByhCIwAAAAAAAAADhYoS8CT58+XSVKlLja3fDK2LFj5ePjIx8fHw0bNuxqd6dIufbaa10/u1WrVl3t7hQIslz0VaxY0fVz2b9//9XuToEgp38ORX3MJafI0KtXL9fP94MPPrja3ckzsl30/RnmCp6Q3aLvz5hdclv0kdvCjdx6djVzW+iLwEVNVFSUDh48qDFjxrju+/zzz9WlSxeFh4fLx8dH06dPz/S47777Tt27d1dkZKR8fHw0duxYj/tPSUnRiBEjFBUVJV9fX1WrVs2t7fz583XzzTcrPDxcgYGBatSoUa5Oig4cOKBOnTopIiJCvr6+qly5sgYOHKgDBw642pw5c0bdunVTtWrV5Ofnp9DQUN16663aunWr277OnTun4cOHKywsTP7+/mrdurXWr1/v1mbJkiVau3ZtjvuJguMpy5K0d+9e9e/fX5UqVZK/v7/q1q2refPmubVZtGiRGjZsKF9fX0VHR+u1115z296uXTvXoHfxrXTp0jnq44oVKzzuZ8WKFa42p0+f1t13361GjRrJ19dXUVFRHvf18MMPq1mzZgoICJCPj+dldzZv3qw5c+bkqI8oWJ5y6ikTPj4+uvnmm90ee+zYMd13332KiIiQn5+fatasqSlTpri2L1u2TC1atFDFihVd20ePHq2zZ8+62hw8eFD9+/dXvXr1VKJECbVr1y5Xz2PPnj0e+3zx34uNGzfqrrvuUnR0tPz9/V39OXPmjNu+xo8fr9atW6tMmTLy8fHRnj17Mh2PMffK8pTTgQMHZvp9Xzo+eTs3yLB582aVLl3a44nBjh071LlzZwUEBKhixYq67777lJKSkqPn4c146k1O9+3bpyFDhqh27dry9/dXZGSkhg4dqj/++MNtX57+Vlz6Gps2bZoOHjyYo+eB/JPbMfjDDz9UkyZNVL58eQUEBKhu3bqZ5gqSNHnyZNWrV08BAQEKDw/XgAEDdPjw4Rz18eeff1a7du0UGhoqX19fRUZG6qGHHtKJEyc8tk9JSVG9evUyvUnm7byXuULR4Cm7r776qho0aKAyZcooMDBQjRs3znQelZycrBEjRqh69ery8/NTgwYNPP6+165dqxYtWsjPz08REREaNWqU0tLSctTH/JznStLcuXN1/fXXKyAgQOXLl1fbtm3dXgdkt/DLba1Buvz5mZQ/uZWktLQ0TZgwQTExMfL19VV4eLgGDx7s1uabb75R69atVbZsWQUHB+umm27STz/95NrOmOscl+b23LlzGjVqlJo0aaKgoCCFhISoZ8+emX630uXP1zZt2qTbbrtNtWrVUrFixTRw4MBc9/NyuV25cqVuu+02Va1a1W3ucunaz4W9rlA03j4oQooXL66wsDC3+06ePKmmTZsqLi5Ot912m8fHnTx5UnXr1lW/fv302GOPeWyTlpamm2++WSdOnNDbb7+tmJgYHT9+XEePHnW1WbFihVq2bKmnnnpKlSpV0rx58zRgwAD5+fmpV69eOXoePXv21Pjx4xUSEqJ9+/Zp2LBh6tatm/79739LOj/J79Chg0aNGqXw8HAdPXpUY8eOVfv27bVr1y75+vpKkoYPH673339f8fHxio6O1gsvvKAOHTpoy5YtCg0NlSRVqFBBSUlJXvcPBc9Tln/77Tddf/31ateunRYsWKCwsDDt3btXgYGBrjb//ve/1b17dz322GOaNWuWfvzxRw0ZMkSlS5fWvffeK0n67LPPlJqa6nqMmalp06bq2LFjrvq6fv16hYeHu/4fHBzs+ndaWppKlSqluLg4rV27VsuXL/e4j7S0NPXr108HDhzQCy+84LFNSEiI275x9XnK6aUFoT179qh58+a6/fbbXfedPHlSrVu3VuXKlTVr1ixFRkbq4MGDbgXeoKAgDR06VPXr11dQUJASEhIUFxen5ORkvfzyy5LOT1CDg4P16KOP6rPPPlNycnKens+8efPUtGlT1//Lli3r+vf69esVFBSkd999V1FRUfr55581ePBgHT9+XBMnTnS1O3PmjGJjYxUbG6snnnjC43EYc68sTzmVpNatW+uTTz5xa3cxb+YGGVJSUtS7d2/deOONWrRokdu25ORkdejQQfXr19fq1at1/Phx/f3vf9eJEyf0r3/9y+vn4c146k1Ot23bpuTkZL3++uuqXbu2du3apfvuu0+7du3SwoUL3fbXr18/1+tNkkqVKuW2vVy5cl73H/kvt2NwpUqV9NRTTykmJkZ+fn767rvv9I9//EPFixfXgw8+KEmaPXu2hg4dqsmTJ6tDhw767bffdN999+mOO+7QV1995XUffX19NXDgQDVq1Ejly5fXtm3bdP/992v//v0eT8D+8Y9/qEaNGtq8ebPb/d7Oe5krFA2eslutWjVNmDBBNWvWVLFixTR//nwNHDhQZcqUUWxsrCRp8ODBWrNmjaZOnaro6Gh9+eWXuv3227Vo0SJ16NBBkrR//37ddNNNuvXWW/XOO+9ox44d+vvf/y7p/Bu1OZUf89x3331XjzzyiJ599lnFx8fLx8dHGzdudPu7Q3YLv9zWGrw5P8vP3N59991avXq1XnjhBTVs2FBJSUnatWuXa/u+ffv0t7/9TYMGDdK7776rs2fPaty4cerYsaP27t2roKAgxlwHuTS3Z86c0Q8//KBhw4apUaNGOnXqlEaOHKkOHTpo06ZNrvMfb87XUlJSVK1aNcXGxur111/PUz8vl9vVq1erRo0aeuihhxQREaGVK1dqyJAhOnfunNunnAt9XcHM8nQ7v4vMpk6damXKlLGUlBS3+5999lmLioqy9PR0S09Pt3vuuceqV69ufn5+FhUVZcOHD7dTp0652sfHx1vx4sWz/L+Z2e7du02SrVy50nXftm3bLDY21sqUKWPBwcH2t7/9zXbu3Omxr/llzJgxVqNGjWzbFC9e3OLj47NtU6NGDRszZkym+9977z0LCgqyw4cP56hfXbp0sT59+uToMZ7MnTvXJNkff/yRZZsNGzaYJNuwYYOZmZ04ccL8/PxsypQprjbnzp2z0NBQGzt2rNtjPf0eL/V/ectzbj3dyPIFWWX5rrvusuuvvz7bx/br18+aN2/udt+wYcMsKioqy8csXbrUJNnatWtz1M/ly5ebJPv111+9av/MM89YZGRktm1mzpxpWWXB22OS08Iz5pqZjRw50oKDg92e5+jRoy0yMtLtPm88/PDD1rBhQ4/bBg0aZG3bts3R/jJ4M/55MmHCBAsNDfW4beXKlSbJdu/enetj5jbL5PSCrHI6YMAAa9++vdf7yWpukGHgwIE2ePBgjz+LqVOnmp+fn9vf74ULF2abj8vxZjzNkF1OM3z88cdWrFgxO3nypOu+tm3b2qBBg7w6hiSbOXNmttuNMThf5WUM9qRHjx7Wo0cP1/8feugha9y4sVubSZMmWWBgYO46fJHXXnvNypUrl+n+6dOn21//+lfbunWrV2PypfPeDFd7ruDpRnYv8Da7ZmYNGza0hx9+2MzMTp06ZSVKlLBZs2a5tYmNjXX7+z9y5EirXLmypaWlue6bOHGilS5d2pKTk73uZ37Nc//3v/9ZUFCQTZ48OV+OeSWzS24vyEutwZvzs/zK7TfffGPFihWzX375Jcs2n3/+uUmyEydOuO7bvHmzSbKffvopy8cV9TGX3Gbt8OHDJskWLVrkui+n52vt27e3AQMG5Kqf3uTWk/vuu8+aNWvmcVthrSsU2HIQvXv3VmpqqubPn+92/8yZM3XnnXfKx8dHZqbQ0FB9+OGH2rJli15//XVNnz49V++QXuzQoUNq1aqVoqKi9P3332vlypUqW7asOnTokO1XH7t06aLAwMBsbytXrsxT3/Jizpw5atq0qd566y1FRkaqevXqGjRokH7//fdsH3fixIk8f1Lm999/14wZM9SoUSO3T6ZdLCkpSe+8844qV66sWrVqSZJ++uknnT59Wp07d3a1K168uG666aar+rPMCbJ8Xnp6uubOnavmzZvrjjvuUEhIiBo0aKDx48fr3LlzrnarVq1y+31LUufOnbVnz54s17t5++231ahRI1133XU56lOGVq1aKTQ0VG3atMn0KbI/C3Lq2dmzZ/Xee++5vhGRYc6cOWrdurUef/xxhYeHKyYmRo899li2n+TdunWrvvzyS91www156lN2+vbtq0qVKun666/X+++/f9n2+TG+X0nk1N3atWsVGhqqGjVq6M4779Svv/6aq/3MmDFD69at06uvvupx+6pVq9S8eXO3v98dO3ZUsWLFrsia0N7k9MSJE/Lz83N7nUrnv+ZaqVIl1alTRw888ICOHz9egD3NPbLtWVZj8MXMTGvXrtX333/vNr62atVKW7Zs0YoVK2RmOnz4sD755JNMS/vk1K+//qpPP/0001i+ZcsWPf744/roo49cnzDLjqd5b1FEdj1LT0/X4sWLtW3bNtcyNGfPntW5c+cyZdnf319r1qxxfTpt1apVrjE2Q+fOnZWcnJxpSTxv5HWeu3TpUiUlJSkwMFBNmzZVaGio2rVrp2+//TbH+yosyG3OeHN+ll+5nTNnjmrUqKHly5erdu3aqlq1qnr37u22PFmTJk3k7++vqVOn6uzZszp16pSmTZum6Oho1a1b1+N+nTDmktusZSxNc/F8MTfna7nlTW6z6ndROheTCnA5iLJly6p79+6aMWOG+vTpI+n8yc62bdt05513SpKKFSumZ5991vWYqKgo7dy5U5MnT9YzzzyT62NPnjxZNWvWdPs4eHx8vIKDg/XFF19k+TWJadOm6dSpU9nuu3LlyrnuV14lJiZq9+7dKlasmD7++GOlpKTo0UcfVbdu3bR69WqP641kfN3jjTfeyNUx+/btq3nz5unUqVNq3ry5lixZkqnN8OHD9dZbbyk5OVl16tTRihUrFBAQIOnCVwIv/dpKWFhYriZBVwNZPu/o0aM6ceKEJk2apPvvv19LlizRli1b9OCDD+rEiROaMGGCpPO/c0+/74xtVapUcdt26NAhzZ8/3+3r7N4KDw/X22+/rWuvvVZpaWmaPXu2YmNj9emnn+rWW2/N8f6KMnLq2bx583To0CHFxcW53Z+YmKidO3eqV69eWrBggQ4ePKgHH3xQ+/fv18cff+zWtkqVKjp69KhSU1MVFxenF198MU998iQwMFAvv/yyWrVqpRIlSmjJkiWKi4vTsWPH9Oijj3p8zPbt2/XGG2/keVJ4JZHTCzp37qxevXopKipKv/76q55++mm1aNFCv/zyS5ZvtnqyZcsWPfbYY1q+fLn8/f09tvE0LpcsWVLBwcEFvp6uNzk9cuSIxo0bpyFDhrh9Nbl///6KiopSeHi4tm/frlGjRmnNmjX64YcfVLJkyQLtd06Rbc+yGoMl6X//+58qV66s1NRUpaWlacyYMRo6dKhre69evfTHH3+oa9euruJbly5dslzv8nJatGihhIQEnT59Wt26dXNbCiUlJUW33Xabnn/+edWpUyfbk77s5r1FEdl1t3HjRjVv3lynT59WyZIlNXHiRHXv3l3S+WWiWrVqpeeee04NGzZUtWrVtGTJEs2bN0+pqak6duyYwsLCdPDgQbVs2dJtvxfPhb2VX/PcxMRESdKIESP00ksvqXbt2poxY4Y6dOig9evXq0GDBl7vq7AgtznjzflZfuU2MTFR+/btU3x8vKZMmSJfX1899dRTuuGGG7R582b5+/uratWq+uabb9S7d28NHz5c6enpqlmzppYuXZppLuOkMZfcepaenq6hQ4fq2muvdVsWLyfna3nlTW4vtXLlSn388cdFbk3qAl0T+K677lL37t115MgRhYSEaObMmWrevLnbOzfvvfeepkyZoj179ig5OVnnzp1Tenp6no77008/ad26dW7rlErnJ3g7duzI8nFXs8DrjbS0NJmZPvroI9f6IdOnT1ejRo20bt06txeMdP5d30GDBmnSpElq3Lhxro756quvauzYsdq9e7eefvpp3X777Vq6dKnbSdrjjz+ue+65R7/99pteeukl9ezZU6tXr1ZQUFC2+85qkezCiCzLdVGABg0auNZnbNSokY4cOaL/9//+n55//vnL/k49bX/33Xfl5+enfv365bhPMTExiomJcf2/adOmOnTokJ577rk/XRFYIqeeTJkyRW3btlWdOnXc7k9PT1eFChUUHx/vKialpaWpZ8+eevPNNxUSEuJqu3LlSqWkpCghIcF1kctx48blaz8rVqzoVuxt3LixTp06pfHjx3ssAu/du1edOnVSjx499MADD+RrXwoaOT3v4vVR69evr+bNmysyMlIzZsxwrYl6OWfOnNFtt92mZ599VvXr189VPwryb7E3Of3vf/+rLl26KCYmRs8995zbtox1CqXzP6O//vWvqlmzphYvXqxu3boVWL9zi2xnltUYLJ0vqG3YsEEpKSlavXq1nnzySVWuXFmDBg2SJH3//fd66qmn9OKLL6pNmzb67bff9MQTT2jAgAG5Ovn7+OOPdfLkSW3ZskWjRo3SkCFDXN+4yFj/PWP9y+zkdt5bmJHdC2JiYrRhwwYlJSVp6dKleuSRRxQREaEuXbpIkj744AMNGjRI1atXV7FixRQTE6N77rlHEydOdPsE5aUyxtqcjLn5Nc/NmMM/+eSTrr89jRs31rfffqvJkydr0qRJXu+rMCG3+SO7TOYmt2lpaTpz5oxmzJihevXqSTo//oaHh2vBggXq3bu3jh49qnvuuUexsbG6++67lZqaqpdfflldu3bVunXr3N4Md9qYS27dmZni4uK0ceNGrVy50m0czcn5Wl55k9uLJSQkqEePHhoxYoRrzfiiosCWg5CkTp06qWLFivrwww919uxZffTRR7rrrrtc22fPnq0hQ4aoT58++vLLL5WQkJDpyuuZOuzhj+vFF5iSzoelffv22rBhg9tt+/btGjJkSJb7LuzLQURERCg8PNxtAemMgO7du9et7cKFC9WjRw+98sorbidRORUWFqaYmBh17txZc+bM0TfffJPpYhwVK1ZUrVq11K5dO3322Wfas2eP69MVGRcxOHTokNtjDh065PEiOYUVWT5/EZeSJUu6MpehXr16Sk5Odi1LEh4e7vH3LWX+RHh6erreeecd9e/fP9/+kDdr1kzbt2/Pl30VNeTU3c6dO/X111977EN4eLhq167t9mnCrMbT6Oho1atXT3fccYdeeukljR8/vkC+hnSpZs2a6fjx4zp27Jjb/YmJiWrTpo1atWrlurhLUUJOPStXrpxq166do/Hr4MGD2rRpk+6//36VKFFCJUqU0KBBg5SWlqYSJUq4iqqexuWzZ8/q+PHjBfa32JucHj16VDfeeKPKly+vBQsWXPYr+DVq1FDFihUL7RhPtt1lNwZnPLeaNWvqL3/5i4YMGaInnnhCo0aNcm1/8skn1aNHD91///1q0KCBOnfurClTpuiTTz7xeAXxy6lataquueYa3XLLLXrvvfc0Y8YM136WLVumTz/91PU6qlmzpiSpXbt26tSpk9t+spv3FlVk94JSpUqpZs2aatSokYYPH66+ffu6vfEbGRmpZcuW6eTJk9q3b582bdokf39/lSlTRhUrVpTkeczN6tuROZWbeW5ERIQkZZrD161bN9Ocpyght97z5vwsv3IbEREhHx8fXXPNNa77KlasqJCQEFfe3nzzTaWlpWnixIlq0qSJmjdvrlmzZungwYOaNWuW2/6cNuaS2wvS0tI0cOBALV26VCtWrFBUVJTb9pycr+WVN7nNsHbtWrVv316DBw/O06ezr5YC/SRw8eLF1a9fP82cOVPVq1dXUlKS62PvkvTtt9+qUaNGbp9yutyaGyEhIUpLS9Phw4cVGhoq6XwV/mJNmjTRjBkzVKVKlSzXH/OksC8H0bp1a61Zs0b/+9//XO+Obdu2TZLcXjBz5sxR//799dZbb7k+TZEfMt59On36dLbtzMzVpkmTJvL19dXixYtdXwVMS0vTsmXLNHjw4HzrW0Ejy+e/OtysWbNMJ17btm1T6dKlXRPfli1bavHixRo9erSrzeLFixUZGZlpKYjFixdr7969+ZqFhIQEtyso/5mQU3dTp05VhQoVdMstt2Ta1rp1ay1fvlznzp1TiRLn/xR6Gk8vlZ6errS0NKWmpqp06dK57ps3EhISFBAQoDJlyrju27p1q9q3b69OnTpp2rRp2X7qqLAip54lJSVp586d6tmzp9ePqVy5sjZu3Oh237x58zRmzBht2LDB9bNo2bKlHnroIbf5w9KlS5Wenp7pq5/5wZucHjp0SO3bt1fVqlX1+eefZ7mUxcV+/fVXHTt2rNCO8WTbXXZjsCfp6eluc8yUlJRM2cn4Jtr5a6Xk3qVz2qVLl7qdMB84cECdOnVSfHy8Wrdune2+Lp73FlVkN2uX5jJDQECAAgIClJqaqtmzZ6tHjx6uvLZs2VIzZsxQenq6677FixcrICBAjRo1ylN/cjPPzcjw1q1bXesbS+fnPc2aNctTf64mcus9b87P8iu3rVu31vvvv6/t27e7vgXy3//+V0eOHHHNsT2N7z4+Pq41cbNT1MdccnveuXPn1L9/f/3444/69ttvFR0dnalNbs/XcsOb3Ernv6XUtWtXPfzww/n+zdArJq9XllM2V7szM/v5559NkjVs2NBuvfVWt21vvvmm+fv729y5c23nzp322muvWYUKFdyuoHfplQ6PHTtmQUFBNnDgQNuxY4d9+eWXVr9+fbcrHx46dMjCwsKsS5cutmrVKtu1a5etWLHCHnnkEdu+fXu2/c2LrK58eOzYMUtISLCEhAQrXry4jRs3zhISEmzv3r2uNklJSa42VatWtcGDB1tCQoLt2LHD1ebAgQNWrlw5i42NtY0bN9qPP/5oTZs2tZYtW1p6erqZmc2aNctKlChhEyZMsIMHD7puR44cydFzmT17tr3//vu2ceNG27Nnj3311VfWokULq1y5susqnsuXL7dJkybZhg0bbO/evbZq1Srr1q2bBQUFuT23hx56yCpUqGDz58+3jRs32p133mnlypWzAwcOuB2zIK9U782NLF+QVZa/+OIL8/HxsdGjR9v27dtt/vz5FhISYiNHjnS1Wbt2rZUoUcKefPJJ27Jli02fPt18fX09XpE4NjbWrrvuulz389VXX7XPP//ctm3bZps2bbJx48ZZsWLFbNKkSW7tNm3aZAkJCXb//fdbeHi467V25swZV5sdO3ZYQkKCjR8/3iS52iQlJbnt62pffZacXpDd1WbPnDljlSpVsscff9zj9g0bNlipUqXs3nvvtS1bttjy5cutVq1a1q9fP1ebl156yRYuXGjbt2+3HTt22KxZsywiIsJiY2Pd9pWRlZ49e1qTJk1c/8+J6dOn2wcffGCbN2+27du32xtvvGH+/v72xBNPuNr88ssvFhISYrfccosdOHDAbYw/d+6cq93evXstISHB4uPjTZJ98cUXlpCQYMeOHXM7ZkGOueT0Ak85TUpKsscee8y+//572717t61cudJuuOEGK1++vO3fv9+t3eXmBpfydIXopKQkq1KlinXt2tU2bNhgX3/9tUVGRlqfPn1y/HwuN556k9PffvvNateubS1atLA9e/a4tcnYz86dO23s2LG2du1a27Nnjy1ZssQaNmxo0dHRHq9SLslmzpyZZb/za1wm2xfkZQwePXq0ffXVV5aYmGhbt261qVOnWlBQkA0dOtTV5umnnzZ/f3+bPn267dq1y1auXGnXXnut1a9f323Mu5x33nnHPv30U9u8ebPt2rXL5s+fb9dcc401bNjQ0tLSPD7G0/jo7bw3o+3VnCt4upHdC7LK7iOPPGLfffed7d692zZt2mQvvPCClShRwl555RVXm6VLl9rChQstMTHRVqxYYW3atLGwsDC3sXvfvn0WFBRkd999t/3yyy82d+5cK1++vA0fPjxH/czPeW7v3r0tLCzMNa8ZOXKklSxZ0jZu3Oi2r8KWXXJ7QV5qDd6cn+VXbpOTky06OtqaN29u69ats//85z928803W40aNSwlJcXMzFasWGE+Pj42fPhw27p1q6tGULp0aUtMTDQzZ4+5f/bcnj171nr06GGhoaH2448/us0DLz739uZ87cyZM678N2vWzLp162YJCQm2adOmHPXT29yWLl3aHnzwQbc+Hzx40G1fhb2uUOADs5lZw4YNTZLNmzfP7f7U1FSLi4uz8uXLW1BQkPXt29fefPPNbANuZrZw4UKrU6eO+fn5WcuWLe3LL7/MNFHbtWuX9enTx4KDg83X19eqV69ugwYNsqNHj162v7mV1cCccSJ+6W3AgAGuNhkBuPTWtm1bt32tX7/e2rVrZ/7+/hYeHm533323/f77767tbdu29bifyMhIt/1IsjFjxmT5XBYsWGDNmjWzsmXLun5+Q4YMsX379rna/PDDD9amTRsLDg62UqVKWbVq1ax///6ZXnCpqak2bNgwCwkJMV9fX2vZsqWtW7cu0zELexHYjCybmX300UdWr1498/X1tZo1a9r48ePt7NmzmZ5XgwYNXLl4+eWXM+1n//79Vrx4cZs2bZrH42TkIT4+Pst+TpgwwWrVqmV+fn5WtmxZa9asmX3yySeZ2kVGRnp8XezevdvVJqvXzvLly932dbUnGeT0guxyOmvWLPPx8cm2WLZs2TK79tprzdfX1yIjI+3RRx+1kydPurb/85//tGuuucYCAgIsMDDQ6tWrZ+PHj89UgPKUm0t/T5cbc99//32rV6+e61gNGza0t99+261AMWbMmCyPdXGWBwwY4LHNpa+lq1kENvtz5zQlJcU6duxoISEhVrJkSatSpYrdfvvtmfLq7dzgYp5+NmZmW7dutZtuusn8/f0tODjY4uLi3PJudvmcml1+PPUmp1nNiy4ec/ft22dt27a1ChUqWKlSpSw6Otri4uIyvYF8cd8LQxHY7M+d7QyXG4Mffvhhq1Gjhvn5+Vm5cuWscePGNnHiRLfi7rlz52z8+PFWu3Zt8/Pzs/DwcOvbt6/t2bPH1cabucJ7771nDRs2tKCgIPP397fatWvb8OHD3ebPl/I0Pno77zW7+nMFTzeye0FW2e3Tp49Vq1bNSpUqZRUqVLAWLVrYv/71L7c2s2fPtpo1a1qpUqUsODg4UyYzrFmzxq6//nrz9fW1sLAwGzFihFu+r/Q8Nzk52R544AGrVKmSBQYGWosWLey7777LtK/Cll1ye0Feag0Zz+ty52f5kVszs8TEROvWrZsFBgZaxYoV7dZbb830Opk9e7Zdd911FhQUZOXLl7d27dq5ZdLpY+6fObcZOfJ0u3Qeernztaz2dXH9K79ym9U51qW/68JeV7giA/OfRXaT4cIkMTHRfHx8bNWqVVe7K26KQhH4z6IwZPnrr782Pz8/17vBhcXVnmSQ0wsKQ0698Wccc8npBeT0yihMReA/i8KQbeYKZDc3yG7WClt2ye0F5DZrhS23RnZdyG3WrlZui95igoXcrl27FBgY6HZhi8Jm4cKFuuuuuwpkHcDcatOmTaaLFeDqutpZXrhwoYYPH67q1atfleN7EhUV5bo6NAqHq51TbzDmgpwWnDvvvDPTla5x5VztbDNXQG6R3czIbuFHbjMjt4Ufuc3saubW53xxOQ878PGxvO7DKY4fP67jx49LksqXL68KFSpc5R4VHfv373ct8J7dYuX/t1h85kuM5wOyfAFZ9mz37t1KS0uTJEVHR7suUHMpcnplkNPcK+gxl5xeQE4L1qFDh3Ty5ElJ569enlVBOL/GZbJ9Adn2rDDMFbI4Htn9P2TXs8KYXXJ7Abn1rDDm9v+OR3ZFbrNyNXNLERhFCsU1FAXkFE5BERhOQREYhQ0FCRRVFIFRFDHmoigqiNyyHAQAAAAAAAAAOBhFYAAAAAAAAABwMIrAAAAAAAAAAOBgFIEBAAAAAAAAwMFK5HUHfn5+h318fELzozPA5fj5+R0uyH2TZeQHcgqnyG2WySkKm/wal8k28ktBzhWyOh7ZRX64ktklt8gvjLkoigoitz5csRAAAAAAAAAAnIvlIAAAAAAAAADAwSgCAwAAAAAAAICDUQQGAAAAAAAAAAejCAwAAAAAAAAADkYRGAAAAAAAAAAcjCIwAAAAAAAAADgYRWAAAAAAAAAAcDCKwAAAAAAAAADgYBSBAQAAAAAAAMDBKAIDAAAAAAAAgINRBAYAAAAAAAAAB6MIDAAAAAAAAAAORhEYAAAAAAAAAByMIjAAAAAAAAAAOBhFYAAAAAAAAABwMIrAAAAAAAAAAOBgFIEBAAAAAAAAwMEoAgMAAAAAAACAg1EEBgAAAAAAAAAHowgMAAAAAAAAAA5GERgAAAAAAAAAHIwiMAAAAAAAAAA4GEVgAAAAAAAAAHAwisAAAAAAAAAA4GAUgQEAAAAAAADAwSgCAwAAAAAAAICDUQQGAAAAAAAAAAejCAwAAAAAAAAADkYRGAAAAAAAAAAcjCIwAAAAAAAAADgYRWAAAAAAAAAAcDCKwAAAAAAAAADgYBSBAQAAAAAAAMDBKAIDAAAAAAAAgINRBAYAAAAAAAAAB6MIDAAAAAAAAAAORhEYAAAAAAAAAByMIjAAAAAAAAAAOBhFYAAAAAAAAABwMIrAAAAAAAAAAOBgFIEBAAAAAAAAwMEoAgMAAAAAAACAg1EEBgAAAAAAAAAHowgMAAAAAAAAAA5GERgAAAAAAAAAHIwiMAAAAAAAAAA4GEVgAAAAAAAAAHAwisAAAAAAAAAA4GAUgQEAAAAAAADAwSgCAwAAAAAAAICDUQQGAAAAAAAAAAejCAwAAAAAAAAADkYRGAAAAAAAAAAcjCIwAAAAAAAAADgYRWAAAAAAAAAAcDCKwAAAAAAAAADgYBSBAQAAAAAAAMDBKAIDAAAAAAAAgINRBAYAAAAAAAAAB6MIDAAAAAAAAAAORhEYAAAAAAAAAByMIjAAAAAAAAAAOBhFYAAAAAAAAABwMIrAAAAAAAAAAOBgFIEBAAAAAAAAwMEoAgMAAAAAAACAg1EEBgAAAAAAAAAHowgMAAAAAAAAAA5GERgAAAAAAAAAHIwiMAAAAAAAAAA4GEVgAAAAAAAAAHAwisAAAAAAAAAA4GAUgQEAAAAAAADAwSgCAwAAAAAAAICDUQQGAAAAAAAAAAejCAwAAAAAAAAADkYRGAAAAAAAAAAcjCIwAAAAAAAAADgYRWAAAAAAAAAAcDCKwAAAAAAAAADgYBSBAQAAAAAAAMDBKAIDAAAAAAAAgINRBAYAAAAAAAAAB6MIDAAAAAAAAAAORhEYAAAAAAAAAByMIjAAAAAAAAAAOBhFYAAAAAAAAABwMIrAAAAAAAAAAOBgFIEBAAAAAAAAwMEoAgMAAAAAAACAg1EEBgAAAAAAAAAHowgMAAAAAAAAAA5GERgAAAAAAAAAHIwiMAAAAAAAAAA4GEVgAAAAAAAAAHAwisAAAAAAAAAA4GAUgQEAAAAAAADAwSgCAwAAAAAAAICDUQQGAAAAAAAAAAejCAwAAAAAAAAADkYRGAAAAAAAAAAcjCIwAAAAAAAAADgYRWAAAAAAAAAAcDCKwAAAAAAAAADgYBSBAQAAAAAAAMDBKAIDAAAAAAAAgINRBAYAAAAAAAAAB6MIDAAAAAAAAAAORhEYAAAAAAAAAByMIjAAAAAAAAAAOBhFYAAAAAAAAABwMIrAAAAAAAAAAOBgFIEBAAAAAAAAwMEoAgMAAAAAAACAg1EEBgAAAAAAAAAHowgMAAAAAAAAAA5GERgAAAAAAAAAHIwiMAAAAAAAAAA4GEVgAAAAAAAAAHAwisAAAAAAAAAA4GAUgQEAAAAAAADAwSgCAwAAAAAAAICDUQQGAAAAAAAAAAejCAwAAAAAAAAADkYRGAAAAAAAAAAcjCIwAAAAAAAAADgYRWAAAAAAAAAAcDCKwAAAAAAAAADgYBSBAQAAAAAAAMDBKAIDAAAAAAAAgINRBAYAAAAAAAAAB6MIDAAAAAAAAAAORhEYAAAAAAAAAByMIjAAAAAAAAAAOBhFYAAAAAAAAABwMIrAAAAAAAAAAOBgFIEBAAAAAAAAwMEoAgMAAAAAAACAg1EEBgAAAAAAAAAHowgMAAAAAAAAAA5GERgAAAAAAAAAHIwiMAAAAAAAAAA4GEVgAAAAAAAAAHAwisAAAAAAAAAA4GAUgQEAAAAAAADAwSgCAwAAAAAAAICD/X9TAZp8iRzKBgAAAABJRU5ErkJggg==\n",
=======
   "execution_count": 14,
   "id": "8fb675d3",
   "metadata": {
    "scrolled": true
   },
   "outputs": [
    {
     "data": {
      "image/png": "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\n",
>>>>>>> f12a2863b8415f4ca7e3e7901f5795be8b550dca
      "text/plain": [
       "<Figure size 1800x1800 with 1 Axes>"
      ]
     },
     "metadata": {
      "needs_background": "light"
     },
     "output_type": "display_data"
    }
   ],
   "source": [
    "# We can plot the tree structure.\n",
    "\n",
    "fig, ax = plt.subplots(figsize=(25, 25))\n",
    "tree.plot_tree(clf, ax=ax)\n",
    "plt.show()"
   ]
  },
  {
   "cell_type": "markdown",
<<<<<<< HEAD
   "id": "bca7ab42",
=======
   "id": "58500b76",
>>>>>>> f12a2863b8415f4ca7e3e7901f5795be8b550dca
   "metadata": {},
   "source": [
    "## Evaluate"
   ]
  },
  {
   "cell_type": "markdown",
<<<<<<< HEAD
   "id": "50d24c7c",
=======
   "id": "9cb7317d",
>>>>>>> f12a2863b8415f4ca7e3e7901f5795be8b550dca
   "metadata": {},
   "source": [
    "We evaluate performance\n",
    "\n",
    "- we inspect accuracy of the predictions on test data month by month\n",
    "- we evaluate predictors importance"
   ]
  },
  {
   "cell_type": "markdown",
<<<<<<< HEAD
   "id": "0ac373cf",
=======
   "id": "a1142267",
>>>>>>> f12a2863b8415f4ca7e3e7901f5795be8b550dca
   "metadata": {},
   "source": [
    "### Accuracy"
   ]
  },
  {
   "cell_type": "code",
<<<<<<< HEAD
   "execution_count": 207,
   "id": "2163ae2d",
=======
   "execution_count": 23,
   "id": "5a96f368",
>>>>>>> f12a2863b8415f4ca7e3e7901f5795be8b550dca
   "metadata": {},
   "outputs": [],
   "source": [
    "## TODO: Predict target variable on test data in two steps\n",
    "# - use 'predict_proba' method for 'DecisionTreeClassifier'\n",
    "# - convert result to 0/1 values using some threshold (could be done in one step but we want to observer dependence on the threshold)\n",
    "# Finally store the prediction as 'Prediction' column\n",
    "data_cart_test['predicted_probability'] = clf.predict_proba(data_cart_test[predictors])[:,1]\n",
    "data_cart_test['prediction'] = (data_cart_test['predicted_probability'] > 0.5).astype(int)"
   ]
  },
  {
   "cell_type": "code",
<<<<<<< HEAD
   "execution_count": 208,
   "id": "5880a2ca",
=======
   "execution_count": null,
   "id": "4cb98b7a",
>>>>>>> f12a2863b8415f4ca7e3e7901f5795be8b550dca
   "metadata": {},
   "outputs": [],
   "source": [
    "# TODO: Compute accuracy by 'Month'. Store the result to pd.Series 'data_cart_accuracy'\n",
    "\n",
    "..."
   ]
  },
  {
   "cell_type": "code",
<<<<<<< HEAD
   "execution_count": 209,
   "id": "9a6360bf",
=======
   "execution_count": null,
   "id": "d40050f4",
>>>>>>> f12a2863b8415f4ca7e3e7901f5795be8b550dca
   "metadata": {
    "scrolled": true
   },
   "outputs": [],
   "source": [
    "# Inspect stability of the model performance in time\n",
    "\n",
    "ax1 = plt.subplot(111)\n",
    "ax1.bar(range(len(data_cart_accuracy)), data_cart_accuracy)\n",
    "ax1.set_xticks(range(len(data_cart_accuracy)))\n",
    "ax1.set_xticklabels(data_cart_accuracy.index, rotation = 90)\n",
    "ax1.set_xlabel('Month')\n",
    "ax1.set_ylabel('Accuracy')\n",
    "\n",
    "plt.show()"
   ]
  },
  {
   "cell_type": "markdown",
<<<<<<< HEAD
   "id": "ca2d290a",
=======
   "id": "fa20f5e6",
>>>>>>> f12a2863b8415f4ca7e3e7901f5795be8b550dca
   "metadata": {},
   "source": [
    "### Predictor importance\n",
    "\n",
    "In scikit-learn the feature importance is the decrease in node impurity. The key is that it measures the importance only at a node level. Then, all the nodes are weighted by how many samples reach that node."
   ]
  },
  {
   "cell_type": "code",
<<<<<<< HEAD
   "execution_count": 210,
   "id": "1f428b1e",
=======
   "execution_count": null,
   "id": "e6f72169",
>>>>>>> f12a2863b8415f4ca7e3e7901f5795be8b550dca
   "metadata": {
    "scrolled": true
   },
   "outputs": [],
   "source": [
    "# Get numerical feature importances\n",
    "importances = list(clf.feature_importances_)\n",
    "# List of tuples with variable and importance\n",
    "feature_importances = [(feature, round(importance, 2)) for feature, importance in zip(predictors, importances)]\n",
    "# Sort the feature importances by most important first\n",
    "feature_importances = sorted(feature_importances, key = lambda x: x[1], reverse = True)\n",
    "# Print out the feature and importances \n",
    "[print('Variable: {:20} Importance: {}'.format(*pair)) for pair in feature_importances];"
   ]
  },
  {
   "cell_type": "code",
<<<<<<< HEAD
   "execution_count": 211,
   "id": "357504ed",
=======
   "execution_count": null,
   "id": "623243b3",
>>>>>>> f12a2863b8415f4ca7e3e7901f5795be8b550dca
   "metadata": {},
   "outputs": [],
   "source": [
    "# Plot importance\n",
    "x_values = list(range(len(importances)))\n",
    "# Make a bar chart\n",
    "plt.bar(x_values, importances, orientation = 'vertical')\n",
    "# Tick labels for x axis\n",
    "plt.xticks(x_values, predictors, rotation='vertical')\n",
    "# Axis labels and title\n",
    "plt.ylabel('Importance'); plt.xlabel('Variable'); plt.title('Variable Importances');"
   ]
  },
  {
   "cell_type": "markdown",
<<<<<<< HEAD
   "id": "8dc97a58",
=======
   "id": "4c70fb6f",
>>>>>>> f12a2863b8415f4ca7e3e7901f5795be8b550dca
   "metadata": {},
   "source": [
    "# CHAID\n",
    "\n",
    "Implementation: https://github.com/Rambatino/CHAID\n",
    "\n",
    "Documentation: https://www2.karlin.mff.cuni.cz/~kozmikk/files/TREE-CHAID.pdf\n",
    "\n",
    "- supports missing values for predictors (treated as a category)\n",
    "- assumes the predictors to be categorical (either nominal or ordinal)\n",
    "- the same implementation works also for regression (choose the dependent variable to be continuous)\n",
    "\n",
    "Short description:\n",
    "\n",
    "Continuous predictors are assumed to be categorized either in 'nominal' or 'ordinal' (e.g. deciles) format. Target is either 'nominal' or 'continuous'.\n",
    "\n",
    "We define constants alpha_merge and split_threshold.\n",
    "\n",
    "In each node we iterate over all categories of all predictors and test if they significantly influence the target value in terms of Chi-square test if target is 'categorical' or F-test if target is continuous. Categories are merged until the significance is below alpha_merge. Now we iterate over such newly categorized predictors and split using the one with the most significant influence on target (using the same measure as above) if split_threshold is triggered by any of them. We obtain possibly split which is non-binary.\n",
    "\n",
    "Additional parameters:\n",
    "\n",
    "- the above procedure is repeated only until the depth of the tree is not larger then max_depth\n",
    "- if we have less then min_parent_node_size in given node, no splitting is performed\n",
    "- if splitting would result in new node with less then min_child_node_size observations, no splitting is performed\n",
    "- if is_exhaustive is true then all possible merging combinations of given predictor's categories are examined (according to https://www.researchgate.net/publication/332591728_Classification_of_air_traffic_control_scenarios_using_decision_trees_insights_from_a_field_study_in_terminal_approach_radar_environment, note that the significance is adjusted using Bonferroni method)"
   ]
  },
  {
   "cell_type": "markdown",
<<<<<<< HEAD
   "id": "542d811b",
=======
   "id": "028b3dfe",
>>>>>>> f12a2863b8415f4ca7e3e7901f5795be8b550dca
   "metadata": {},
   "source": [
    "## Data Manipulation"
   ]
  },
  {
   "cell_type": "markdown",
<<<<<<< HEAD
   "id": "560f8c59",
=======
   "id": "5620763e",
>>>>>>> f12a2863b8415f4ca7e3e7901f5795be8b550dca
   "metadata": {},
   "source": [
    "We copy our data to 'data_chaid' dataframe.\n",
    "\n",
    "First, we handle missing values, then encode all predictors as numerical."
   ]
  },
  {
   "cell_type": "code",
<<<<<<< HEAD
   "execution_count": 212,
   "id": "f2c565a1",
=======
   "execution_count": null,
   "id": "1f940a46",
>>>>>>> f12a2863b8415f4ca7e3e7901f5795be8b550dca
   "metadata": {},
   "outputs": [],
   "source": [
    "data_chaid = data.copy()"
   ]
  },
  {
   "cell_type": "markdown",
<<<<<<< HEAD
   "id": "57de8e5f",
=======
   "id": "ad2c5eb8",
>>>>>>> f12a2863b8415f4ca7e3e7901f5795be8b550dca
   "metadata": {},
   "source": [
    "### Missing values"
   ]
  },
  {
   "cell_type": "code",
<<<<<<< HEAD
   "execution_count": 213,
   "id": "585fd928",
=======
   "execution_count": null,
   "id": "d018ac69",
>>>>>>> f12a2863b8415f4ca7e3e7901f5795be8b550dca
   "metadata": {},
   "outputs": [],
   "source": [
    "# TODO: Handle missing values for both predictors and target\n",
    "\n",
    "..."
   ]
  },
  {
   "cell_type": "markdown",
<<<<<<< HEAD
   "id": "345386f5",
=======
   "id": "b5c48f20",
>>>>>>> f12a2863b8415f4ca7e3e7901f5795be8b550dca
   "metadata": {},
   "source": [
    "### Predictor type"
   ]
  },
  {
   "cell_type": "code",
<<<<<<< HEAD
   "execution_count": 214,
   "id": "d72c7498",
=======
   "execution_count": null,
   "id": "b9259669",
>>>>>>> f12a2863b8415f4ca7e3e7901f5795be8b550dca
   "metadata": {},
   "outputs": [],
   "source": [
    "data_chaid.dtypes"
   ]
  },
  {
   "cell_type": "code",
<<<<<<< HEAD
   "execution_count": 215,
   "id": "3d6f3f77",
=======
   "execution_count": null,
   "id": "926c107e",
>>>>>>> f12a2863b8415f4ca7e3e7901f5795be8b550dca
   "metadata": {},
   "outputs": [],
   "source": [
    "# Re-encode. Column 'Date' will not be used for prediction, therefore, no need to encode it. Only 'RainToday' and 'RainTomorrow' should be re-encoded.\n",
    "\n",
    "# TODO: Convert values of 'RainToday' and 'RainTomorrow' into 0-1 encoding. You can use .apply function to use row-by-row notation.\n",
    "..."
   ]
  },
  {
   "cell_type": "code",
<<<<<<< HEAD
   "execution_count": 216,
   "id": "3e165340",
=======
   "execution_count": null,
   "id": "a5054ce4",
>>>>>>> f12a2863b8415f4ca7e3e7901f5795be8b550dca
   "metadata": {},
   "outputs": [],
   "source": [
    "target = 'RainTomorrowFlag'\n",
    "\n",
    "predictors_chaid = list(data_chaid.columns)\n",
    "predictors_chaid.remove('Date') # Date will not be used for training\n",
    "predictors_chaid.remove('RainToday') # We use RainTodayFlag instead\n",
    "predictors_chaid.remove('RainTomorrow') # Target\n",
    "predictors_chaid.remove('RainTomorrowFlag') # Target# We denote 'target' the name of the column with target values. 'predictors' stands for the list of all predictors"
   ]
  },
  {
   "cell_type": "code",
<<<<<<< HEAD
   "execution_count": 217,
   "id": "6e30e97a",
=======
   "execution_count": null,
   "id": "c984999b",
>>>>>>> f12a2863b8415f4ca7e3e7901f5795be8b550dca
   "metadata": {},
   "outputs": [],
   "source": [
    "# Create column 'Month' for future evaluation of the model performance in time\n",
    "data_chaid['Month'] = data_chaid['Date'].dt.month\n",
    "data_chaid['Month'].value_counts()"
   ]
  },
  {
   "cell_type": "code",
<<<<<<< HEAD
   "execution_count": 218,
   "id": "51597263",
=======
   "execution_count": null,
   "id": "4b72251a",
>>>>>>> f12a2863b8415f4ca7e3e7901f5795be8b550dca
   "metadata": {},
   "outputs": [],
   "source": [
    "# We check the predictors if we can assume that these are continuous\n",
    "\n",
    "for predictor in predictors_chaid:\n",
    "    \n",
    "    plt.hist(data_chaid[predictor], density=True, bins=10)  # density=False would make counts\n",
    "    plt.ylabel('Probability')\n",
    "    plt.xlabel(predictor);\n",
    "\n",
    "    plt.show()"
   ]
  },
  {
   "cell_type": "markdown",
<<<<<<< HEAD
   "id": "a66a58eb",
=======
   "id": "63e274d6",
>>>>>>> f12a2863b8415f4ca7e3e7901f5795be8b550dca
   "metadata": {},
   "source": [
    "## Split & categorize"
   ]
  },
  {
   "cell_type": "markdown",
<<<<<<< HEAD
   "id": "06a12ee4",
=======
   "id": "82e42a94",
>>>>>>> f12a2863b8415f4ca7e3e7901f5795be8b550dca
   "metadata": {},
   "source": [
    "Based on the histograms above we conclude that some of the predictors must be categorized. We do the categorization based on training data only, therefore, now we have to split the dataset."
   ]
  },
  {
   "cell_type": "code",
<<<<<<< HEAD
   "execution_count": 219,
   "id": "6b5678fb",
=======
   "execution_count": null,
   "id": "76fc2237",
>>>>>>> f12a2863b8415f4ca7e3e7901f5795be8b550dca
   "metadata": {},
   "outputs": [],
   "source": [
    "# Split the data, stratify by month\n",
    "data_chaid_train, data_chaid_test = train_test_split(\n",
    "    data_chaid, test_size=0.2, random_state=17, stratify=data_chaid['Month']\n",
    ")"
   ]
  },
  {
   "cell_type": "code",
<<<<<<< HEAD
   "execution_count": 220,
   "id": "292c6e7d",
=======
   "execution_count": null,
   "id": "013d8bb0",
>>>>>>> f12a2863b8415f4ca7e3e7901f5795be8b550dca
   "metadata": {},
   "outputs": [],
   "source": [
    "# Only 'RainTodayFlag' predictor is categorical. The rest is continuous, therefore we have to categorize.\n",
    "\n",
    "n_cat = 10 # number of categories created for each predictor\n",
    "\n",
    "# We store categorized predictors from 'predictors_chaid' to 'predictors_chaid_cat' columns.\n",
    "\n",
    "predictors_chaid_cat = []\n",
    "for predictor in predictors_chaid:\n",
    "    \n",
    "    predictor_cat = predictor+'_cat'\n",
    "    predictors_chaid_cat.append(predictor_cat)\n",
    "    \n",
    "    if (predictor not in ['RainTodayFlag']): # 'RainTodayFlag' need not to be categorized\n",
    "        \n",
    "        # TODO: Categorize given predictor 'predictor' by quantiles using function pd.qcut with 'n_cat' categories. \n",
    "        # Note that in the future we will need to categorize also test data, therefore, label the\n",
    "        # new categories by right-end-point of each interval (np.infty for infinity).\n",
    "        ...\n",
    "        \n",
    "    else:\n",
    "        # Already categorized\n",
    "        data_chaid_train[predictor_cat] = data_chaid_train[predictor]\n"
   ]
  },
  {
   "cell_type": "markdown",
<<<<<<< HEAD
   "id": "f666412e",
=======
   "id": "be3f232b",
>>>>>>> f12a2863b8415f4ca7e3e7901f5795be8b550dca
   "metadata": {},
   "source": [
    "## Train"
   ]
  },
  {
   "cell_type": "code",
<<<<<<< HEAD
   "execution_count": 221,
   "id": "dbf928b5",
=======
   "execution_count": null,
   "id": "263bc92d",
>>>>>>> f12a2863b8415f4ca7e3e7901f5795be8b550dca
   "metadata": {},
   "outputs": [],
   "source": [
    "# Now we can fit the model.\n",
    "\n",
    "# The model needs to know if 'ordinal' or 'nominal' predictors are present (only 'nominal' in our case as we have also missing values)\n",
    "independent_columns = dict(zip(predictors_chaid_cat, ['nominal'] * len(predictors_chaid_cat)))\n",
    "\n",
    "# TODO: Choose the parameters carefully. See the algorithm description above.\n",
    "config_chaid = {\n",
    "    'alpha_merge': ..., # minimum significance level for categories not to be merged\n",
    "    'max_depth': ..., #maximum depth of tree\n",
    "    'min_parent_node_size': ..., # minimum number of observations of node for splitting\n",
    "    'min_child_node_size': ..., # minimum number of observations in new node\n",
    "    'split_threshold': ..., # minimum gain for new split\n",
    "}\n",
    "\n",
    "tree_ch = CHAID.Tree.from_pandas_df(\n",
    "    data_chaid_train,\n",
    "    independent_columns,\n",
    "    target,\n",
    "    alpha_merge = config_chaid['alpha_merge'],\n",
    "    max_depth = config_chaid['max_depth'],\n",
    "    min_parent_node_size = config_chaid['min_parent_node_size'],\n",
    "    min_child_node_size = config_chaid['min_child_node_size'],\n",
    "    split_threshold = config_chaid['split_threshold'],\n",
    ")\n",
    "\n",
    "# Tree summary and model evaluation metrics\n",
    "print('*************** Tree Summary ***************')\n",
    "print('Classes: ', len(data_chaid_train[target].unique()))\n",
    "print('Tree Depth: ', tree_ch.max_depth)\n",
    "print('No. of features: ', len(independent_columns))\n",
    "print('--------------------------------------------------------')\n",
    "print(\"\")\n",
    "\n",
    "print('*************** Evaluation on Training Data ***************')\n",
    "print('Accuracy Score: ', tree_ch.accuracy())"
   ]
  },
  {
   "cell_type": "markdown",
<<<<<<< HEAD
   "id": "1f0aac36",
=======
   "id": "db8faa44",
>>>>>>> f12a2863b8415f4ca7e3e7901f5795be8b550dca
   "metadata": {},
   "source": [
    "Note: features_importance not available in this implementation"
   ]
  },
  {
   "cell_type": "markdown",
<<<<<<< HEAD
   "id": "aa5f5c07",
=======
   "id": "62beda16",
>>>>>>> f12a2863b8415f4ca7e3e7901f5795be8b550dca
   "metadata": {},
   "source": [
    "## Evaluate"
   ]
  },
  {
   "cell_type": "markdown",
<<<<<<< HEAD
   "id": "98e7fd58",
=======
   "id": "21568976",
>>>>>>> f12a2863b8415f4ca7e3e7901f5795be8b550dca
   "metadata": {},
   "source": [
    "We evaluate performance of the model using accuracy month by month.\n",
    "\n",
    "Before we can predict for test data, we have to use the same categorization as for the train data."
   ]
  },
  {
   "cell_type": "markdown",
<<<<<<< HEAD
   "id": "8a7e14b0",
=======
   "id": "005c3f7d",
>>>>>>> f12a2863b8415f4ca7e3e7901f5795be8b550dca
   "metadata": {},
   "source": [
    "### Predict"
   ]
  },
  {
   "cell_type": "code",
<<<<<<< HEAD
   "execution_count": 222,
   "id": "690d9596",
=======
   "execution_count": null,
   "id": "75bb2547",
>>>>>>> f12a2863b8415f4ca7e3e7901f5795be8b550dca
   "metadata": {},
   "outputs": [],
   "source": [
    "# First, we need to categorize the train data in the same way as we have categorized the train data\n",
    "\n",
    "for predictor in predictors_chaid:\n",
    "    \n",
    "    predictor_cat = predictor+'_cat'\n",
    "    \n",
    "    if (predictor not in ['RainTodayFlag']): # 'RainTodayFlag' need not be categorized\n",
    "        \n",
    "        # TODO: Categorize predictor 'predictor' using intervals from train data. Use the function\n",
    "        # pd.cut.\n",
    "        labels=list(data_chaid_train[predictor_cat].unique()) # We take the right-end points of intervals from train data\n",
    "        labels = sorted([x for x in labels if str(x) != 'nan']) # We drop 'nan' end point which stands for missing values\n",
    "        bins = [-np.inf] + labels\n",
    "        data_chaid_test[predictor_cat] = ...\n",
    "    else:\n",
    "        # Already categorized\n",
    "        data_chaid_test[predictor_cat] = data_chaid_test[predictor]\n"
   ]
  },
  {
   "cell_type": "code",
<<<<<<< HEAD
   "execution_count": 223,
   "id": "aeeae655",
=======
   "execution_count": null,
   "id": "a227c159",
>>>>>>> f12a2863b8415f4ca7e3e7901f5795be8b550dca
   "metadata": {},
   "outputs": [],
   "source": [
    "# Disclaimer: The implementation does not involve method for prediction. Therefore, we use our own implementation.\n",
    "\n",
    "# Leaves of the tree: list of leaves with rules\n",
    "leaves = tree_ch.classification_rules() # Contains rules for leaves\n",
    "nodes = tree_ch.tree_store # Contains predictions for all nodes (not only leaves)\n",
    "\n",
    "def chaid_predict(data):\n",
    "    \"\"\"\n",
    "        Returns prediction of 'target' using trained CHAID tree for one observation by identifying correct leaf.\n",
    "        \n",
    "        Args:\n",
    "            one observation as in format 'data_chaid' with columns 'predictors_chaid_cat'\n",
    "        \n",
    "        Returns:\n",
    "            float: number of positive cases in identified leaf/number of total cases in identified leaf\n",
    "    \"\"\"\n",
    "\n",
    "    # Iterate over all leaves of the tree and find the correct one\n",
    "    for leaf in leaves:\n",
    "        \n",
    "        # List of rules that determine the leaf\n",
    "        rules = leaf['rules']\n",
    "        rule_i = 0\n",
    "\n",
    "        # Evaluate conditions until one fails\n",
    "        is_member = True\n",
    "        while is_member and (rule_i+1<=len(rules)):\n",
    "            \n",
    "            \n",
    "            var_name = rules[rule_i]['variable']\n",
    "            var_val_list = rules[rule_i]['data']\n",
    "            \n",
    "            if data[var_name] not in var_val_list:\n",
    "                is_member = False\n",
    "            \n",
    "            rule_i = rule_i+1\n",
    "            \n",
    "        if is_member: # All conditions met\n",
    "            \n",
    "            zeros = nodes[leaf['node']]._members[0]\n",
    "            ones = nodes[leaf['node']]._members[1]\n",
    "            \n",
    "            return ones/(zeros+ones)\n",
    "        \n",
    "    return None # No leaf found"
   ]
  },
  {
   "cell_type": "code",
<<<<<<< HEAD
   "execution_count": 224,
   "id": "17ecebc0",
=======
   "execution_count": null,
   "id": "0fb8c045",
>>>>>>> f12a2863b8415f4ca7e3e7901f5795be8b550dca
   "metadata": {},
   "outputs": [],
   "source": [
    "# TODO: Predict target variable on test data in two steps\n",
    "# - use 'chaid_predict' to compute prediction as probability\n",
    "# - convert result to 0/1 values using some threshold (could be done in one step but we want to observer dependence on the threshold)\n",
    "# Finally store the prediction as 'Prediction' column\n",
    "\n",
    "..."
   ]
  },
  {
   "cell_type": "markdown",
<<<<<<< HEAD
   "id": "a2bd16c1",
=======
   "id": "61ae5469",
>>>>>>> f12a2863b8415f4ca7e3e7901f5795be8b550dca
   "metadata": {},
   "source": [
    "### Accuracy"
   ]
  },
  {
   "cell_type": "code",
<<<<<<< HEAD
   "execution_count": 225,
   "id": "90adae60",
=======
   "execution_count": null,
   "id": "48a26b5b",
>>>>>>> f12a2863b8415f4ca7e3e7901f5795be8b550dca
   "metadata": {},
   "outputs": [],
   "source": [
    "# Compute accuracy by 'Month'\n",
    "\n",
    "..."
   ]
  },
  {
   "cell_type": "code",
<<<<<<< HEAD
   "execution_count": 226,
   "id": "9ba69c3e",
=======
   "execution_count": null,
   "id": "8cfb36aa",
>>>>>>> f12a2863b8415f4ca7e3e7901f5795be8b550dca
   "metadata": {},
   "outputs": [],
   "source": [
    "# Inspect stability of the model performance in time\n",
    "\n",
    "ax1 = plt.subplot(111)\n",
    "ax1.bar(range(len(data_chaid_accuracy)), data_chaid_accuracy)\n",
    "ax1.set_xticks(range(len(data_chaid_accuracy)))\n",
    "ax1.set_xticklabels(data_chaid_accuracy.index)\n",
    "ax1.set_xlabel('Month')\n",
    "ax1.set_ylabel('Accuracy')\n",
    "\n",
    "plt.show()"
   ]
  },
  {
   "cell_type": "markdown",
<<<<<<< HEAD
   "id": "fb5716fd",
=======
   "id": "8325594f",
>>>>>>> f12a2863b8415f4ca7e3e7901f5795be8b550dca
   "metadata": {},
   "source": [
    "# Random forest - manually\n",
    "\n",
    "We build our own random forest based on one of the above trees. This includes randomly selecting predictors and observations for the training.\n",
    "\n",
    "The forest consists of CART trees each trained on a fraction of training data. We observe accuracy on data not used when training given tree (validation data) and assess the whole forest by accuracy on separate test data."
   ]
  },
  {
   "cell_type": "code",
<<<<<<< HEAD
   "execution_count": 335,
   "id": "b340e949",
=======
   "execution_count": null,
   "id": "e5070191",
>>>>>>> f12a2863b8415f4ca7e3e7901f5795be8b550dca
   "metadata": {},
   "outputs": [],
   "source": [
    "import random\n",
    "\n",
    "random.seed(17)"
   ]
  },
  {
   "cell_type": "code",
<<<<<<< HEAD
   "execution_count": 340,
   "id": "dd2b3a92",
=======
   "execution_count": null,
   "id": "e6c1958a",
>>>>>>> f12a2863b8415f4ca7e3e7901f5795be8b550dca
   "metadata": {},
   "outputs": [],
   "source": [
    "# Meta parameters\n",
    "target = 'RainTomorrowFlag'\n",
    "\n",
    "n_models = 10 # Number of trees in ensemble\n",
    "p_obs = 0.3 # Prob. that observation is chosen for training of a given tree\n",
    "\n",
    "# TODO: Adjust parameters as above. Note that reasonable forest should consist of trees with distinct random seeds.\n",
    "criterion = 'gini' #(TODO)\n",
    "splitter = 'best' #(TODO)\n",
    "mdepth = 4 #(TODO)\n",
    "min_samples_split = 5 #(TODO)\n",
    "min_samples_leaf = 0.001 #(TODO)\n",
    "minleaf = 100 #(TODO)\n",
    "\n",
    "\n",
    "# We fit 'n_models' models and store them into list\n",
    "clf_list = []\n",
    "for n in range(n_models):\n",
    "    \n",
    "    # TODO: Define 'train_index' a list of indices from 'data_cart_train' to be used for training in given iteration, consider parameter 'p_obs'\n",
    "    train_index = random.sample(list(data_cart_train.index), int(p_obs*len(data_cart_train))) #(TODO)\n",
    "\n",
    "    # Init the model\n",
    "    model = tree.DecisionTreeClassifier(\n",
    "        criterion=criterion,\n",
    "        splitter=splitter, \n",
    "        max_depth=mdepth,\n",
    "        min_samples_split=min_samples_split,\n",
    "        min_samples_leaf=min_samples_leaf, \n",
    "        random_state=n,\n",
    "    )\n",
    "\n",
    "    clf = model.fit(data_cart_train.loc[train_index, predictors], data_cart_train.loc[train_index, target])\n",
    "    \n",
    "    clf_list = clf_list + [model]\n",
    "\n",
    "    if n==0:\n",
    "        # Tree summary and model evaluation metrics\n",
    "        print('*************** Tree Summary ***************')\n",
    "        print('Classes: ', clf.classes_)\n",
    "        print('Tree Depth: ', clf.tree_.max_depth)\n",
    "        print('No. of leaves: ', clf.tree_.n_leaves)\n",
    "        print('No. of features: ', clf.n_features_)\n",
    "        print('--------------------------------------------------------')\n",
    "        print(\"\")\n",
    "        \n",
    "        # TODO: Compute predictions using model.predict_proba for 'data_cart_train' and 'data_cart_test' in the first iteration\n",
    "        data_cart_train['Prediction_forest_prob'] = model.predict_proba(data_cart_train[predictors])[:,1] #(TODO)\n",
    "        data_cart_test['Prediction_forest_prob'] = model.predict_proba(data_cart_test[predictors])[:,1] #(TODO)\n",
    "    \n",
    "    else:\n",
    "        # TODO: Compute predictions using model.predict_proba for 'data_cart_train' and 'data_cart_test' after the first iteration\n",
    "        data_cart_train['Prediction_forest_prob'] = 1/(n+1)*(data_cart_train['Prediction_forest_prob']*n + model.predict_proba(data_cart_train[predictors])[:,1]) #(TODO)\n",
    "        data_cart_test['Prediction_forest_prob'] = 1/(n+1)*(data_cart_test['Prediction_forest_prob']*n + model.predict_proba(data_cart_test[predictors])[:,1]) #(TODO)\n",
    "    \n",
    "    # TODO: Use threshold to transform probabilities to 0/1 values and store prediction as 'Prediction_forest' column in 'data_cart_train' and 'data_cart_test' datasets\n",
    "    data_cart_train['Prediction_forest'] = (data_cart_train['Prediction_forest_prob']>=0.5).astype(int)\n",
    "    data_cart_test['Prediction_forest'] = (data_cart_test['Prediction_forest_prob']>=0.5).astype(int)\n",
    "\n",
    "    print('*************** Evaluation After Iteration '+str(n+1)+' *********')\n",
    "    score_te = 1-abs(data_cart_train['Prediction_forest']-data_cart_train[target]).mean()\n",
    "    print('Accuracy Train: ', score_te)\n",
    "    score_tr = 1-abs(data_cart_test['Prediction_forest']-data_cart_test[target]).mean()\n",
    "    print('Accuracy Valid: ', score_tr)\n",
    "    print('--------------------------------------------------------')\n"
   ]
  },
  {
   "cell_type": "markdown",
<<<<<<< HEAD
   "id": "723e835b",
=======
   "id": "6db4f0da",
>>>>>>> f12a2863b8415f4ca7e3e7901f5795be8b550dca
   "metadata": {},
   "source": [
    "Now we evaluate the performance of our forest. Prediction is simple average of predictions over different trees."
   ]
  },
  {
   "cell_type": "markdown",
<<<<<<< HEAD
   "id": "35a4db07",
=======
   "id": "4c8a8827",
>>>>>>> f12a2863b8415f4ca7e3e7901f5795be8b550dca
   "metadata": {},
   "source": [
    "# Bonus task\n",
    "\n",
    "Use different approach for training our random forest: Choose randomly predictors which will be used for training each of the tree."
   ]
  },
  {
   "cell_type": "markdown",
<<<<<<< HEAD
   "id": "77c94ad3",
=======
   "id": "38ef4f73",
>>>>>>> f12a2863b8415f4ca7e3e7901f5795be8b550dca
   "metadata": {},
   "source": [
    "# Random forest"
   ]
  },
  {
   "cell_type": "markdown",
<<<<<<< HEAD
   "id": "3be29d79",
=======
   "id": "27b86599",
>>>>>>> f12a2863b8415f4ca7e3e7901f5795be8b550dca
   "metadata": {},
   "source": [
    "For this task we use different data points from the same dataset as above. Therefore, we reload the data."
   ]
  },
  {
   "cell_type": "markdown",
<<<<<<< HEAD
   "id": "d265fa67",
=======
   "id": "6f6367d3",
>>>>>>> f12a2863b8415f4ca7e3e7901f5795be8b550dca
   "metadata": {},
   "source": [
    "## Load data\n",
    "\n",
    "Weather data from Australia. The task is to predict if tomorrow is going to rain based on today's weather characteristics.\n",
    "\n",
    "Source: https://www.kaggle.com/jsphyg/weather-dataset-rattle-package\n",
    "\n",
    "**Target description**\n",
    "\n",
    "- MaxTemp: The maximum temperature in degrees celsius\n",
    "\n",
    "**Predictors description**\n",
    "\n",
    "- Rainfall: The amount of rainfall recorded for the day in mm\n",
    "- Evaporation: The so-called Class A pan evaporation (mm) in the 24 hours to 9am\n",
    "- Sunshine: The number of hours of bright sunshine in the day.\n",
    "- Location: The common name of the location of the weather station\n",
    "- WindGustSpeed: The speed (km/h) of the strongest wind gust in the 24 hours to midnight\n",
    "- WindDir9am: Direction of the wind at 9am\n",
    "- WindDir3pm: Direction of the wind at 3pm\n",
    "- Humidity9am:Humidity (percent) at 9am\n",
    "- Humidity3pm: Humidity (percent) at 3pm\n",
    "- Pressure9am: Atmospheric pressure (hpa) reduced to mean sea level at 9am\n",
    "- Pressure3pm: Atmospheric pressure (hpa) reduced to mean sea level at 3pm\n",
    "- Cloud9am: Fraction of sky obscured by cloud at 9am. This is measured in \"oktas\", which are a unit of eigths. It records how many eigths of the sky are obscured by cloud. A 0 measure indicates completely clear sky whilst an 8 indicates that it is completely overcast.\n",
    "- Clousd3pm: Fraction of sky obscured by cloud (in \"oktas\": eighths) at 3pm. See Cload9am for a description of the values\n",
    "\n",
    "\n"
   ]
  },
  {
   "cell_type": "code",
<<<<<<< HEAD
   "execution_count": 307,
   "id": "bda48605",
=======
   "execution_count": null,
   "id": "454f61e0",
>>>>>>> f12a2863b8415f4ca7e3e7901f5795be8b550dca
   "metadata": {},
   "outputs": [],
   "source": [
    "# Import dataset\n",
    "data = pd.read_csv('.\\..\\Data\\weatherAUS.csv', encoding='utf-8')\n",
    "\n",
    "# Keep only specified columns and rows\n",
    "columns = [\"Rainfall\", \"Evaporation\", \"Sunshine\", \"Location\", \"WindGustSpeed\", \"WindDir9am\", \"WindDir3pm\", \"Humidity9am\", \"Humidity3pm\",  \"Pressure9am\", \"Pressure3pm\", \"Cloud9am\", \"Cloud3pm\", \"MaxTemp\"]\n",
    "data_forest = data.loc[data['Location'].isin([\"Canberra\", \"Sydney\", \"Albury\"]), columns]\n",
    "\n",
    "print(f'Number of rows:      {data_forest.shape[0]}')\n",
    "print(f'Number of columns:   {data_forest.shape[1]}')"
   ]
  },
  {
   "cell_type": "code",
<<<<<<< HEAD
   "execution_count": 308,
   "id": "90d8d019",
=======
   "execution_count": null,
   "id": "b41ee6bd",
>>>>>>> f12a2863b8415f4ca7e3e7901f5795be8b550dca
   "metadata": {},
   "outputs": [],
   "source": [
    "data_forest.head()"
   ]
  },
  {
   "cell_type": "code",
<<<<<<< HEAD
   "execution_count": 309,
   "id": "39d2aaf8",
=======
   "execution_count": null,
   "id": "7d3eef64",
>>>>>>> f12a2863b8415f4ca7e3e7901f5795be8b550dca
   "metadata": {},
   "outputs": [],
   "source": [
    "# Descriptive statistics: note that only numerical features are included\n",
    "data_forest.describe()"
   ]
  },
  {
   "cell_type": "markdown",
<<<<<<< HEAD
   "id": "e6488f08",
=======
   "id": "61465dd6",
>>>>>>> f12a2863b8415f4ca7e3e7901f5795be8b550dca
   "metadata": {},
   "source": [
    "## Data manipulation"
   ]
  },
  {
   "cell_type": "code",
<<<<<<< HEAD
   "execution_count": 310,
   "id": "633c4063",
=======
   "execution_count": null,
   "id": "6445efed",
>>>>>>> f12a2863b8415f4ca7e3e7901f5795be8b550dca
   "metadata": {},
   "outputs": [],
   "source": [
    "# Number of missing values in each column\n",
    "data_forest.isna().sum()"
   ]
  },
  {
   "cell_type": "code",
<<<<<<< HEAD
   "execution_count": 311,
   "id": "9630ee5d",
=======
   "execution_count": null,
   "id": "398aa8ad",
>>>>>>> f12a2863b8415f4ca7e3e7901f5795be8b550dca
   "metadata": {},
   "outputs": [],
   "source": [
    "# We treat numerical and categorical features differently\n",
    "data_forest.dtypes"
   ]
  },
  {
   "cell_type": "code",
<<<<<<< HEAD
   "execution_count": 312,
   "id": "aaf730be",
=======
   "execution_count": null,
   "id": "dc1d5941",
>>>>>>> f12a2863b8415f4ca7e3e7901f5795be8b550dca
   "metadata": {},
   "outputs": [],
   "source": [
    "# We denote 'target' the name of the column with target values. \n",
    "# 'predictors_cat' stands for the list categorical predictors\n",
    "# 'predictors_num' stands for the list numerical predictors\n",
    "\n",
    "target = \"MaxTemp\"\n",
    "\n",
    "predictors_cat = list(data_forest.columns[[data_forest[col].dtype == 'object' for col in data_forest.columns]])\n",
    "predictors_num = list(data_forest.columns[[data_forest[col].dtype != 'object' for col in data_forest.columns]])\n",
    "predictors_num.remove(target)"
   ]
  },
  {
   "cell_type": "code",
<<<<<<< HEAD
   "execution_count": 313,
   "id": "a598a9d9",
=======
   "execution_count": null,
   "id": "d8730157",
>>>>>>> f12a2863b8415f4ca7e3e7901f5795be8b550dca
   "metadata": {},
   "outputs": [],
   "source": [
    "# Drop rows with missing target\n",
    "data_forest=data_forest[pd.isnull(data_forest[target])==False]"
   ]
  },
  {
   "cell_type": "markdown",
<<<<<<< HEAD
   "id": "c08bb7e7",
=======
   "id": "a6c036ef",
>>>>>>> f12a2863b8415f4ca7e3e7901f5795be8b550dca
   "metadata": {},
   "source": [
    "### Numerical features"
   ]
  },
  {
   "cell_type": "code",
<<<<<<< HEAD
   "execution_count": 314,
   "id": "3e734c4a",
=======
   "execution_count": null,
   "id": "87762aa4",
>>>>>>> f12a2863b8415f4ca7e3e7901f5795be8b550dca
   "metadata": {},
   "outputs": [],
   "source": [
    "#TODO:  Handle missing values for predictors\n",
    "..."
   ]
  },
  {
   "cell_type": "markdown",
<<<<<<< HEAD
   "id": "4d5de597",
=======
   "id": "869c99b0",
>>>>>>> f12a2863b8415f4ca7e3e7901f5795be8b550dca
   "metadata": {},
   "source": [
    "### Categorical features\n",
    "\n",
    "Two possible approaches:\n",
    "\n",
    "- one-hot encoding\n",
    "- mean-target encoding\n",
    "\n",
    "We investigate both of them separately.\n",
    "\n",
    "After this section, predictors_one_hot contain predictors_cat one-hot-encoded and predictors_mean_target contain predictors_cat mean-target-encoded."
   ]
  },
  {
   "cell_type": "code",
<<<<<<< HEAD
   "execution_count": 315,
   "id": "c0497019",
=======
   "execution_count": null,
   "id": "e54b4142",
>>>>>>> f12a2863b8415f4ca7e3e7901f5795be8b550dca
   "metadata": {},
   "outputs": [],
   "source": [
    "# One-hot encoding. Names of columns of new columns will be stored in 'predictors_one_hot'\n",
    "\n",
    "predictors_one_hot = []\n",
    "for pred in predictors_cat:\n",
    "    \n",
    "    # TODO: Use pd.get_dummies to encode categorical predictors. Store the result to 'data_one_hot' dataframe\n",
    "    # (only columns containing encoded values)\n",
    "    ...\n",
    "    \n",
    "    # Join to data\n",
    "    data_forest = pd.concat([data_forest, data_one_hot], axis=1)\n",
    "    \n",
    "    # Keep new predictors names\n",
    "    predictors_one_hot = predictors_one_hot + list(data_one_hot.columns)\n",
    "    \n"
   ]
  },
  {
   "cell_type": "markdown",
<<<<<<< HEAD
   "id": "e445e309",
=======
   "id": "5305ea40",
>>>>>>> f12a2863b8415f4ca7e3e7901f5795be8b550dca
   "metadata": {},
   "source": [
    "Now, we create function that computes encoding values for given predictor.\n",
    "\n",
    "For binary target, the encoding for given predictor and category is given as a convex combination of mean target value for observations in the category and mean target value for the whole dataset:\n",
    "\n",
    "\\begin{align*}\n",
    "\\frac{\\frac{count_{cat}}{count_{all}}*mean\\_target_{cat}+\\alpha*mean\\_target_{all}}{\\frac{count_{cat}}{count_{all}}+\\alpha},\n",
    "\\end{align*}\n",
    "where $\\alpha$ is a chosen parameter."
   ]
  },
  {
   "cell_type": "code",
<<<<<<< HEAD
   "execution_count": 316,
   "id": "3523a95d",
=======
   "execution_count": null,
   "id": "82da3e4f",
>>>>>>> f12a2863b8415f4ca7e3e7901f5795be8b550dca
   "metadata": {},
   "outputs": [],
   "source": [
    "# Mean-target encoding\n",
    "\n",
    "def mean_target_encoding(data, predictor, target, alpha = 0.01):\n",
    "    \n",
    "    \"\"\"\n",
    "    - Args:\n",
    "        data: dataset\n",
    "        predictor: column name for predictor in data to be encoded\n",
    "        target: column name for target\n",
    "        alpha: parameter in mean-target-encoding (float)\n",
    "        \n",
    "    - Returns:\n",
    "        Dict: key = category in 'predictor', value = encoded category based on 'target' using mean-target encoding with parameter 'alpha'\n",
    "    \"\"\"\n",
    "    \n",
    "    #data[predictor] = data[predictor].fillna(\"MISSING\")\n",
    "    \n",
    "    # TODO: Create dataframe category that contains at least two columns:\n",
    "    # column predictor (use the parameter of the function) contains unique category values for given predictor\n",
    "    # column 'encoding' contains mean-target-encoding for given category computed as above\n",
    "    # Keep in mind, that whenever you apply 'groupby' you have to specify 'dropna'=False to keep also observations with missing values\n",
    "    \n",
    "    ...\n",
    "    \n",
    "    # Create dictionary storing our encoding\n",
    "    encoding = dict(zip(category.index,category['encoding']))\n",
    "    \n",
    "    return encoding\n",
    "\n"
   ]
  },
  {
   "cell_type": "code",
<<<<<<< HEAD
   "execution_count": 317,
   "id": "b92213be",
=======
   "execution_count": null,
   "id": "c0943395",
>>>>>>> f12a2863b8415f4ca7e3e7901f5795be8b550dca
   "metadata": {},
   "outputs": [],
   "source": [
    "# Apply encoding. Names of columns of new columns will be stored in 'predictors_mean_target'\n",
    "\n",
    "predictors_mean_target = []\n",
    "encodings = {}\n",
    "for pred in predictors_cat:\n",
    "    \n",
    "    # New predictor name contains 'MT' and former predictor name\n",
    "    pred_mean_target = pred + \"MT\"\n",
    "    \n",
    "    # TODO: First, compute the encoding for given predictor. Then apply using 'replace' method\n",
    "    # that works on data frames and store values to 'data_forest[pred_mean_target]'\n",
    "    \n",
    "    ...\n",
    "    \n",
    "    # Keep new predictors names\n",
    "    predictors_mean_target = predictors_mean_target + [pred_mean_target]"
   ]
  },
  {
   "cell_type": "code",
<<<<<<< HEAD
   "execution_count": 318,
   "id": "55044472",
=======
   "execution_count": null,
   "id": "02ff59d1",
>>>>>>> f12a2863b8415f4ca7e3e7901f5795be8b550dca
   "metadata": {},
   "outputs": [],
   "source": [
    "# Inspect mean-target encoding\n",
    "\n",
    "for pred in predictors_mean_target:\n",
    "    \n",
    "    temp = encodings[pred]\n",
    "    \n",
    "    # Pyplot does not handle missing values, for some predictors we have to refactor (Warning: this code is data-specific)\n",
    "    if pred != 'LocationMT':\n",
    "        pom = list(temp.keys())[-1]\n",
    "        temp['nan'] = temp.pop(pom)\n",
    "    \n",
    "    # Plot\n",
    "    ax1 = plt.subplot(111)\n",
    "    ax1.bar(range(len(temp)), list(temp.values()))\n",
    "    ax1.set_xticks(range(len(temp)))\n",
    "    ax1.set_xticklabels(temp.keys(), rotation=60)\n",
    "    ax1.set_xlabel('Category')\n",
    "    ax1.set_ylabel('Mean-target')\n",
    "\n",
    "    plt.show()"
   ]
  },
  {
   "cell_type": "markdown",
<<<<<<< HEAD
   "id": "b65186d6",
=======
   "id": "3173ddf6",
>>>>>>> f12a2863b8415f4ca7e3e7901f5795be8b550dca
   "metadata": {},
   "source": [
    "## Fit\n",
    "\n",
    "We train separately based on different encodings."
   ]
  },
  {
   "cell_type": "code",
<<<<<<< HEAD
   "execution_count": 319,
   "id": "a4751dbf",
=======
   "execution_count": null,
   "id": "749a72f2",
>>>>>>> f12a2863b8415f4ca7e3e7901f5795be8b550dca
   "metadata": {},
   "outputs": [],
   "source": [
    "# Split the data. We produce datasets for one-hot and mean-target encodings separately\n",
    "\n",
    "# One-hot encoding\n",
    "X_train_oh, X_test_oh, y_train_oh, y_test_oh = train_test_split(\n",
    "    data_forest[predictors_num+predictors_one_hot], data_forest[target], test_size=0.2, random_state=17\n",
    ")\n",
    "\n",
    "# Mean-target encoding\n",
    "X_train_mt, X_test_mt, y_train_mt, y_test_mt = train_test_split(\n",
    "    data_forest[predictors_num+predictors_mean_target], data_forest[target], test_size=0.2, random_state=17\n",
    ")"
   ]
  },
  {
   "cell_type": "markdown",
<<<<<<< HEAD
   "id": "dda5f63c",
=======
   "id": "45ace5ba",
>>>>>>> f12a2863b8415f4ca7e3e7901f5795be8b550dca
   "metadata": {},
   "source": [
    "### One-hot encoding"
   ]
  },
  {
   "cell_type": "code",
<<<<<<< HEAD
   "execution_count": 4,
   "id": "56e1ead3",
=======
   "execution_count": null,
   "id": "37fe4e6c",
>>>>>>> f12a2863b8415f4ca7e3e7901f5795be8b550dca
   "metadata": {},
   "outputs": [],
   "source": [
    "# TODO: Use 'sklearn' documentation to carefully choose parameters, init and fit the model. Use 'X_train_oh' and 'y_train_oh' data defined above.\n",
    "\n",
    "..."
   ]
  },
  {
   "cell_type": "markdown",
<<<<<<< HEAD
   "id": "9e60b4fe",
=======
   "id": "e5770c31",
>>>>>>> f12a2863b8415f4ca7e3e7901f5795be8b550dca
   "metadata": {},
   "source": [
    "### Mean-target encoding"
   ]
  },
  {
   "cell_type": "code",
<<<<<<< HEAD
   "execution_count": 5,
   "id": "e2c6eff0",
=======
   "execution_count": null,
   "id": "a3f02d24",
>>>>>>> f12a2863b8415f4ca7e3e7901f5795be8b550dca
   "metadata": {},
   "outputs": [],
   "source": [
    "# TODO: Use 'sklearn' documentation to carefully choose parameters, init and fit the model. Use 'X_train_mt' and 'y_train_mt' data defined above.\n",
    "\n",
    "..."
   ]
  },
  {
   "cell_type": "markdown",
<<<<<<< HEAD
   "id": "ef3ee18c",
=======
   "id": "6519717c",
>>>>>>> f12a2863b8415f4ca7e3e7901f5795be8b550dca
   "metadata": {},
   "source": [
    "## Evaluate\n",
    "\n",
    "We evaluate both models based on MAE, MAPE and visually by inspecting the prediction errors. We also consider features' importance.\n",
    "\n",
    "In scikit-learn the feature importance is the decrease in node impurity. The key is that it measures the importance only at a node level. Then, all the nodes are weighted by how many samples reach that node."
   ]
  },
  {
   "cell_type": "markdown",
<<<<<<< HEAD
   "id": "a5abc4ad",
=======
   "id": "585b91e4",
>>>>>>> f12a2863b8415f4ca7e3e7901f5795be8b550dca
   "metadata": {},
   "source": [
    "### One hot encoding"
   ]
  },
  {
   "cell_type": "code",
<<<<<<< HEAD
   "execution_count": 322,
   "id": "e82062ab",
=======
   "execution_count": null,
   "id": "9b71ffcd",
>>>>>>> f12a2863b8415f4ca7e3e7901f5795be8b550dca
   "metadata": {},
   "outputs": [],
   "source": [
    "# Use the forest's predict method on the test data\n",
    "predictions_oh = rf_oh.predict(X_test_oh)\n",
    "\n",
    "# Calculate MAE\n",
    "absolute_error_oh = abs(predictions_oh - y_test_oh)\n",
    "MAE_oh = round(np.mean(absolute_error_oh), 2)\n",
    "\n",
    "# Calculate MAPE\n",
    "absolute_percentage_error_oh = 100 * (absolute_error_oh / y_test_oh)\n",
    "MAPE_oh = round(np.mean(absolute_percentage_error_oh), 2)\n",
    "\n",
    "# Print\n",
    "print('Mean Absolute Error:', MAE_oh, 'degrees.')\n",
    "print('Mean Absolute Percentage Error:', MAPE_oh, '%.')"
   ]
  },
  {
   "cell_type": "code",
<<<<<<< HEAD
   "execution_count": 323,
   "id": "a54859dd",
=======
   "execution_count": null,
   "id": "e9677ce2",
>>>>>>> f12a2863b8415f4ca7e3e7901f5795be8b550dca
   "metadata": {},
   "outputs": [],
   "source": [
    "# Get numerical feature importances\n",
    "importances_oh = list(rf_oh.feature_importances_)\n",
    "\n",
    "# List of tuples with variable and importance\n",
    "feature_importances_oh = [(feature, round(importance, 2)) for feature, importance in zip(predictors_num+predictors_one_hot, importances_oh)]\n",
    "\n",
    "# Sort the feature importances by most important first and take only 10 most powerful\n",
    "feature_importances_oh = sorted(feature_importances_oh, key = lambda x: x[1], reverse = True)[:10]\n",
    "\n",
    "# Print out the feature and importances \n",
    "[print('Variable: {:20} Importance: {}'.format(*pair)) for pair in feature_importances_oh];"
   ]
  },
  {
   "cell_type": "markdown",
<<<<<<< HEAD
   "id": "081b9d33",
=======
   "id": "9c4e698c",
>>>>>>> f12a2863b8415f4ca7e3e7901f5795be8b550dca
   "metadata": {},
   "source": [
    "### Mean target encoding"
   ]
  },
  {
   "cell_type": "code",
<<<<<<< HEAD
   "execution_count": 324,
   "id": "958dea3d",
=======
   "execution_count": null,
   "id": "6415ee9a",
>>>>>>> f12a2863b8415f4ca7e3e7901f5795be8b550dca
   "metadata": {},
   "outputs": [],
   "source": [
    "# Use the forest's predict method on the test data\n",
    "predictions_mt = rf_mt.predict(X_test_mt)\n",
    "\n",
    "# Calculate MAE\n",
    "absolute_error_mt = abs(predictions_mt - y_test_mt)\n",
    "MAE_mt = round(np.mean(absolute_error_mt), 2)\n",
    "\n",
    "# Calculate MAPE\n",
    "absolute_percentage_error_mt = 100 * (absolute_error_mt / y_test_mt)\n",
    "MAPE_mt = round(np.mean(absolute_percentage_error_mt), 2)\n",
    "\n",
    "# Print\n",
    "print('Mean Absolute Error:', MAE_mt, 'degrees.')\n",
    "print('Mean Absolute Percentage Error:', MAPE_mt, '%.')"
   ]
  },
  {
   "cell_type": "code",
<<<<<<< HEAD
   "execution_count": 325,
   "id": "fed3495e",
=======
   "execution_count": null,
   "id": "3e487fe3",
>>>>>>> f12a2863b8415f4ca7e3e7901f5795be8b550dca
   "metadata": {},
   "outputs": [],
   "source": [
    "# Get numerical feature importances\n",
    "importances_mt = list(rf_mt.feature_importances_)\n",
    "\n",
    "# List of tuples with variable and importance\n",
    "feature_importances_mt = [(feature, round(importance, 2)) for feature, importance in zip(predictors_num+predictors_mean_target, importances_mt)]\n",
    "\n",
    "# Sort the feature importances by most important first and take only 10 most powerful\n",
    "feature_importances_mt = sorted(feature_importances_mt, key = lambda x: x[1], reverse = True)[:10]\n",
    "\n",
    "# Print out the feature and importances \n",
    "[print('Variable: {:20} Importance: {}'.format(*pair)) for pair in feature_importances_mt];"
   ]
  },
  {
   "cell_type": "markdown",
<<<<<<< HEAD
   "id": "da8d4021",
=======
   "id": "85018ce9",
>>>>>>> f12a2863b8415f4ca7e3e7901f5795be8b550dca
   "metadata": {},
   "source": [
    "### Comparison"
   ]
  },
  {
   "cell_type": "code",
<<<<<<< HEAD
   "execution_count": 326,
   "id": "7cf94c75",
=======
   "execution_count": null,
   "id": "2f7e875b",
>>>>>>> f12a2863b8415f4ca7e3e7901f5795be8b550dca
   "metadata": {},
   "outputs": [],
   "source": [
    "# Visualise prediction errors. Namely, we plot difference in residuals of the two models against target value in scatter plot.\n",
    "\n",
    "fig, ax1 = plt.subplots(figsize=(10, 10))\n",
    "ax1.scatter(y_test_mt, predictions_mt-predictions_oh)\n",
    "ax1.set_xlabel('Target', size=20)\n",
    "ax1.set_ylabel('Errors difference (mean-target - one-hot)', size=20)\n",
    "\n",
    "plt.show()"
   ]
  },
  {
   "cell_type": "markdown",
<<<<<<< HEAD
   "id": "c684c295",
=======
   "id": "c0bee593",
>>>>>>> f12a2863b8415f4ca7e3e7901f5795be8b550dca
   "metadata": {},
   "source": [
    "## Un-observed value\n",
    "\n",
    "Our aim now is to forecast at location which has not been observed in training data. For one-hot-encoding, we would have to re-train our model. If we use mean-target encoding, only target means have to be computed for the new category."
   ]
  },
  {
   "cell_type": "code",
<<<<<<< HEAD
   "execution_count": 327,
   "id": "992355cf",
=======
   "execution_count": null,
   "id": "168f2d25",
>>>>>>> f12a2863b8415f4ca7e3e7901f5795be8b550dca
   "metadata": {},
   "outputs": [],
   "source": [
    "# We import new dataset and keep values only for observation from 'Location'==\"Perth\".\n",
    "\n",
    "data_new = pd.read_csv('.\\..\\Data\\weatherAUS.csv', encoding='utf-8')\n",
    "\n",
    "columns = [\"Rainfall\", \"Evaporation\", \"Sunshine\", \"Location\", \"WindGustSpeed\", \"WindDir9am\", \"WindDir3pm\", \"Humidity9am\", \"Humidity3pm\",  \"Pressure9am\", \"Pressure3pm\", \"Cloud9am\", \"Cloud3pm\", \"MaxTemp\"]\n",
    "data_new = data_new.loc[data_new['Location'].isin([\"Perth\"]), columns]\n",
    "\n",
    "print(f'Number of rows:      {data_new.shape[0]}')\n",
    "print(f'Number of columns:   {data_new.shape[1]}')"
   ]
  },
  {
   "cell_type": "code",
<<<<<<< HEAD
   "execution_count": 328,
   "id": "f11c824b",
=======
   "execution_count": null,
   "id": "1cdd5084",
>>>>>>> f12a2863b8415f4ca7e3e7901f5795be8b550dca
   "metadata": {},
   "outputs": [],
   "source": [
    "# We handle missing values as previously\n",
    "data_new=data_new[pd.isnull(data_new[target])==False]\n",
    "data_new[predictors_num]=data_new[predictors_num].fillna(data_new[predictors_num].mean())"
   ]
  },
  {
   "cell_type": "code",
<<<<<<< HEAD
   "execution_count": 329,
   "id": "06af0731",
=======
   "execution_count": null,
   "id": "04278200",
>>>>>>> f12a2863b8415f4ca7e3e7901f5795be8b550dca
   "metadata": {},
   "outputs": [],
   "source": [
    "# We have the following categorical predictors\n",
    "predictors_cat"
   ]
  },
  {
   "cell_type": "code",
<<<<<<< HEAD
   "execution_count": 330,
   "id": "33e74497",
=======
   "execution_count": null,
   "id": "2ef2a987",
>>>>>>> f12a2863b8415f4ca7e3e7901f5795be8b550dca
   "metadata": {},
   "outputs": [],
   "source": [
    "# TODO: 'WindDir9am' and 'WindDir3pm' can be encoded using previously estimated mean-targets. \n",
    "# As previously, store new predictors as 'data_new['WindDir9amMT']', 'data_new['WindDir3pmMT']'\n",
    "\n",
    "..."
   ]
  },
  {
   "cell_type": "code",
<<<<<<< HEAD
   "execution_count": 331,
   "id": "6d3997f9",
=======
   "execution_count": null,
   "id": "09cf80b9",
>>>>>>> f12a2863b8415f4ca7e3e7901f5795be8b550dca
   "metadata": {},
   "outputs": [],
   "source": [
    "# For 'Location' that contains previously unobserved value, we have to compute encoding from scratch. We therefore recompute\n",
    "# all the encoding on both new and old data. New encoding can be used also for 'WindDir9am', 'WindDir3pm'.\n",
    "\n",
    "# For 'Location' we compute encodings for all categories but then apply only for \"Perth\".\n",
    "\n",
    "encodings_new = {}\n",
    "for pred in predictors_cat:\n",
    "    \n",
    "    # New predictor name contains 'MT' and former predictor name\n",
    "    pred_mean_target = pred + \"MT\"\n",
    "    \n",
    "    # TODO: First, compute the encoding for given predictor using both data_new and data_forest. \n",
    "    #Then apply using 'replace' method that works on data frames and store values to 'data_new[pred_mean_target]'\n",
    "    \n",
    "    ..."
   ]
  },
  {
   "cell_type": "code",
<<<<<<< HEAD
   "execution_count": 332,
   "id": "86c11884",
=======
   "execution_count": null,
   "id": "f1261cfe",
>>>>>>> f12a2863b8415f4ca7e3e7901f5795be8b550dca
   "metadata": {},
   "outputs": [],
   "source": [
    "# The encoding vlues for 'Location' slightly change\n",
    "encodings['LocationMT']"
   ]
  },
  {
   "cell_type": "code",
<<<<<<< HEAD
   "execution_count": 333,
   "id": "99854e65",
=======
   "execution_count": null,
   "id": "be8f1ac2",
>>>>>>> f12a2863b8415f4ca7e3e7901f5795be8b550dca
   "metadata": {},
   "outputs": [],
   "source": [
    "encodings_new['LocationMT']"
   ]
  },
  {
   "cell_type": "code",
<<<<<<< HEAD
   "execution_count": 334,
   "id": "958579f1",
=======
   "execution_count": null,
   "id": "8515476a",
>>>>>>> f12a2863b8415f4ca7e3e7901f5795be8b550dca
   "metadata": {},
   "outputs": [],
   "source": [
    "# Now we can predict and evaluate MAE and MAPE\n",
    "\n",
    "# Use the forest's predict method on the test data\n",
    "predictions_mt_new = rf_mt.predict(data_new[predictors_num+predictors_mean_target])\n",
    "\n",
    "# Calculate MAE\n",
    "absolute_error_mt_new = abs(predictions_mt_new - data_new[target])\n",
    "MAE_mt_new = round(np.mean(absolute_error_mt_new), 2)\n",
    "\n",
    "# Calculate MAPE\n",
    "absolute_percentage_error_mt_new = 100 * (absolute_error_mt_new / data_new[target])\n",
    "MAPE_mt_new = round(np.mean(absolute_percentage_error_mt_new), 2)\n",
    "\n",
    "# Print\n",
    "print('Mean Absolute Error:', MAE_mt_new, 'degrees.')\n",
    "print('Mean Absolute Percentage Error:', MAPE_mt_new, '%.')"
   ]
  }
 ],
 "metadata": {
  "kernelspec": {
   "display_name": "Python 3 (ipykernel)",
   "language": "python",
   "name": "python3"
  },
  "language_info": {
   "codemirror_mode": {
    "name": "ipython",
    "version": 3
   },
   "file_extension": ".py",
   "mimetype": "text/x-python",
   "name": "python",
   "nbconvert_exporter": "python",
   "pygments_lexer": "ipython3",
<<<<<<< HEAD
   "version": "3.8.8"
=======
   "version": "3.9.7"
>>>>>>> f12a2863b8415f4ca7e3e7901f5795be8b550dca
  },
  "toc": {
   "base_numbering": 1,
   "nav_menu": {},
   "number_sections": true,
   "sideBar": true,
   "skip_h1_title": false,
   "title_cell": "Table of Contents",
   "title_sidebar": "Contents",
   "toc_cell": false,
   "toc_position": {
    "height": "calc(100% - 180px)",
    "left": "10px",
    "top": "150px",
<<<<<<< HEAD
    "width": "287px"
=======
    "width": "165px"
>>>>>>> f12a2863b8415f4ca7e3e7901f5795be8b550dca
   },
   "toc_section_display": true,
   "toc_window_display": true
  },
  "varInspector": {
   "cols": {
    "lenName": 16,
    "lenType": 16,
    "lenVar": 40
   },
   "kernels_config": {
    "python": {
     "delete_cmd_postfix": "",
     "delete_cmd_prefix": "del ",
     "library": "var_list.py",
     "varRefreshCmd": "print(var_dic_list())"
    },
    "r": {
     "delete_cmd_postfix": ") ",
     "delete_cmd_prefix": "rm(",
     "library": "var_list.r",
     "varRefreshCmd": "cat(var_dic_list()) "
    }
   },
   "types_to_exclude": [
    "module",
    "function",
    "builtin_function_or_method",
    "instance",
    "_Feature"
   ],
   "window_display": false
  }
 },
 "nbformat": 4,
 "nbformat_minor": 5
}
